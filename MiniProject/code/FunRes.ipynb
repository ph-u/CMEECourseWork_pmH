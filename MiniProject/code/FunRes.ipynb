{
 "cells": [
  {
   "cell_type": "markdown",
   "metadata": {},
   "source": [
    "# Data pre-processing"
   ]
  },
  {
   "cell_type": "code",
   "execution_count": 1,
   "metadata": {
    "ExecuteTime": {
     "end_time": "2019-11-18T10:11:51.838570Z",
     "start_time": "2019-11-18T10:11:51.368Z"
    }
   },
   "outputs": [],
   "source": [
    "a.0<-read.csv(\"../Data/ThermRespData.csv\", header = T)"
   ]
  },
  {
   "cell_type": "code",
   "execution_count": 2,
   "metadata": {
    "ExecuteTime": {
     "end_time": "2019-11-18T10:12:06.718133Z",
     "start_time": "2019-11-18T10:12:06.594Z"
    }
   },
   "outputs": [
    {
     "name": "stdout",
     "output_type": "stream",
     "text": [
      "'data.frame':\t11768 obs. of  78 variables:\n",
      " $ Input                 : Factor w/ 2 levels \"Alex\",\"Richard\": 2 2 2 2 2 2 2 2 2 2 ...\n",
      " $ ID                    : int  1 1 1 1 1 2 2 2 2 2 ...\n",
      " $ OrignalTraitName      : Factor w/ 80 levels \"apparent co2 assimilation rate\",..: 63 63 63 63 63 63 63 63 63 63 ...\n",
      " $ OriginalTraitDef      : logi  NA NA NA NA NA NA ...\n",
      " $ StandardisedTraitName : Factor w/ 3 levels \"gross photosynthesis rate\",..: 2 2 2 2 2 2 2 2 2 2 ...\n",
      " $ StandardisedTraitDef  : logi  NA NA NA NA NA NA ...\n",
      " $ OriginalTraitValue    : num  9.88 11.74 10.58 6.51 2.66 ...\n",
      " $ OriginalTraitUnit     : Factor w/ 77 levels \"?\",\"%\",\"% of max\",..: 51 51 51 51 51 51 51 51 51 51 ...\n",
      " $ OriginalErrorPos      : Factor w/ 1713 levels \"-0.00493421\",..: NA NA NA NA NA NA NA NA NA NA ...\n",
      " $ OriginalErrorNeg      : Factor w/ 1709 levels \"-0.013043478\",..: NA NA NA NA NA NA NA NA NA NA ...\n",
      " $ OriginalErrorUnit     : Factor w/ 7 levels \"1 SE\",\"1 SEM\",..: NA NA NA NA NA NA NA NA NA NA ...\n",
      " $ StandardisedTraitValue: num  9.88e-06 9.88e-06 9.88e-06 9.88e-06 9.88e-06 1.12e-05 1.12e-05 1.12e-05 1.12e-05 1.12e-05 ...\n",
      " $ StandardisedTraitUnit : Factor w/ 9 levels \"mol co2 kg(Chl a)^-1 s^-1\",..: 8 8 8 8 8 8 8 8 8 8 ...\n",
      " $ StandardisedErrorPos  : logi  NA NA NA NA NA NA ...\n",
      " $ StandardisedErrorNeg  : int  NA NA NA NA NA NA NA NA NA NA ...\n",
      " $ StandardisedErrorUnit : int  NA NA NA NA NA NA NA NA NA NA ...\n",
      " $ Replicates            : Factor w/ 17 levels \"02-Mar\",\"04-May\",..: 9 9 9 9 9 9 9 9 9 9 ...\n",
      " $ Consumer              : Factor w/ 253 levels \"Abutilon theophrasti\",..: 200 200 200 200 200 200 200 200 200 200 ...\n",
      " $ ConCommon             : logi  NA NA NA NA NA NA ...\n",
      " $ Habitat               : Factor w/ 5 levels \"aquatic\",\"freshwater\",..: 5 5 5 5 5 5 5 5 5 5 ...\n",
      " $ Location              : Factor w/ 187 levels \"Abraham's Woods, Green County, Wisconsin, USA\",..: 116 116 116 116 116 116 116 116 116 116 ...\n",
      " $ LocationType          : Factor w/ 4 levels \"author\",\"Author\",..: 4 4 4 4 4 4 4 4 4 4 ...\n",
      " $ LocationDate          : Factor w/ 82 levels \"14 to 16 June 1993\",..: NA NA NA NA NA NA NA NA NA NA ...\n",
      " $ CoordinateType        : Factor w/ 2 levels \"Article\",\"Gazetteer\": 2 2 2 2 2 2 2 2 2 2 ...\n",
      " $ Latitude              : num  39 39 39 39 39 ...\n",
      " $ Longitude             : num  -76.6 -76.6 -76.6 -76.6 -76.6 ...\n",
      " $ ConThermy             : logi  NA NA NA NA NA NA ...\n",
      " $ ConStage              : Factor w/ 84 levels \"1 year old leaves\",..: 44 44 44 44 44 44 44 44 44 44 ...\n",
      " $ ConSize               : num  NA NA NA NA NA NA NA NA NA NA ...\n",
      " $ ConSizeUnit           : Factor w/ 6 levels \"cm\",\"cm^2\",\"g\",..: NA NA NA NA NA NA NA NA NA NA ...\n",
      " $ ConSizeType           : Factor w/ 9 levels \"area\",\"diameter\",..: NA NA NA NA NA NA NA NA NA NA ...\n",
      " $ ConDenValue           : logi  NA NA NA NA NA NA ...\n",
      " $ ConDenUnit            : num  NA NA NA NA NA NA NA NA NA NA ...\n",
      " $ ConTemp               : num  20 25 30 35 40 20 25 30 35 40 ...\n",
      " $ ConTempUnit           : Factor w/ 2 levels \"celsius\",\"Celsius\": 1 1 1 1 1 1 1 1 1 1 ...\n",
      " $ ConTempMethod         : Factor w/ 5 levels \"ambient (inferred)\",..: 2 2 2 2 2 2 2 2 2 2 ...\n",
      " $ Labfield              : Factor w/ 3 levels \"field\",\"lab\",..: 2 2 2 2 2 2 2 2 2 2 ...\n",
      " $ Labtemp               : Factor w/ 78 levels \"-5\",\"0\",\"0.5\",..: 24 24 24 24 24 24 24 24 24 24 ...\n",
      " $ Labtempunit           : Factor w/ 4 levels \"atmospheric\",..: 4 4 4 4 4 4 4 4 4 4 ...\n",
      " $ Labtime               : num  NA NA NA NA NA NA NA NA NA NA ...\n",
      " $ Labtimeunit           : Factor w/ 13 levels \"d\",\"day\",\"days\",..: NA NA NA NA NA NA NA NA NA NA ...\n",
      " $ ArenaValue            : Factor w/ 20 levels \"0.42\",\"1.25\",..: NA NA NA NA NA NA NA NA NA NA ...\n",
      " $ ArenaUnit             : Factor w/ 5 levels \"cm\",\"cm^3\",\"litres\",..: NA NA NA NA NA NA NA NA NA NA ...\n",
      " $ AmbientTemp           : num  NA NA NA NA NA NA NA NA NA NA ...\n",
      " $ AmbientTempUnit       : Factor w/ 1 level \"celsius\": NA NA NA NA NA NA NA NA NA NA ...\n",
      " $ AmbientLight          : Factor w/ 67 levels \"0\",\"0.02\",\"10\",..: 5 5 5 5 5 19 19 19 19 19 ...\n",
      " $ AmbientLightUnit      : Factor w/ 24 levels \"erg s^-1 cm^-2 red light\",..: 12 12 12 12 12 12 12 12 12 12 ...\n",
      " $ Resource              : Factor w/ 11 levels \"14C-bicarbonate\",..: 2 2 2 2 2 2 2 2 2 2 ...\n",
      " $ ResCommon             : logi  NA NA NA NA NA NA ...\n",
      " $ ResStage              : logi  NA NA NA NA NA NA ...\n",
      " $ ResThermy             : logi  NA NA NA NA NA NA ...\n",
      " $ ResTemp               : logi  NA NA NA NA NA NA ...\n",
      " $ ResTempMethod         : logi  NA NA NA NA NA NA ...\n",
      " $ ResSize               : logi  NA NA NA NA NA NA ...\n",
      " $ ResSizeUnit           : logi  NA NA NA NA NA NA ...\n",
      " $ ResDenValue           : Factor w/ 35 levels \"0.033\",\"0.1\",..: 25 25 25 25 25 25 25 25 25 25 ...\n",
      " $ ResDenUnit            : Factor w/ 17 levels \"%\",\"mg C l^-1\",..: 1 1 1 1 1 1 1 1 1 1 ...\n",
      " $ ResRepValue           : int  NA NA NA NA NA NA NA NA NA NA ...\n",
      " $ ResRepUnit            : Factor w/ 9 levels \"%\",\"microbar\",..: NA NA NA NA NA NA NA NA NA NA ...\n",
      " $ ObsTimeValue          : Factor w/ 18 levels \"1\",\"10\",\"12\",..: NA NA NA NA NA NA NA NA NA NA ...\n",
      " $ ObsTimeUnit           : Factor w/ 6 levels \"days\",\"hour\",..: NA NA NA NA NA NA NA NA NA NA ...\n",
      " $ EquilibTimeValue      : num  NA NA NA NA NA NA NA NA NA NA ...\n",
      " $ EquilibTimeUnit       : Factor w/ 9 levels \"days\",\"h\",\"hour\",..: NA NA NA NA NA NA NA NA NA NA ...\n",
      " $ AcclimFixTemp         : Factor w/ 23 levels \"-5\",\"12.2\",\"12.5\",..: NA NA NA NA NA NA NA NA NA NA ...\n",
      " $ AcclimFixTempUnit     : Factor w/ 2 levels \"celius\",\"celsius\": NA NA NA NA NA NA NA NA NA NA ...\n",
      " $ AcclimFixTempDur      : num  NA NA NA NA NA NA NA NA NA NA ...\n",
      " $ AcclimFixTempDurUnit  : Factor w/ 6 levels \"days\",\"hour\",..: NA NA NA NA NA NA NA NA NA NA ...\n",
      " $ AcclimVarTemp         : num  NA NA NA NA NA NA NA NA NA NA ...\n",
      " $ AcclimVarTempUnit     : Factor w/ 1 level \"celsius\": NA NA NA NA NA NA NA NA NA NA ...\n",
      " $ AcclimVarTempDur      : num  NA NA NA NA NA NA NA NA NA NA ...\n",
      " $ AcclimVarTempDurUnit  : Factor w/ 6 levels \"d\",\"day\",\"h\",..: NA NA NA NA NA NA NA NA NA NA ...\n",
      " $ LabGrowthTemp         : Factor w/ 54 levels \"0\",\"0.5\",\"10\",..: 13 13 13 13 13 13 13 13 13 13 ...\n",
      " $ LabGrowthTempUnit     : Factor w/ 2 levels \"celsius\",\"Celsius\": 2 2 2 2 2 2 2 2 2 2 ...\n",
      " $ LabGrowthDur          : num  NA NA NA NA NA NA NA NA NA NA ...\n",
      " $ LabGrowthDurUnit      : Factor w/ 9 levels \"d\",\"day\",\"days\",..: NA NA NA NA NA NA NA NA NA NA ...\n",
      " $ Citation              : Factor w/ 145 levels \"Adamec, L. (1997) Photosynthetic characteristics of the aquatic carnivorous plant Aldrovanda vesiculosa. Aquati\"| __truncated__,..: 113 113 113 113 113 113 113 113 113 113 ...\n",
      " $ FigureTable           : Factor w/ 113 levels \"1\",\"10\",\"1a\",..: 7 7 7 7 7 7 7 7 7 7 ...\n",
      " $ Notes                 : Factor w/ 165 levels \"1% oxygen, grown in alpine transplant garden\",..: 111 111 111 111 111 111 111 111 111 111 ...\n"
     ]
    }
   ],
   "source": [
    "str(a.0)"
   ]
  },
  {
   "cell_type": "code",
   "execution_count": null,
   "metadata": {},
   "outputs": [],
   "source": []
  }
 ],
 "metadata": {
  "kernelspec": {
   "display_name": "R",
   "language": "R",
   "name": "ir"
  },
  "language_info": {
   "codemirror_mode": "r",
   "file_extension": ".r",
   "mimetype": "text/x-r-source",
   "name": "R",
   "pygments_lexer": "r",
   "version": "3.6.0"
  },
  "latex_envs": {
   "LaTeX_envs_menu_present": true,
   "autoclose": true,
   "autocomplete": true,
   "bibliofile": "biblio.bib",
   "cite_by": "apalike",
   "current_citInitial": 1,
   "eqLabelWithNumbers": true,
   "eqNumInitial": 1,
   "hotkeys": {
    "equation": "Ctrl-E",
    "itemize": "Ctrl-I"
   },
   "labels_anchors": false,
   "latex_user_defs": false,
   "report_style_numbering": true,
   "user_envs_cfg": true
  },
  "varInspector": {
   "cols": {
    "lenName": 16,
    "lenType": 16,
    "lenVar": 40
   },
   "kernels_config": {
    "python": {
     "delete_cmd_postfix": "",
     "delete_cmd_prefix": "del ",
     "library": "var_list.py",
     "varRefreshCmd": "print(var_dic_list())"
    },
    "r": {
     "delete_cmd_postfix": ") ",
     "delete_cmd_prefix": "rm(",
     "library": "var_list.r",
     "varRefreshCmd": "cat(var_dic_list()) "
    }
   },
   "types_to_exclude": [
    "module",
    "function",
    "builtin_function_or_method",
    "instance",
    "_Feature"
   ],
   "window_display": false
  }
 },
 "nbformat": 4,
 "nbformat_minor": 2
}
