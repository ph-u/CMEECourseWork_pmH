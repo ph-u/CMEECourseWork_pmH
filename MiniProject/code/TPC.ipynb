{
 "cells": [
  {
   "cell_type": "markdown",
   "metadata": {},
   "source": [
    "# Data pre-processing"
   ]
  },
  {
   "cell_type": "code",
   "execution_count": 12,
   "metadata": {
    "ExecuteTime": {
     "end_time": "2019-11-18T09:12:17.853380Z",
     "start_time": "2019-11-18T09:12:17.706Z"
    }
   },
   "outputs": [],
   "source": [
    "library(repr) ; options(repr.plot.width=5, repr.plot.height= 5) # Change plot sizes (in cm) - this bit of code is only relevant if you are using a juyter notebook - ignore otherwise"
   ]
  },
  {
   "cell_type": "code",
   "execution_count": 8,
   "metadata": {
    "ExecuteTime": {
     "end_time": "2019-11-18T09:08:14.743336Z",
     "start_time": "2019-11-18T09:08:13.808Z"
    }
   },
   "outputs": [
    {
     "name": "stderr",
     "output_type": "stream",
     "text": [
      "Registered S3 methods overwritten by 'ggplot2':\n",
      "  method         from \n",
      "  [.quosures     rlang\n",
      "  c.quosures     rlang\n",
      "  print.quosures rlang\n"
     ]
    }
   ],
   "source": [
    "library(ggplot2)"
   ]
  },
  {
   "cell_type": "code",
   "execution_count": 5,
   "metadata": {
    "ExecuteTime": {
     "end_time": "2019-11-18T09:06:27.376416Z",
     "start_time": "2019-11-18T09:06:26.626Z"
    }
   },
   "outputs": [],
   "source": [
    "a.0<-read.csv(\"../Data/ThermRespData.csv\", header = T)"
   ]
  },
  {
   "cell_type": "code",
   "execution_count": 2,
   "metadata": {
    "ExecuteTime": {
     "end_time": "2019-11-18T08:44:33.965476Z",
     "start_time": "2019-11-18T08:44:33.843Z"
    }
   },
   "outputs": [
    {
     "name": "stdout",
     "output_type": "stream",
     "text": [
      "'data.frame':\t11768 obs. of  78 variables:\n",
      " $ Input                 : Factor w/ 2 levels \"Alex\",\"Richard\": 2 2 2 2 2 2 2 2 2 2 ...\n",
      " $ ID                    : int  1 1 1 1 1 2 2 2 2 2 ...\n",
      " $ OrignalTraitName      : Factor w/ 80 levels \"apparent co2 assimilation rate\",..: 63 63 63 63 63 63 63 63 63 63 ...\n",
      " $ OriginalTraitDef      : logi  NA NA NA NA NA NA ...\n",
      " $ StandardisedTraitName : Factor w/ 3 levels \"gross photosynthesis rate\",..: 2 2 2 2 2 2 2 2 2 2 ...\n",
      " $ StandardisedTraitDef  : logi  NA NA NA NA NA NA ...\n",
      " $ OriginalTraitValue    : num  9.88 11.74 10.58 6.51 2.66 ...\n",
      " $ OriginalTraitUnit     : Factor w/ 77 levels \"?\",\"%\",\"% of max\",..: 51 51 51 51 51 51 51 51 51 51 ...\n",
      " $ OriginalErrorPos      : Factor w/ 1713 levels \"-0.00493421\",..: NA NA NA NA NA NA NA NA NA NA ...\n",
      " $ OriginalErrorNeg      : Factor w/ 1709 levels \"-0.013043478\",..: NA NA NA NA NA NA NA NA NA NA ...\n",
      " $ OriginalErrorUnit     : Factor w/ 7 levels \"1 SE\",\"1 SEM\",..: NA NA NA NA NA NA NA NA NA NA ...\n",
      " $ StandardisedTraitValue: num  9.88e-06 9.88e-06 9.88e-06 9.88e-06 9.88e-06 1.12e-05 1.12e-05 1.12e-05 1.12e-05 1.12e-05 ...\n",
      " $ StandardisedTraitUnit : Factor w/ 9 levels \"mol co2 kg(Chl a)^-1 s^-1\",..: 8 8 8 8 8 8 8 8 8 8 ...\n",
      " $ StandardisedErrorPos  : logi  NA NA NA NA NA NA ...\n",
      " $ StandardisedErrorNeg  : int  NA NA NA NA NA NA NA NA NA NA ...\n",
      " $ StandardisedErrorUnit : int  NA NA NA NA NA NA NA NA NA NA ...\n",
      " $ Replicates            : Factor w/ 17 levels \"02-Mar\",\"04-May\",..: 9 9 9 9 9 9 9 9 9 9 ...\n",
      " $ Consumer              : Factor w/ 253 levels \"Abutilon theophrasti\",..: 200 200 200 200 200 200 200 200 200 200 ...\n",
      " $ ConCommon             : logi  NA NA NA NA NA NA ...\n",
      " $ Habitat               : Factor w/ 5 levels \"aquatic\",\"freshwater\",..: 5 5 5 5 5 5 5 5 5 5 ...\n",
      " $ Location              : Factor w/ 187 levels \"Abraham's Woods, Green County, Wisconsin, USA\",..: 116 116 116 116 116 116 116 116 116 116 ...\n",
      " $ LocationType          : Factor w/ 4 levels \"author\",\"Author\",..: 4 4 4 4 4 4 4 4 4 4 ...\n",
      " $ LocationDate          : Factor w/ 82 levels \"14 to 16 June 1993\",..: NA NA NA NA NA NA NA NA NA NA ...\n",
      " $ CoordinateType        : Factor w/ 2 levels \"Article\",\"Gazetteer\": 2 2 2 2 2 2 2 2 2 2 ...\n",
      " $ Latitude              : num  39 39 39 39 39 ...\n",
      " $ Longitude             : num  -76.6 -76.6 -76.6 -76.6 -76.6 ...\n",
      " $ ConThermy             : logi  NA NA NA NA NA NA ...\n",
      " $ ConStage              : Factor w/ 84 levels \"1 year old leaves\",..: 44 44 44 44 44 44 44 44 44 44 ...\n",
      " $ ConSize               : num  NA NA NA NA NA NA NA NA NA NA ...\n",
      " $ ConSizeUnit           : Factor w/ 6 levels \"cm\",\"cm^2\",\"g\",..: NA NA NA NA NA NA NA NA NA NA ...\n",
      " $ ConSizeType           : Factor w/ 9 levels \"area\",\"diameter\",..: NA NA NA NA NA NA NA NA NA NA ...\n",
      " $ ConDenValue           : logi  NA NA NA NA NA NA ...\n",
      " $ ConDenUnit            : num  NA NA NA NA NA NA NA NA NA NA ...\n",
      " $ ConTemp               : num  20 25 30 35 40 20 25 30 35 40 ...\n",
      " $ ConTempUnit           : Factor w/ 2 levels \"celsius\",\"Celsius\": 1 1 1 1 1 1 1 1 1 1 ...\n",
      " $ ConTempMethod         : Factor w/ 5 levels \"ambient (inferred)\",..: 2 2 2 2 2 2 2 2 2 2 ...\n",
      " $ Labfield              : Factor w/ 3 levels \"field\",\"lab\",..: 2 2 2 2 2 2 2 2 2 2 ...\n",
      " $ Labtemp               : Factor w/ 78 levels \"-5\",\"0\",\"0.5\",..: 24 24 24 24 24 24 24 24 24 24 ...\n",
      " $ Labtempunit           : Factor w/ 4 levels \"atmospheric\",..: 4 4 4 4 4 4 4 4 4 4 ...\n",
      " $ Labtime               : num  NA NA NA NA NA NA NA NA NA NA ...\n",
      " $ Labtimeunit           : Factor w/ 13 levels \"d\",\"day\",\"days\",..: NA NA NA NA NA NA NA NA NA NA ...\n",
      " $ ArenaValue            : Factor w/ 20 levels \"0.42\",\"1.25\",..: NA NA NA NA NA NA NA NA NA NA ...\n",
      " $ ArenaUnit             : Factor w/ 5 levels \"cm\",\"cm^3\",\"litres\",..: NA NA NA NA NA NA NA NA NA NA ...\n",
      " $ AmbientTemp           : num  NA NA NA NA NA NA NA NA NA NA ...\n",
      " $ AmbientTempUnit       : Factor w/ 1 level \"celsius\": NA NA NA NA NA NA NA NA NA NA ...\n",
      " $ AmbientLight          : Factor w/ 67 levels \"0\",\"0.02\",\"10\",..: 5 5 5 5 5 19 19 19 19 19 ...\n",
      " $ AmbientLightUnit      : Factor w/ 24 levels \"erg s^-1 cm^-2 red light\",..: 12 12 12 12 12 12 12 12 12 12 ...\n",
      " $ Resource              : Factor w/ 11 levels \"14C-bicarbonate\",..: 2 2 2 2 2 2 2 2 2 2 ...\n",
      " $ ResCommon             : logi  NA NA NA NA NA NA ...\n",
      " $ ResStage              : logi  NA NA NA NA NA NA ...\n",
      " $ ResThermy             : logi  NA NA NA NA NA NA ...\n",
      " $ ResTemp               : logi  NA NA NA NA NA NA ...\n",
      " $ ResTempMethod         : logi  NA NA NA NA NA NA ...\n",
      " $ ResSize               : logi  NA NA NA NA NA NA ...\n",
      " $ ResSizeUnit           : logi  NA NA NA NA NA NA ...\n",
      " $ ResDenValue           : Factor w/ 35 levels \"0.033\",\"0.1\",..: 25 25 25 25 25 25 25 25 25 25 ...\n",
      " $ ResDenUnit            : Factor w/ 17 levels \"%\",\"mg C l^-1\",..: 1 1 1 1 1 1 1 1 1 1 ...\n",
      " $ ResRepValue           : int  NA NA NA NA NA NA NA NA NA NA ...\n",
      " $ ResRepUnit            : Factor w/ 9 levels \"%\",\"microbar\",..: NA NA NA NA NA NA NA NA NA NA ...\n",
      " $ ObsTimeValue          : Factor w/ 18 levels \"1\",\"10\",\"12\",..: NA NA NA NA NA NA NA NA NA NA ...\n",
      " $ ObsTimeUnit           : Factor w/ 6 levels \"days\",\"hour\",..: NA NA NA NA NA NA NA NA NA NA ...\n",
      " $ EquilibTimeValue      : num  NA NA NA NA NA NA NA NA NA NA ...\n",
      " $ EquilibTimeUnit       : Factor w/ 9 levels \"days\",\"h\",\"hour\",..: NA NA NA NA NA NA NA NA NA NA ...\n",
      " $ AcclimFixTemp         : Factor w/ 23 levels \"-5\",\"12.2\",\"12.5\",..: NA NA NA NA NA NA NA NA NA NA ...\n",
      " $ AcclimFixTempUnit     : Factor w/ 2 levels \"celius\",\"celsius\": NA NA NA NA NA NA NA NA NA NA ...\n",
      " $ AcclimFixTempDur      : num  NA NA NA NA NA NA NA NA NA NA ...\n",
      " $ AcclimFixTempDurUnit  : Factor w/ 6 levels \"days\",\"hour\",..: NA NA NA NA NA NA NA NA NA NA ...\n",
      " $ AcclimVarTemp         : num  NA NA NA NA NA NA NA NA NA NA ...\n",
      " $ AcclimVarTempUnit     : Factor w/ 1 level \"celsius\": NA NA NA NA NA NA NA NA NA NA ...\n",
      " $ AcclimVarTempDur      : num  NA NA NA NA NA NA NA NA NA NA ...\n",
      " $ AcclimVarTempDurUnit  : Factor w/ 6 levels \"d\",\"day\",\"h\",..: NA NA NA NA NA NA NA NA NA NA ...\n",
      " $ LabGrowthTemp         : Factor w/ 54 levels \"0\",\"0.5\",\"10\",..: 13 13 13 13 13 13 13 13 13 13 ...\n",
      " $ LabGrowthTempUnit     : Factor w/ 2 levels \"celsius\",\"Celsius\": 2 2 2 2 2 2 2 2 2 2 ...\n",
      " $ LabGrowthDur          : num  NA NA NA NA NA NA NA NA NA NA ...\n",
      " $ LabGrowthDurUnit      : Factor w/ 9 levels \"d\",\"day\",\"days\",..: NA NA NA NA NA NA NA NA NA NA ...\n",
      " $ Citation              : Factor w/ 145 levels \"Adamec, L. (1997) Photosynthetic characteristics of the aquatic carnivorous plant Aldrovanda vesiculosa. Aquati\"| __truncated__,..: 113 113 113 113 113 113 113 113 113 113 ...\n",
      " $ FigureTable           : Factor w/ 113 levels \"1\",\"10\",\"1a\",..: 7 7 7 7 7 7 7 7 7 7 ...\n",
      " $ Notes                 : Factor w/ 165 levels \"1% oxygen, grown in alpine transplant garden\",..: 111 111 111 111 111 111 111 111 111 111 ...\n"
     ]
    }
   ],
   "source": [
    "str(a.0)"
   ]
  },
  {
   "cell_type": "code",
   "execution_count": 6,
   "metadata": {
    "ExecuteTime": {
     "end_time": "2019-11-18T09:07:32.996936Z",
     "start_time": "2019-11-18T09:07:32.973Z"
    }
   },
   "outputs": [],
   "source": [
    "a.0<-data.frame(a.0$OrignalTraitName,a.0$OriginalTraitValue,a.0$ConTemp, a.0$ID)\n",
    "colnames(a.0)=c(\"OTName\",\"OTValue\",\"ConTemp\",\"FinalID\")"
   ]
  },
  {
   "cell_type": "code",
   "execution_count": 7,
   "metadata": {
    "ExecuteTime": {
     "end_time": "2019-11-18T09:07:34.108365Z",
     "start_time": "2019-11-18T09:07:34.086Z"
    }
   },
   "outputs": [
    {
     "name": "stdout",
     "output_type": "stream",
     "text": [
      "'data.frame':\t11768 obs. of  4 variables:\n",
      " $ OTName : Factor w/ 80 levels \"apparent co2 assimilation rate\",..: 63 63 63 63 63 63 63 63 63 63 ...\n",
      " $ OTValue: num  9.88 11.74 10.58 6.51 2.66 ...\n",
      " $ ConTemp: num  20 25 30 35 40 20 25 30 35 40 ...\n",
      " $ FinalID: int  1 1 1 1 1 2 2 2 2 2 ...\n"
     ]
    }
   ],
   "source": [
    "str(a.0)"
   ]
  },
  {
   "cell_type": "code",
   "execution_count": 28,
   "metadata": {
    "ExecuteTime": {
     "end_time": "2019-11-18T09:22:19.054861Z",
     "start_time": "2019-11-18T09:22:19.011Z"
    }
   },
   "outputs": [
    {
     "data": {
      "text/html": [
       "<ol class=list-inline>\n",
       "\t<li>'apparent co2 assimilation rate'</li>\n",
       "\t<li>'apparent net photosynthesis'</li>\n",
       "\t<li>'apparent photosynthesis'</li>\n",
       "\t<li>'apparent photosynthetic 02 evolution'</li>\n",
       "\t<li>'area-based light-saturated rate of net photosythesis'</li>\n",
       "\t<li>'Area-based respiration rate'</li>\n",
       "\t<li>'cell-specific photosynthesis rate'</li>\n",
       "\t<li>'change in o2 (photosynthesis)'</li>\n",
       "\t<li>'change in o2 (respiration)'</li>\n",
       "\t<li>'Chl a-normalised gross photosynthesis rate'</li>\n",
       "\t<li>'co2 and light saturated rates of gross photosynthesis'</li>\n",
       "\t<li>'co2 assimilation'</li>\n",
       "\t<li>'co2 exchange (photosynthesis)'</li>\n",
       "\t<li>'co2 exchange (respiration)'</li>\n",
       "\t<li>'co2 production rate'</li>\n",
       "\t<li>'co2 uptake'</li>\n",
       "\t<li>'CO2 uptake rate'</li>\n",
       "\t<li>'co2 uptake, photosynthesis'</li>\n",
       "\t<li>'dark capacity respiration rate'</li>\n",
       "\t<li>'dark co2 efflux'</li>\n",
       "\t<li>'dark respiration'</li>\n",
       "\t<li>'dark respiration rate'</li>\n",
       "\t<li>'dark respiratory CO2 release'</li>\n",
       "\t<li>'day respiration rate'</li>\n",
       "\t<li>'gross photosynthesis'</li>\n",
       "\t<li>'gross photosynthesis / specific growth rate'</li>\n",
       "\t<li>'gross photosynthetic rate'</li>\n",
       "\t<li>'leaf respiration'</li>\n",
       "\t<li>'light-saturated net photosynthesis'</li>\n",
       "\t<li>'log gross photosynthesis activity'</li>\n",
       "\t<li>'mass-based light-saturated rate of net photosynthesis'</li>\n",
       "\t<li>'Mass-based respiration rate'</li>\n",
       "\t<li>'maximum net photosynthesis'</li>\n",
       "\t<li>'maximum net photosynthesis rate'</li>\n",
       "\t<li>'maximum photosynthesis rate'</li>\n",
       "\t<li>'maximum photosynthetic capacity'</li>\n",
       "\t<li>'maximum rate of net photosynthesis'</li>\n",
       "\t<li>'net co2 assimilation'</li>\n",
       "\t<li>'net co2 assimilation rate'</li>\n",
       "\t<li>'net CO2 assimilation rate'</li>\n",
       "\t<li>'net co2 exchange rate'</li>\n",
       "\t<li>'net CO2 fixation rate'</li>\n",
       "\t<li>'net CO2 uptake rate'</li>\n",
       "\t<li>'net photosynthesis'</li>\n",
       "\t<li>'net photosynthesis (Am)'</li>\n",
       "\t<li>'net photosynthesis rate'</li>\n",
       "\t<li>'net photosynthesis specific growth rate'</li>\n",
       "\t<li>'net photosynthesis, co2 exchange'</li>\n",
       "\t<li>'net photosynthesis, oxygen evolved'</li>\n",
       "\t<li>'net photosynthetic rate'</li>\n",
       "\t<li>'night respiration'</li>\n",
       "\t<li>'normalised co2 flux'</li>\n",
       "\t<li>'o2 consumption'</li>\n",
       "\t<li>'o2 uptake in the dark'</li>\n",
       "\t<li>'observed co2 uptake rates'</li>\n",
       "\t<li>'oxygen consumption'</li>\n",
       "\t<li>'oxygen evolution rate'</li>\n",
       "\t<li>'oxygen evolution rate in thylakoid membranes'</li>\n",
       "\t<li>'photosynthesis'</li>\n",
       "\t<li>'photosynthesis rate'</li>\n",
       "\t<li>'photosynthetic activity'</li>\n",
       "\t<li>'photosynthetic capacity'</li>\n",
       "\t<li>'photosynthetic co2 assimilation'</li>\n",
       "\t<li>'photosynthetic O2 evolution rate'</li>\n",
       "\t<li>'photosynthetic rate'</li>\n",
       "\t<li>'pmax'</li>\n",
       "\t<li>'rate of gross photosynthesis'</li>\n",
       "\t<li>'rate of photosynthenthetic co2 fixation'</li>\n",
       "\t<li>'rate of photosynthesis'</li>\n",
       "\t<li>'relative net photosynthesis'</li>\n",
       "\t<li>'respiration'</li>\n",
       "\t<li>'respiration / specific growth rate'</li>\n",
       "\t<li>'respiration after dark period'</li>\n",
       "\t<li>'respiration after photosynthesis'</li>\n",
       "\t<li>'respiration before photosynthesis'</li>\n",
       "\t<li>'respiration rate'</li>\n",
       "\t<li>'respiratory activity'</li>\n",
       "\t<li>'root respiration'</li>\n",
       "\t<li>'root respiration rate'</li>\n",
       "\t<li>'total co2 produced'</li>\n",
       "</ol>\n"
      ],
      "text/latex": [
       "\\begin{enumerate*}\n",
       "\\item 'apparent co2 assimilation rate'\n",
       "\\item 'apparent net photosynthesis'\n",
       "\\item 'apparent photosynthesis'\n",
       "\\item 'apparent photosynthetic 02 evolution'\n",
       "\\item 'area-based light-saturated rate of net photosythesis'\n",
       "\\item 'Area-based respiration rate'\n",
       "\\item 'cell-specific photosynthesis rate'\n",
       "\\item 'change in o2 (photosynthesis)'\n",
       "\\item 'change in o2 (respiration)'\n",
       "\\item 'Chl a-normalised gross photosynthesis rate'\n",
       "\\item 'co2 and light saturated rates of gross photosynthesis'\n",
       "\\item 'co2 assimilation'\n",
       "\\item 'co2 exchange (photosynthesis)'\n",
       "\\item 'co2 exchange (respiration)'\n",
       "\\item 'co2 production rate'\n",
       "\\item 'co2 uptake'\n",
       "\\item 'CO2 uptake rate'\n",
       "\\item 'co2 uptake, photosynthesis'\n",
       "\\item 'dark capacity respiration rate'\n",
       "\\item 'dark co2 efflux'\n",
       "\\item 'dark respiration'\n",
       "\\item 'dark respiration rate'\n",
       "\\item 'dark respiratory CO2 release'\n",
       "\\item 'day respiration rate'\n",
       "\\item 'gross photosynthesis'\n",
       "\\item 'gross photosynthesis / specific growth rate'\n",
       "\\item 'gross photosynthetic rate'\n",
       "\\item 'leaf respiration'\n",
       "\\item 'light-saturated net photosynthesis'\n",
       "\\item 'log gross photosynthesis activity'\n",
       "\\item 'mass-based light-saturated rate of net photosynthesis'\n",
       "\\item 'Mass-based respiration rate'\n",
       "\\item 'maximum net photosynthesis'\n",
       "\\item 'maximum net photosynthesis rate'\n",
       "\\item 'maximum photosynthesis rate'\n",
       "\\item 'maximum photosynthetic capacity'\n",
       "\\item 'maximum rate of net photosynthesis'\n",
       "\\item 'net co2 assimilation'\n",
       "\\item 'net co2 assimilation rate'\n",
       "\\item 'net CO2 assimilation rate'\n",
       "\\item 'net co2 exchange rate'\n",
       "\\item 'net CO2 fixation rate'\n",
       "\\item 'net CO2 uptake rate'\n",
       "\\item 'net photosynthesis'\n",
       "\\item 'net photosynthesis (Am)'\n",
       "\\item 'net photosynthesis rate'\n",
       "\\item 'net photosynthesis specific growth rate'\n",
       "\\item 'net photosynthesis, co2 exchange'\n",
       "\\item 'net photosynthesis, oxygen evolved'\n",
       "\\item 'net photosynthetic rate'\n",
       "\\item 'night respiration'\n",
       "\\item 'normalised co2 flux'\n",
       "\\item 'o2 consumption'\n",
       "\\item 'o2 uptake in the dark'\n",
       "\\item 'observed co2 uptake rates'\n",
       "\\item 'oxygen consumption'\n",
       "\\item 'oxygen evolution rate'\n",
       "\\item 'oxygen evolution rate in thylakoid membranes'\n",
       "\\item 'photosynthesis'\n",
       "\\item 'photosynthesis rate'\n",
       "\\item 'photosynthetic activity'\n",
       "\\item 'photosynthetic capacity'\n",
       "\\item 'photosynthetic co2 assimilation'\n",
       "\\item 'photosynthetic O2 evolution rate'\n",
       "\\item 'photosynthetic rate'\n",
       "\\item 'pmax'\n",
       "\\item 'rate of gross photosynthesis'\n",
       "\\item 'rate of photosynthenthetic co2 fixation'\n",
       "\\item 'rate of photosynthesis'\n",
       "\\item 'relative net photosynthesis'\n",
       "\\item 'respiration'\n",
       "\\item 'respiration / specific growth rate'\n",
       "\\item 'respiration after dark period'\n",
       "\\item 'respiration after photosynthesis'\n",
       "\\item 'respiration before photosynthesis'\n",
       "\\item 'respiration rate'\n",
       "\\item 'respiratory activity'\n",
       "\\item 'root respiration'\n",
       "\\item 'root respiration rate'\n",
       "\\item 'total co2 produced'\n",
       "\\end{enumerate*}\n"
      ],
      "text/markdown": [
       "1. 'apparent co2 assimilation rate'\n",
       "2. 'apparent net photosynthesis'\n",
       "3. 'apparent photosynthesis'\n",
       "4. 'apparent photosynthetic 02 evolution'\n",
       "5. 'area-based light-saturated rate of net photosythesis'\n",
       "6. 'Area-based respiration rate'\n",
       "7. 'cell-specific photosynthesis rate'\n",
       "8. 'change in o2 (photosynthesis)'\n",
       "9. 'change in o2 (respiration)'\n",
       "10. 'Chl a-normalised gross photosynthesis rate'\n",
       "11. 'co2 and light saturated rates of gross photosynthesis'\n",
       "12. 'co2 assimilation'\n",
       "13. 'co2 exchange (photosynthesis)'\n",
       "14. 'co2 exchange (respiration)'\n",
       "15. 'co2 production rate'\n",
       "16. 'co2 uptake'\n",
       "17. 'CO2 uptake rate'\n",
       "18. 'co2 uptake, photosynthesis'\n",
       "19. 'dark capacity respiration rate'\n",
       "20. 'dark co2 efflux'\n",
       "21. 'dark respiration'\n",
       "22. 'dark respiration rate'\n",
       "23. 'dark respiratory CO2 release'\n",
       "24. 'day respiration rate'\n",
       "25. 'gross photosynthesis'\n",
       "26. 'gross photosynthesis / specific growth rate'\n",
       "27. 'gross photosynthetic rate'\n",
       "28. 'leaf respiration'\n",
       "29. 'light-saturated net photosynthesis'\n",
       "30. 'log gross photosynthesis activity'\n",
       "31. 'mass-based light-saturated rate of net photosynthesis'\n",
       "32. 'Mass-based respiration rate'\n",
       "33. 'maximum net photosynthesis'\n",
       "34. 'maximum net photosynthesis rate'\n",
       "35. 'maximum photosynthesis rate'\n",
       "36. 'maximum photosynthetic capacity'\n",
       "37. 'maximum rate of net photosynthesis'\n",
       "38. 'net co2 assimilation'\n",
       "39. 'net co2 assimilation rate'\n",
       "40. 'net CO2 assimilation rate'\n",
       "41. 'net co2 exchange rate'\n",
       "42. 'net CO2 fixation rate'\n",
       "43. 'net CO2 uptake rate'\n",
       "44. 'net photosynthesis'\n",
       "45. 'net photosynthesis (Am)'\n",
       "46. 'net photosynthesis rate'\n",
       "47. 'net photosynthesis specific growth rate'\n",
       "48. 'net photosynthesis, co2 exchange'\n",
       "49. 'net photosynthesis, oxygen evolved'\n",
       "50. 'net photosynthetic rate'\n",
       "51. 'night respiration'\n",
       "52. 'normalised co2 flux'\n",
       "53. 'o2 consumption'\n",
       "54. 'o2 uptake in the dark'\n",
       "55. 'observed co2 uptake rates'\n",
       "56. 'oxygen consumption'\n",
       "57. 'oxygen evolution rate'\n",
       "58. 'oxygen evolution rate in thylakoid membranes'\n",
       "59. 'photosynthesis'\n",
       "60. 'photosynthesis rate'\n",
       "61. 'photosynthetic activity'\n",
       "62. 'photosynthetic capacity'\n",
       "63. 'photosynthetic co2 assimilation'\n",
       "64. 'photosynthetic O2 evolution rate'\n",
       "65. 'photosynthetic rate'\n",
       "66. 'pmax'\n",
       "67. 'rate of gross photosynthesis'\n",
       "68. 'rate of photosynthenthetic co2 fixation'\n",
       "69. 'rate of photosynthesis'\n",
       "70. 'relative net photosynthesis'\n",
       "71. 'respiration'\n",
       "72. 'respiration / specific growth rate'\n",
       "73. 'respiration after dark period'\n",
       "74. 'respiration after photosynthesis'\n",
       "75. 'respiration before photosynthesis'\n",
       "76. 'respiration rate'\n",
       "77. 'respiratory activity'\n",
       "78. 'root respiration'\n",
       "79. 'root respiration rate'\n",
       "80. 'total co2 produced'\n",
       "\n",
       "\n"
      ],
      "text/plain": [
       " [1] \"apparent co2 assimilation rate\"                       \n",
       " [2] \"apparent net photosynthesis\"                          \n",
       " [3] \"apparent photosynthesis\"                              \n",
       " [4] \"apparent photosynthetic 02 evolution\"                 \n",
       " [5] \"area-based light-saturated rate of net photosythesis\" \n",
       " [6] \"Area-based respiration rate\"                          \n",
       " [7] \"cell-specific photosynthesis rate\"                    \n",
       " [8] \"change in o2 (photosynthesis)\"                        \n",
       " [9] \"change in o2 (respiration)\"                           \n",
       "[10] \"Chl a-normalised gross photosynthesis rate\"           \n",
       "[11] \"co2 and light saturated rates of gross photosynthesis\"\n",
       "[12] \"co2 assimilation\"                                     \n",
       "[13] \"co2 exchange (photosynthesis)\"                        \n",
       "[14] \"co2 exchange (respiration)\"                           \n",
       "[15] \"co2 production rate\"                                  \n",
       "[16] \"co2 uptake\"                                           \n",
       "[17] \"CO2 uptake rate\"                                      \n",
       "[18] \"co2 uptake, photosynthesis\"                           \n",
       "[19] \"dark capacity respiration rate\"                       \n",
       "[20] \"dark co2 efflux\"                                      \n",
       "[21] \"dark respiration\"                                     \n",
       "[22] \"dark respiration rate\"                                \n",
       "[23] \"dark respiratory CO2 release\"                         \n",
       "[24] \"day respiration rate\"                                 \n",
       "[25] \"gross photosynthesis\"                                 \n",
       "[26] \"gross photosynthesis / specific growth rate\"          \n",
       "[27] \"gross photosynthetic rate\"                            \n",
       "[28] \"leaf respiration\"                                     \n",
       "[29] \"light-saturated net photosynthesis\"                   \n",
       "[30] \"log gross photosynthesis activity\"                    \n",
       "[31] \"mass-based light-saturated rate of net photosynthesis\"\n",
       "[32] \"Mass-based respiration rate\"                          \n",
       "[33] \"maximum net photosynthesis\"                           \n",
       "[34] \"maximum net photosynthesis rate\"                      \n",
       "[35] \"maximum photosynthesis rate\"                          \n",
       "[36] \"maximum photosynthetic capacity\"                      \n",
       "[37] \"maximum rate of net photosynthesis\"                   \n",
       "[38] \"net co2 assimilation\"                                 \n",
       "[39] \"net co2 assimilation rate\"                            \n",
       "[40] \"net CO2 assimilation rate\"                            \n",
       "[41] \"net co2 exchange rate\"                                \n",
       "[42] \"net CO2 fixation rate\"                                \n",
       "[43] \"net CO2 uptake rate\"                                  \n",
       "[44] \"net photosynthesis\"                                   \n",
       "[45] \"net photosynthesis (Am)\"                              \n",
       "[46] \"net photosynthesis rate\"                              \n",
       "[47] \"net photosynthesis specific growth rate\"              \n",
       "[48] \"net photosynthesis, co2 exchange\"                     \n",
       "[49] \"net photosynthesis, oxygen evolved\"                   \n",
       "[50] \"net photosynthetic rate\"                              \n",
       "[51] \"night respiration\"                                    \n",
       "[52] \"normalised co2 flux\"                                  \n",
       "[53] \"o2 consumption\"                                       \n",
       "[54] \"o2 uptake in the dark\"                                \n",
       "[55] \"observed co2 uptake rates\"                            \n",
       "[56] \"oxygen consumption\"                                   \n",
       "[57] \"oxygen evolution rate\"                                \n",
       "[58] \"oxygen evolution rate in thylakoid membranes\"         \n",
       "[59] \"photosynthesis\"                                       \n",
       "[60] \"photosynthesis rate\"                                  \n",
       "[61] \"photosynthetic activity\"                              \n",
       "[62] \"photosynthetic capacity\"                              \n",
       "[63] \"photosynthetic co2 assimilation\"                      \n",
       "[64] \"photosynthetic O2 evolution rate\"                     \n",
       "[65] \"photosynthetic rate\"                                  \n",
       "[66] \"pmax\"                                                 \n",
       "[67] \"rate of gross photosynthesis\"                         \n",
       "[68] \"rate of photosynthenthetic co2 fixation\"              \n",
       "[69] \"rate of photosynthesis\"                               \n",
       "[70] \"relative net photosynthesis\"                          \n",
       "[71] \"respiration\"                                          \n",
       "[72] \"respiration / specific growth rate\"                   \n",
       "[73] \"respiration after dark period\"                        \n",
       "[74] \"respiration after photosynthesis\"                     \n",
       "[75] \"respiration before photosynthesis\"                    \n",
       "[76] \"respiration rate\"                                     \n",
       "[77] \"respiratory activity\"                                 \n",
       "[78] \"root respiration\"                                     \n",
       "[79] \"root respiration rate\"                                \n",
       "[80] \"total co2 produced\"                                   "
      ]
     },
     "metadata": {},
     "output_type": "display_data"
    }
   ],
   "source": [
    "levels(a.0$OTName)#[which(levels(a.0$OTName)==\"temp\")]"
   ]
  },
  {
   "cell_type": "code",
   "execution_count": 16,
   "metadata": {
    "ExecuteTime": {
     "end_time": "2019-11-18T09:14:27.454475Z",
     "start_time": "2019-11-18T09:14:27.426Z"
    }
   },
   "outputs": [
    {
     "data": {
      "text/html": [
       "903"
      ],
      "text/latex": [
       "903"
      ],
      "text/markdown": [
       "903"
      ],
      "text/plain": [
       "[1] 903"
      ]
     },
     "metadata": {},
     "output_type": "display_data"
    }
   ],
   "source": [
    "length(unique(a.0$FinalID))"
   ]
  },
  {
   "cell_type": "code",
   "execution_count": 23,
   "metadata": {
    "ExecuteTime": {
     "end_time": "2019-11-18T09:18:27.699341Z",
     "start_time": "2019-11-18T09:18:27.661Z"
    }
   },
   "outputs": [
    {
     "data": {
      "text/html": [
       "528\n",
       "<details>\n",
       "\t<summary style=display:list-item;cursor:pointer>\n",
       "\t\t<strong>Levels</strong>:\n",
       "\t</summary>\n",
       "\t'528'\n",
       "</details>"
      ],
      "text/latex": [
       "528\n",
       "\\emph{Levels}: '528'"
      ],
      "text/markdown": [
       "528\n",
       "**Levels**: '528'"
      ],
      "text/plain": [
       "[1] 528\n",
       "Levels: 528"
      ]
     },
     "metadata": {},
     "output_type": "display_data"
    }
   ],
   "source": [
    "## select records with most data\n",
    "a.1<-as.data.frame(table(a.0$FinalID))\n",
    "a.1<-a.1[which(a.1[,2]==max(a.1[,2])),]\n",
    "a.1"
   ]
  },
  {
   "cell_type": "code",
   "execution_count": 24,
   "metadata": {
    "ExecuteTime": {
     "end_time": "2019-11-18T09:19:22.872690Z",
     "start_time": "2019-11-18T09:19:22.541Z"
    }
   },
   "outputs": [
    {
     "data": {
      "image/png": "[encoded data removed]",
      "text/plain": [
       "plot without title"
      ]
     },
     "metadata": {},
     "output_type": "display_data"
    }
   ],
   "source": [
    "a.0<-a.0[which(a.0$FinalID==a.1[1,1]),]\n",
    "ggplot()+theme_bw()+ylab(\"Original T\")\n",
    "geom_point(aes(y=a.0$OTValue, x=a.0$ConTemp))"
   ]
  },
  {
   "cell_type": "code",
   "execution_count": null,
   "metadata": {},
   "outputs": [],
   "source": []
  }
 ],
 "metadata": {
  "kernelspec": {
   "display_name": "R",
   "language": "R",
   "name": "ir"
  },
  "language_info": {
   "codemirror_mode": "r",
   "file_extension": ".r",
   "mimetype": "text/x-r-source",
   "name": "R",
   "pygments_lexer": "r",
   "version": "3.6.0"
  },
  "latex_envs": {
   "LaTeX_envs_menu_present": true,
   "autoclose": true,
   "autocomplete": true,
   "bibliofile": "biblio.bib",
   "cite_by": "apalike",
   "current_citInitial": 1,
   "eqLabelWithNumbers": true,
   "eqNumInitial": 1,
   "hotkeys": {
    "equation": "Ctrl-E",
    "itemize": "Ctrl-I"
   },
   "labels_anchors": false,
   "latex_user_defs": false,
   "report_style_numbering": true,
   "user_envs_cfg": true
  },
  "varInspector": {
   "cols": {
    "lenName": 16,
    "lenType": 16,
    "lenVar": 40
   },
   "kernels_config": {
    "python": {
     "delete_cmd_postfix": "",
     "delete_cmd_prefix": "del ",
     "library": "var_list.py",
     "varRefreshCmd": "print(var_dic_list())"
    },
    "r": {
     "delete_cmd_postfix": ") ",
     "delete_cmd_prefix": "rm(",
     "library": "var_list.r",
     "varRefreshCmd": "cat(var_dic_list()) "
    }
   },
   "types_to_exclude": [
    "module",
    "function",
    "builtin_function_or_method",
    "instance",
    "_Feature"
   ],
   "window_display": false
  }
 },
 "nbformat": 4,
 "nbformat_minor": 2
}
