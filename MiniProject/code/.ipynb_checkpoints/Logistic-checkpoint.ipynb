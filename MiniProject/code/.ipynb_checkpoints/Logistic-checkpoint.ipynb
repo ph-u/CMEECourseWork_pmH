{
 "cells": [
  {
   "cell_type": "markdown",
   "metadata": {},
   "source": [
    "# Data handling - R"
   ]
  },
  {
   "cell_type": "markdown",
   "metadata": {},
   "source": [
    "## variables"
   ]
  },
  {
   "cell_type": "code",
   "execution_count": 186,
   "metadata": {
    "ExecuteTime": {
     "end_time": "2019-11-18T12:19:23.404259Z",
     "start_time": "2019-11-18T12:19:23.385Z"
    }
   },
   "outputs": [],
   "source": [
    "cst<-3 ## num of log pop cluster determine log time clusters"
   ]
  },
  {
   "cell_type": "markdown",
   "metadata": {},
   "source": [
    "## data input and pre-processing"
   ]
  },
  {
   "cell_type": "code",
   "execution_count": 187,
   "metadata": {
    "ExecuteTime": {
     "end_time": "2019-11-18T12:19:23.657057Z",
     "start_time": "2019-11-18T12:19:23.402Z"
    }
   },
   "outputs": [
    {
     "data": {
      "text/html": [
       "<table>\n",
       "<caption>A data.frame: 4387 × 8</caption>\n",
       "<thead>\n",
       "\t<tr><th scope=col>Temp.C</th><th scope=col>clade</th><th scope=col>substrate</th><th scope=col>replicate</th><th scope=col>SourceRef</th><th scope=col>Time.hr</th><th scope=col>Popn_Change</th><th scope=col>Popn_DataUnit</th></tr>\n",
       "\t<tr><th scope=col>&lt;int&gt;</th><th scope=col>&lt;chr&gt;</th><th scope=col>&lt;chr&gt;</th><th scope=col>&lt;int&gt;</th><th scope=col>&lt;chr&gt;</th><th scope=col>&lt;dbl&gt;</th><th scope=col>&lt;dbl&gt;</th><th scope=col>&lt;chr&gt;</th></tr>\n",
       "</thead>\n",
       "<tbody>\n",
       "\t<tr><td>5</td><td>Chryseobacterium balustinum</td><td>TSB</td><td>1</td><td>Bae, Y.M., Zheng, L., Hyun, J.E., Jung, K.S., Heu, S. and Lee, S.Y., 2014. Growth characteristics and biofilm formation of various spoilage bacteria isolated from fresh produce. Journal of food science, 79(10), pp.M2072-M2080.</td><td>6.698795e+02</td><td>0.283275712</td><td>OD_595</td></tr>\n",
       "\t<tr><td>5</td><td>Chryseobacterium balustinum</td><td>TSB</td><td>1</td><td>Bae, Y.M., Zheng, L., Hyun, J.E., Jung, K.S., Heu, S. and Lee, S.Y., 2014. Growth characteristics and biofilm formation of various spoilage bacteria isolated from fresh produce. Journal of food science, 79(10), pp.M2072-M2080.</td><td>6.469880e+02</td><td>0.283342064</td><td>OD_595</td></tr>\n",
       "\t<tr><td>5</td><td>Chryseobacterium balustinum</td><td>TSB</td><td>1</td><td>Bae, Y.M., Zheng, L., Hyun, J.E., Jung, K.S., Heu, S. and Lee, S.Y., 2014. Growth characteristics and biofilm formation of various spoilage bacteria isolated from fresh produce. Journal of food science, 79(10), pp.M2072-M2080.</td><td>6.228916e+02</td><td>0.285151039</td><td>OD_595</td></tr>\n",
       "\t<tr><td>5</td><td>Chryseobacterium balustinum</td><td>TSB</td><td>1</td><td>Bae, Y.M., Zheng, L., Hyun, J.E., Jung, K.S., Heu, S. and Lee, S.Y., 2014. Growth characteristics and biofilm formation of various spoilage bacteria isolated from fresh produce. Journal of food science, 79(10), pp.M2072-M2080.</td><td>5.975904e+02</td><td>0.281746115</td><td>OD_595</td></tr>\n",
       "\t<tr><td>5</td><td>Chryseobacterium balustinum</td><td>TSB</td><td>1</td><td>Bae, Y.M., Zheng, L., Hyun, J.E., Jung, K.S., Heu, S. and Lee, S.Y., 2014. Growth characteristics and biofilm formation of various spoilage bacteria isolated from fresh produce. Journal of food science, 79(10), pp.M2072-M2080.</td><td>5.746988e+02</td><td>0.273116815</td><td>OD_595</td></tr>\n",
       "\t<tr><td>5</td><td>Chryseobacterium balustinum</td><td>TSB</td><td>1</td><td>Bae, Y.M., Zheng, L., Hyun, J.E., Jung, K.S., Heu, S. and Lee, S.Y., 2014. Growth characteristics and biofilm formation of various spoilage bacteria isolated from fresh produce. Journal of food science, 79(10), pp.M2072-M2080.</td><td>5.506024e+02</td><td>0.257534486</td><td>OD_595</td></tr>\n",
       "\t<tr><td>5</td><td>Chryseobacterium balustinum</td><td>TSB</td><td>1</td><td>Bae, Y.M., Zheng, L., Hyun, J.E., Jung, K.S., Heu, S. and Lee, S.Y., 2014. Growth characteristics and biofilm formation of various spoilage bacteria isolated from fresh produce. Journal of food science, 79(10), pp.M2072-M2080.</td><td>5.265060e+02</td><td>0.257604330</td><td>OD_595</td></tr>\n",
       "\t<tr><td>5</td><td>Chryseobacterium balustinum</td><td>TSB</td><td>1</td><td>Bae, Y.M., Zheng, L., Hyun, J.E., Jung, K.S., Heu, S. and Lee, S.Y., 2014. Growth characteristics and biofilm formation of various spoilage bacteria isolated from fresh produce. Journal of food science, 79(10), pp.M2072-M2080.</td><td>5.024096e+02</td><td>0.245500262</td><td>OD_595</td></tr>\n",
       "\t<tr><td>5</td><td>Chryseobacterium balustinum</td><td>TSB</td><td>1</td><td>Bae, Y.M., Zheng, L., Hyun, J.E., Jung, K.S., Heu, S. and Lee, S.Y., 2014. Growth characteristics and biofilm formation of various spoilage bacteria isolated from fresh produce. Journal of food science, 79(10), pp.M2072-M2080.</td><td>4.795181e+02</td><td>0.247305745</td><td>OD_595</td></tr>\n",
       "\t<tr><td>5</td><td>Chryseobacterium balustinum</td><td>TSB</td><td>1</td><td>Bae, Y.M., Zheng, L., Hyun, J.E., Jung, K.S., Heu, S. and Lee, S.Y., 2014. Growth characteristics and biofilm formation of various spoilage bacteria isolated from fresh produce. Journal of food science, 79(10), pp.M2072-M2080.</td><td>4.542169e+02</td><td>0.250857342</td><td>OD_595</td></tr>\n",
       "\t<tr><td>5</td><td>Chryseobacterium balustinum</td><td>TSB</td><td>1</td><td>Bae, Y.M., Zheng, L., Hyun, J.E., Jung, K.S., Heu, S. and Lee, S.Y., 2014. Growth characteristics and biofilm formation of various spoilage bacteria isolated from fresh produce. Journal of food science, 79(10), pp.M2072-M2080.</td><td>4.313253e+02</td><td>0.235271521</td><td>OD_595</td></tr>\n",
       "\t<tr><td>5</td><td>Chryseobacterium balustinum</td><td>TSB</td><td>1</td><td>Bae, Y.M., Zheng, L., Hyun, J.E., Jung, K.S., Heu, S. and Lee, S.Y., 2014. Growth characteristics and biofilm formation of various spoilage bacteria isolated from fresh produce. Journal of food science, 79(10), pp.M2072-M2080.</td><td>3.843373e+02</td><td>0.219755544</td><td>OD_595</td></tr>\n",
       "\t<tr><td>5</td><td>Chryseobacterium balustinum</td><td>TSB</td><td>1</td><td>Bae, Y.M., Zheng, L., Hyun, J.E., Jung, K.S., Heu, S. and Lee, S.Y., 2014. Growth characteristics and biofilm formation of various spoilage bacteria isolated from fresh produce. Journal of food science, 79(10), pp.M2072-M2080.</td><td>4.060241e+02</td><td>0.228388336</td><td>OD_595</td></tr>\n",
       "\t<tr><td>5</td><td>Chryseobacterium balustinum</td><td>TSB</td><td>1</td><td>Bae, Y.M., Zheng, L., Hyun, J.E., Jung, K.S., Heu, S. and Lee, S.Y., 2014. Growth characteristics and biofilm formation of various spoilage bacteria isolated from fresh produce. Journal of food science, 79(10), pp.M2072-M2080.</td><td>3.590361e+02</td><td>0.221568011</td><td>OD_595</td></tr>\n",
       "\t<tr><td>5</td><td>Chryseobacterium balustinum</td><td>TSB</td><td>1</td><td>Bae, Y.M., Zheng, L., Hyun, J.E., Jung, K.S., Heu, S. and Lee, S.Y., 2014. Growth characteristics and biofilm formation of various spoilage bacteria isolated from fresh produce. Journal of food science, 79(10), pp.M2072-M2080.</td><td>3.108434e+02</td><td>0.192142483</td><td>OD_595</td></tr>\n",
       "\t<tr><td>5</td><td>Chryseobacterium balustinum</td><td>TSB</td><td>1</td><td>Bae, Y.M., Zheng, L., Hyun, J.E., Jung, K.S., Heu, S. and Lee, S.Y., 2014. Growth characteristics and biofilm formation of various spoilage bacteria isolated from fresh produce. Journal of food science, 79(10), pp.M2072-M2080.</td><td>3.349398e+02</td><td>0.197290030</td><td>OD_595</td></tr>\n",
       "\t<tr><td>5</td><td>Chryseobacterium balustinum</td><td>TSB</td><td>1</td><td>Bae, Y.M., Zheng, L., Hyun, J.E., Jung, K.S., Heu, S. and Lee, S.Y., 2014. Growth characteristics and biofilm formation of various spoilage bacteria isolated from fresh produce. Journal of food science, 79(10), pp.M2072-M2080.</td><td>2.614458e+02</td><td>0.159242186</td><td>OD_595</td></tr>\n",
       "\t<tr><td>5</td><td>Chryseobacterium balustinum</td><td>TSB</td><td>1</td><td>Bae, Y.M., Zheng, L., Hyun, J.E., Jung, K.S., Heu, S. and Lee, S.Y., 2014. Growth characteristics and biofilm formation of various spoilage bacteria isolated from fresh produce. Journal of food science, 79(10), pp.M2072-M2080.</td><td>2.867470e+02</td><td>0.173081893</td><td>OD_595</td></tr>\n",
       "\t<tr><td>5</td><td>Chryseobacterium balustinum</td><td>TSB</td><td>1</td><td>Bae, Y.M., Zheng, L., Hyun, J.E., Jung, K.S., Heu, S. and Lee, S.Y., 2014. Growth characteristics and biofilm formation of various spoilage bacteria isolated from fresh produce. Journal of food science, 79(10), pp.M2072-M2080.</td><td>2.156627e+02</td><td>0.140244456</td><td>OD_595</td></tr>\n",
       "\t<tr><td>5</td><td>Chryseobacterium balustinum</td><td>TSB</td><td>1</td><td>Bae, Y.M., Zheng, L., Hyun, J.E., Jung, K.S., Heu, S. and Lee, S.Y., 2014. Growth characteristics and biofilm formation of various spoilage bacteria isolated from fresh produce. Journal of food science, 79(10), pp.M2072-M2080.</td><td>2.385542e+02</td><td>0.152352017</td><td>OD_595</td></tr>\n",
       "\t<tr><td>5</td><td>Chryseobacterium balustinum</td><td>TSB</td><td>1</td><td>Bae, Y.M., Zheng, L., Hyun, J.E., Jung, K.S., Heu, S. and Lee, S.Y., 2014. Growth characteristics and biofilm formation of various spoilage bacteria isolated from fresh produce. Journal of food science, 79(10), pp.M2072-M2080.</td><td>1.903614e+02</td><td>0.119448228</td><td>OD_595</td></tr>\n",
       "\t<tr><td>5</td><td>Chryseobacterium balustinum</td><td>TSB</td><td>1</td><td>Bae, Y.M., Zheng, L., Hyun, J.E., Jung, K.S., Heu, S. and Lee, S.Y., 2014. Growth characteristics and biofilm formation of various spoilage bacteria isolated from fresh produce. Journal of food science, 79(10), pp.M2072-M2080.</td><td>1.662651e+02</td><td>0.103865898</td><td>OD_595</td></tr>\n",
       "\t<tr><td>5</td><td>Chryseobacterium balustinum</td><td>TSB</td><td>1</td><td>Bae, Y.M., Zheng, L., Hyun, J.E., Jung, K.S., Heu, S. and Lee, S.Y., 2014. Growth characteristics and biofilm formation of various spoilage bacteria isolated from fresh produce. Journal of food science, 79(10), pp.M2072-M2080.</td><td>1.421687e+02</td><td>0.084805308</td><td>OD_595</td></tr>\n",
       "\t<tr><td>5</td><td>Chryseobacterium balustinum</td><td>TSB</td><td>1</td><td>Bae, Y.M., Zheng, L., Hyun, J.E., Jung, K.S., Heu, S. and Lee, S.Y., 2014. Growth characteristics and biofilm formation of various spoilage bacteria isolated from fresh produce. Journal of food science, 79(10), pp.M2072-M2080.</td><td>1.192771e+02</td><td>0.062262965</td><td>OD_595</td></tr>\n",
       "\t<tr><td>5</td><td>Chryseobacterium balustinum</td><td>TSB</td><td>1</td><td>Bae, Y.M., Zheng, L., Hyun, J.E., Jung, K.S., Heu, S. and Lee, S.Y., 2014. Growth characteristics and biofilm formation of various spoilage bacteria isolated from fresh produce. Journal of food science, 79(10), pp.M2072-M2080.</td><td>9.518072e+01</td><td>0.044941505</td><td>OD_595</td></tr>\n",
       "\t<tr><td>5</td><td>Chryseobacterium balustinum</td><td>TSB</td><td>1</td><td>Bae, Y.M., Zheng, L., Hyun, J.E., Jung, K.S., Heu, S. and Lee, S.Y., 2014. Growth characteristics and biofilm formation of various spoilage bacteria isolated from fresh produce. Journal of food science, 79(10), pp.M2072-M2080.</td><td>7.108434e+01</td><td>0.032837437</td><td>OD_595</td></tr>\n",
       "\t<tr><td>5</td><td>Chryseobacterium balustinum</td><td>TSB</td><td>1</td><td>Bae, Y.M., Zheng, L., Hyun, J.E., Jung, K.S., Heu, S. and Lee, S.Y., 2014. Growth characteristics and biofilm formation of various spoilage bacteria isolated from fresh produce. Journal of food science, 79(10), pp.M2072-M2080.</td><td>4.698795e+01</td><td>0.018994238</td><td>OD_595</td></tr>\n",
       "\t<tr><td>5</td><td>Chryseobacterium balustinum</td><td>TSB</td><td>1</td><td>Bae, Y.M., Zheng, L., Hyun, J.E., Jung, K.S., Heu, S. and Lee, S.Y., 2014. Growth characteristics and biofilm formation of various spoilage bacteria isolated from fresh produce. Journal of food science, 79(10), pp.M2072-M2080.</td><td>2.289157e+01</td><td>0.008629300</td><td>OD_595</td></tr>\n",
       "\t<tr><td>5</td><td>Chryseobacterium balustinum</td><td>TSB</td><td>1</td><td>Bae, Y.M., Zheng, L., Hyun, J.E., Jung, K.S., Heu, S. and Lee, S.Y., 2014. Growth characteristics and biofilm formation of various spoilage bacteria isolated from fresh produce. Journal of food science, 79(10), pp.M2072-M2080.</td><td>1.421085e-14</td><td>0.005217391</td><td>OD_595</td></tr>\n",
       "\t<tr><td>5</td><td>Enterobacter sp            </td><td>TSB</td><td>1</td><td>Bae, Y.M., Zheng, L., Hyun, J.E., Jung, K.S., Heu, S. and Lee, S.Y., 2014. Growth characteristics and biofilm formation of various spoilage bacteria isolated from fresh produce. Journal of food science, 79(10), pp.M2072-M2080.</td><td>6.698795e+02</td><td>0.566753972</td><td>OD_595</td></tr>\n",
       "\t<tr><td>⋮</td><td>⋮</td><td>⋮</td><td>⋮</td><td>⋮</td><td>⋮</td><td>⋮</td><td>⋮</td></tr>\n",
       "\t<tr><td>25</td><td>Lactobaciulus plantarum</td><td>MRS</td><td>1</td><td>Zwietering, M.H., De Wit, J.C., Cuppers, H.G.A.M. and Van't Riet, K., 1994. Modeling of bacterial growth with shifts in temperature. Appl. Environ. Microbiol., 60(1), pp.204-213.</td><td> 8.84473411</td><td>  40.660688</td><td>N</td></tr>\n",
       "\t<tr><td>25</td><td>Lactobaciulus plantarum</td><td>MRS</td><td>1</td><td>Zwietering, M.H., De Wit, J.C., Cuppers, H.G.A.M. and Van't Riet, K., 1994. Modeling of bacterial growth with shifts in temperature. Appl. Environ. Microbiol., 60(1), pp.204-213.</td><td> 7.97027249</td><td>  43.415860</td><td>N</td></tr>\n",
       "\t<tr><td>25</td><td>Lactobaciulus plantarum</td><td>MRS</td><td>1</td><td>Zwietering, M.H., De Wit, J.C., Cuppers, H.G.A.M. and Van't Riet, K., 1994. Modeling of bacterial growth with shifts in temperature. Appl. Environ. Microbiol., 60(1), pp.204-213.</td><td> 7.84577162</td><td>  40.682726</td><td>N</td></tr>\n",
       "\t<tr><td>25</td><td>Lactobaciulus plantarum</td><td>MRS</td><td>1</td><td>Zwietering, M.H., De Wit, J.C., Cuppers, H.G.A.M. and Van't Riet, K., 1994. Modeling of bacterial growth with shifts in temperature. Appl. Environ. Microbiol., 60(1), pp.204-213.</td><td> 7.97156553</td><td>  34.570940</td><td>N</td></tr>\n",
       "\t<tr><td>25</td><td>Lactobaciulus plantarum</td><td>MRS</td><td>1</td><td>Zwietering, M.H., De Wit, J.C., Cuppers, H.G.A.M. and Van't Riet, K., 1994. Modeling of bacterial growth with shifts in temperature. Appl. Environ. Microbiol., 60(1), pp.204-213.</td><td> 6.91062968</td><td>  31.887943</td><td>N</td></tr>\n",
       "\t<tr><td>25</td><td>Lactobaciulus plantarum</td><td>MRS</td><td>1</td><td>Zwietering, M.H., De Wit, J.C., Cuppers, H.G.A.M. and Van't Riet, K., 1994. Modeling of bacterial growth with shifts in temperature. Appl. Environ. Microbiol., 60(1), pp.204-213.</td><td>21.92730060</td><td>6471.018166</td><td>N</td></tr>\n",
       "\t<tr><td>25</td><td>Lactobaciulus plantarum</td><td>MRS</td><td>1</td><td>Zwietering, M.H., De Wit, J.C., Cuppers, H.G.A.M. and Van't Riet, K., 1994. Modeling of bacterial growth with shifts in temperature. Appl. Environ. Microbiol., 60(1), pp.204-213.</td><td> 5.91203662</td><td>  29.894689</td><td>N</td></tr>\n",
       "\t<tr><td>25</td><td>Lactobaciulus plantarum</td><td>MRS</td><td>1</td><td>Zwietering, M.H., De Wit, J.C., Cuppers, H.G.A.M. and Van't Riet, K., 1994. Modeling of bacterial growth with shifts in temperature. Appl. Environ. Microbiol., 60(1), pp.204-213.</td><td> 5.97622661</td><td>  21.943576</td><td>N</td></tr>\n",
       "\t<tr><td>25</td><td>Lactobaciulus plantarum</td><td>MRS</td><td>1</td><td>Zwietering, M.H., De Wit, J.C., Cuppers, H.G.A.M. and Van't Riet, K., 1994. Modeling of bacterial growth with shifts in temperature. Appl. Environ. Microbiol., 60(1), pp.204-213.</td><td> 6.91173799</td><td>  26.231503</td><td>N</td></tr>\n",
       "\t<tr><td>25</td><td>Lactobaciulus plantarum</td><td>MRS</td><td>1</td><td>Zwietering, M.H., De Wit, J.C., Cuppers, H.G.A.M. and Van't Riet, K., 1994. Modeling of bacterial growth with shifts in temperature. Appl. Environ. Microbiol., 60(1), pp.204-213.</td><td> 6.97537383</td><td>  21.229423</td><td>N</td></tr>\n",
       "\t<tr><td>25</td><td>Lactobaciulus plantarum</td><td>MRS</td><td>1</td><td>Zwietering, M.H., De Wit, J.C., Cuppers, H.G.A.M. and Van't Riet, K., 1994. Modeling of bacterial growth with shifts in temperature. Appl. Environ. Microbiol., 60(1), pp.204-213.</td><td> 6.97537383</td><td>  21.229423</td><td>N</td></tr>\n",
       "\t<tr><td>25</td><td>Lactobaciulus plantarum</td><td>MRS</td><td>1</td><td>Zwietering, M.H., De Wit, J.C., Cuppers, H.G.A.M. and Van't Riet, K., 1994. Modeling of bacterial growth with shifts in temperature. Appl. Environ. Microbiol., 60(1), pp.204-213.</td><td> 5.97770437</td><td>  16.913610</td><td>N</td></tr>\n",
       "\t<tr><td>25</td><td>Lactobaciulus plantarum</td><td>MRS</td><td>1</td><td>Zwietering, M.H., De Wit, J.C., Cuppers, H.G.A.M. and Van't Riet, K., 1994. Modeling of bacterial growth with shifts in temperature. Appl. Environ. Microbiol., 60(1), pp.204-213.</td><td> 5.97973628</td><td>  11.823976</td><td>N</td></tr>\n",
       "\t<tr><td>25</td><td>Lactobaciulus plantarum</td><td>MRS</td><td>1</td><td>Zwietering, M.H., De Wit, J.C., Cuppers, H.G.A.M. and Van't Riet, K., 1994. Modeling of bacterial growth with shifts in temperature. Appl. Environ. Microbiol., 60(1), pp.204-213.</td><td> 4.85664236</td><td>  10.387062</td><td>N</td></tr>\n",
       "\t<tr><td>25</td><td>Lactobaciulus plantarum</td><td>MRS</td><td>1</td><td>Zwietering, M.H., De Wit, J.C., Cuppers, H.G.A.M. and Van't Riet, K., 1994. Modeling of bacterial growth with shifts in temperature. Appl. Environ. Microbiol., 60(1), pp.204-213.</td><td> 4.98225154</td><td>   9.118591</td><td>N</td></tr>\n",
       "\t<tr><td>25</td><td>Lactobaciulus plantarum</td><td>MRS</td><td>1</td><td>Zwietering, M.H., De Wit, J.C., Cuppers, H.G.A.M. and Van't Riet, K., 1994. Modeling of bacterial growth with shifts in temperature. Appl. Environ. Microbiol., 60(1), pp.204-213.</td><td> 4.98317514</td><td>   7.749226</td><td>N</td></tr>\n",
       "\t<tr><td>25</td><td>Lactobaciulus plantarum</td><td>MRS</td><td>1</td><td>Zwietering, M.H., De Wit, J.C., Cuppers, H.G.A.M. and Van't Riet, K., 1994. Modeling of bacterial growth with shifts in temperature. Appl. Environ. Microbiol., 60(1), pp.204-213.</td><td> 4.98409874</td><td>   6.585502</td><td>N</td></tr>\n",
       "\t<tr><td>25</td><td>Lactobaciulus plantarum</td><td>MRS</td><td>1</td><td>Zwietering, M.H., De Wit, J.C., Cuppers, H.G.A.M. and Van't Riet, K., 1994. Modeling of bacterial growth with shifts in temperature. Appl. Environ. Microbiol., 60(1), pp.204-213.</td><td> 3.98495153</td><td>   6.807037</td><td>N</td></tr>\n",
       "\t<tr><td>25</td><td>Lactobaciulus plantarum</td><td>MRS</td><td>1</td><td>Zwietering, M.H., De Wit, J.C., Cuppers, H.G.A.M. and Van't Riet, K., 1994. Modeling of bacterial growth with shifts in temperature. Appl. Environ. Microbiol., 60(1), pp.204-213.</td><td> 3.98587512</td><td>   5.784804</td><td>N</td></tr>\n",
       "\t<tr><td>25</td><td>Lactobaciulus plantarum</td><td>MRS</td><td>1</td><td>Zwietering, M.H., De Wit, J.C., Cuppers, H.G.A.M. and Van't Riet, K., 1994. Modeling of bacterial growth with shifts in temperature. Appl. Environ. Microbiol., 60(1), pp.204-213.</td><td> 2.86352007</td><td>   4.461514</td><td>N</td></tr>\n",
       "\t<tr><td>25</td><td>Lactobaciulus plantarum</td><td>MRS</td><td>1</td><td>Zwietering, M.H., De Wit, J.C., Cuppers, H.G.A.M. and Van't Riet, K., 1994. Modeling of bacterial growth with shifts in temperature. Appl. Environ. Microbiol., 60(1), pp.204-213.</td><td> 3.98679872</td><td>   4.916083</td><td>N</td></tr>\n",
       "\t<tr><td>25</td><td>Lactobaciulus plantarum</td><td>MRS</td><td>1</td><td>Zwietering, M.H., De Wit, J.C., Cuppers, H.G.A.M. and Van't Riet, K., 1994. Modeling of bacterial growth with shifts in temperature. Appl. Environ. Microbiol., 60(1), pp.204-213.</td><td> 3.98772232</td><td>   4.177820</td><td>N</td></tr>\n",
       "\t<tr><td>25</td><td>Lactobaciulus plantarum</td><td>MRS</td><td>1</td><td>Zwietering, M.H., De Wit, J.C., Cuppers, H.G.A.M. and Van't Riet, K., 1994. Modeling of bacterial growth with shifts in temperature. Appl. Environ. Microbiol., 60(1), pp.204-213.</td><td> 2.98949870</td><td>   3.669860</td><td>N</td></tr>\n",
       "\t<tr><td>25</td><td>Lactobaciulus plantarum</td><td>MRS</td><td>1</td><td>Zwietering, M.H., De Wit, J.C., Cuppers, H.G.A.M. and Van't Riet, K., 1994. Modeling of bacterial growth with shifts in temperature. Appl. Environ. Microbiol., 60(1), pp.204-213.</td><td> 1.74134974</td><td>   3.330750</td><td>N</td></tr>\n",
       "\t<tr><td>25</td><td>Lactobaciulus plantarum</td><td>MRS</td><td>1</td><td>Zwietering, M.H., De Wit, J.C., Cuppers, H.G.A.M. and Van't Riet, K., 1994. Modeling of bacterial growth with shifts in temperature. Appl. Environ. Microbiol., 60(1), pp.204-213.</td><td> 0.74349557</td><td>   2.741410</td><td>N</td></tr>\n",
       "\t<tr><td>25</td><td>Lactobaciulus plantarum</td><td>MRS</td><td>1</td><td>Zwietering, M.H., De Wit, J.C., Cuppers, H.G.A.M. and Van't Riet, K., 1994. Modeling of bacterial growth with shifts in temperature. Appl. Environ. Microbiol., 60(1), pp.204-213.</td><td> 0.05735537</td><td>   2.447187</td><td>N</td></tr>\n",
       "\t<tr><td>25</td><td>Lactobaciulus plantarum</td><td>MRS</td><td>1</td><td>Zwietering, M.H., De Wit, J.C., Cuppers, H.G.A.M. and Van't Riet, K., 1994. Modeling of bacterial growth with shifts in temperature. Appl. Environ. Microbiol., 60(1), pp.204-213.</td><td> 2.49260353</td><td>   2.327517</td><td>N</td></tr>\n",
       "\t<tr><td>25</td><td>Lactobaciulus plantarum</td><td>MRS</td><td>1</td><td>Zwietering, M.H., De Wit, J.C., Cuppers, H.G.A.M. and Van't Riet, K., 1994. Modeling of bacterial growth with shifts in temperature. Appl. Environ. Microbiol., 60(1), pp.204-213.</td><td> 1.74301222</td><td>   2.485061</td><td>N</td></tr>\n",
       "\t<tr><td>25</td><td>Lactobaciulus plantarum</td><td>MRS</td><td>1</td><td>Zwietering, M.H., De Wit, J.C., Cuppers, H.G.A.M. and Van't Riet, K., 1994. Modeling of bacterial growth with shifts in temperature. Appl. Environ. Microbiol., 60(1), pp.204-213.</td><td> 0.99452923</td><td>   2.182619</td><td>N</td></tr>\n",
       "\t<tr><td>25</td><td>Lactobaciulus plantarum</td><td>MRS</td><td>1</td><td>Zwietering, M.H., De Wit, J.C., Cuppers, H.G.A.M. and Van't Riet, K., 1994. Modeling of bacterial growth with shifts in temperature. Appl. Environ. Microbiol., 60(1), pp.204-213.</td><td> 2.24156987</td><td>   2.923404</td><td>N</td></tr>\n",
       "</tbody>\n",
       "</table>\n"
      ],
      "text/latex": [
       "A data.frame: 4387 × 8\n",
       "\\begin{tabular}{r|llllllll}\n",
       " Temp.C & clade & substrate & replicate & SourceRef & Time.hr & Popn\\_Change & Popn\\_DataUnit\\\\\n",
       " <int> & <chr> & <chr> & <int> & <chr> & <dbl> & <dbl> & <chr>\\\\\n",
       "\\hline\n",
       "\t 5 & Chryseobacterium balustinum & TSB & 1 & Bae, Y.M., Zheng, L., Hyun, J.E., Jung, K.S., Heu, S. and Lee, S.Y., 2014. Growth characteristics and biofilm formation of various spoilage bacteria isolated from fresh produce. Journal of food science, 79(10), pp.M2072-M2080. & 6.698795e+02 & 0.283275712 & OD\\_595\\\\\n",
       "\t 5 & Chryseobacterium balustinum & TSB & 1 & Bae, Y.M., Zheng, L., Hyun, J.E., Jung, K.S., Heu, S. and Lee, S.Y., 2014. Growth characteristics and biofilm formation of various spoilage bacteria isolated from fresh produce. Journal of food science, 79(10), pp.M2072-M2080. & 6.469880e+02 & 0.283342064 & OD\\_595\\\\\n",
       "\t 5 & Chryseobacterium balustinum & TSB & 1 & Bae, Y.M., Zheng, L., Hyun, J.E., Jung, K.S., Heu, S. and Lee, S.Y., 2014. Growth characteristics and biofilm formation of various spoilage bacteria isolated from fresh produce. Journal of food science, 79(10), pp.M2072-M2080. & 6.228916e+02 & 0.285151039 & OD\\_595\\\\\n",
       "\t 5 & Chryseobacterium balustinum & TSB & 1 & Bae, Y.M., Zheng, L., Hyun, J.E., Jung, K.S., Heu, S. and Lee, S.Y., 2014. Growth characteristics and biofilm formation of various spoilage bacteria isolated from fresh produce. Journal of food science, 79(10), pp.M2072-M2080. & 5.975904e+02 & 0.281746115 & OD\\_595\\\\\n",
       "\t 5 & Chryseobacterium balustinum & TSB & 1 & Bae, Y.M., Zheng, L., Hyun, J.E., Jung, K.S., Heu, S. and Lee, S.Y., 2014. Growth characteristics and biofilm formation of various spoilage bacteria isolated from fresh produce. Journal of food science, 79(10), pp.M2072-M2080. & 5.746988e+02 & 0.273116815 & OD\\_595\\\\\n",
       "\t 5 & Chryseobacterium balustinum & TSB & 1 & Bae, Y.M., Zheng, L., Hyun, J.E., Jung, K.S., Heu, S. and Lee, S.Y., 2014. Growth characteristics and biofilm formation of various spoilage bacteria isolated from fresh produce. Journal of food science, 79(10), pp.M2072-M2080. & 5.506024e+02 & 0.257534486 & OD\\_595\\\\\n",
       "\t 5 & Chryseobacterium balustinum & TSB & 1 & Bae, Y.M., Zheng, L., Hyun, J.E., Jung, K.S., Heu, S. and Lee, S.Y., 2014. Growth characteristics and biofilm formation of various spoilage bacteria isolated from fresh produce. Journal of food science, 79(10), pp.M2072-M2080. & 5.265060e+02 & 0.257604330 & OD\\_595\\\\\n",
       "\t 5 & Chryseobacterium balustinum & TSB & 1 & Bae, Y.M., Zheng, L., Hyun, J.E., Jung, K.S., Heu, S. and Lee, S.Y., 2014. Growth characteristics and biofilm formation of various spoilage bacteria isolated from fresh produce. Journal of food science, 79(10), pp.M2072-M2080. & 5.024096e+02 & 0.245500262 & OD\\_595\\\\\n",
       "\t 5 & Chryseobacterium balustinum & TSB & 1 & Bae, Y.M., Zheng, L., Hyun, J.E., Jung, K.S., Heu, S. and Lee, S.Y., 2014. Growth characteristics and biofilm formation of various spoilage bacteria isolated from fresh produce. Journal of food science, 79(10), pp.M2072-M2080. & 4.795181e+02 & 0.247305745 & OD\\_595\\\\\n",
       "\t 5 & Chryseobacterium balustinum & TSB & 1 & Bae, Y.M., Zheng, L., Hyun, J.E., Jung, K.S., Heu, S. and Lee, S.Y., 2014. Growth characteristics and biofilm formation of various spoilage bacteria isolated from fresh produce. Journal of food science, 79(10), pp.M2072-M2080. & 4.542169e+02 & 0.250857342 & OD\\_595\\\\\n",
       "\t 5 & Chryseobacterium balustinum & TSB & 1 & Bae, Y.M., Zheng, L., Hyun, J.E., Jung, K.S., Heu, S. and Lee, S.Y., 2014. Growth characteristics and biofilm formation of various spoilage bacteria isolated from fresh produce. Journal of food science, 79(10), pp.M2072-M2080. & 4.313253e+02 & 0.235271521 & OD\\_595\\\\\n",
       "\t 5 & Chryseobacterium balustinum & TSB & 1 & Bae, Y.M., Zheng, L., Hyun, J.E., Jung, K.S., Heu, S. and Lee, S.Y., 2014. Growth characteristics and biofilm formation of various spoilage bacteria isolated from fresh produce. Journal of food science, 79(10), pp.M2072-M2080. & 3.843373e+02 & 0.219755544 & OD\\_595\\\\\n",
       "\t 5 & Chryseobacterium balustinum & TSB & 1 & Bae, Y.M., Zheng, L., Hyun, J.E., Jung, K.S., Heu, S. and Lee, S.Y., 2014. Growth characteristics and biofilm formation of various spoilage bacteria isolated from fresh produce. Journal of food science, 79(10), pp.M2072-M2080. & 4.060241e+02 & 0.228388336 & OD\\_595\\\\\n",
       "\t 5 & Chryseobacterium balustinum & TSB & 1 & Bae, Y.M., Zheng, L., Hyun, J.E., Jung, K.S., Heu, S. and Lee, S.Y., 2014. Growth characteristics and biofilm formation of various spoilage bacteria isolated from fresh produce. Journal of food science, 79(10), pp.M2072-M2080. & 3.590361e+02 & 0.221568011 & OD\\_595\\\\\n",
       "\t 5 & Chryseobacterium balustinum & TSB & 1 & Bae, Y.M., Zheng, L., Hyun, J.E., Jung, K.S., Heu, S. and Lee, S.Y., 2014. Growth characteristics and biofilm formation of various spoilage bacteria isolated from fresh produce. Journal of food science, 79(10), pp.M2072-M2080. & 3.108434e+02 & 0.192142483 & OD\\_595\\\\\n",
       "\t 5 & Chryseobacterium balustinum & TSB & 1 & Bae, Y.M., Zheng, L., Hyun, J.E., Jung, K.S., Heu, S. and Lee, S.Y., 2014. Growth characteristics and biofilm formation of various spoilage bacteria isolated from fresh produce. Journal of food science, 79(10), pp.M2072-M2080. & 3.349398e+02 & 0.197290030 & OD\\_595\\\\\n",
       "\t 5 & Chryseobacterium balustinum & TSB & 1 & Bae, Y.M., Zheng, L., Hyun, J.E., Jung, K.S., Heu, S. and Lee, S.Y., 2014. Growth characteristics and biofilm formation of various spoilage bacteria isolated from fresh produce. Journal of food science, 79(10), pp.M2072-M2080. & 2.614458e+02 & 0.159242186 & OD\\_595\\\\\n",
       "\t 5 & Chryseobacterium balustinum & TSB & 1 & Bae, Y.M., Zheng, L., Hyun, J.E., Jung, K.S., Heu, S. and Lee, S.Y., 2014. Growth characteristics and biofilm formation of various spoilage bacteria isolated from fresh produce. Journal of food science, 79(10), pp.M2072-M2080. & 2.867470e+02 & 0.173081893 & OD\\_595\\\\\n",
       "\t 5 & Chryseobacterium balustinum & TSB & 1 & Bae, Y.M., Zheng, L., Hyun, J.E., Jung, K.S., Heu, S. and Lee, S.Y., 2014. Growth characteristics and biofilm formation of various spoilage bacteria isolated from fresh produce. Journal of food science, 79(10), pp.M2072-M2080. & 2.156627e+02 & 0.140244456 & OD\\_595\\\\\n",
       "\t 5 & Chryseobacterium balustinum & TSB & 1 & Bae, Y.M., Zheng, L., Hyun, J.E., Jung, K.S., Heu, S. and Lee, S.Y., 2014. Growth characteristics and biofilm formation of various spoilage bacteria isolated from fresh produce. Journal of food science, 79(10), pp.M2072-M2080. & 2.385542e+02 & 0.152352017 & OD\\_595\\\\\n",
       "\t 5 & Chryseobacterium balustinum & TSB & 1 & Bae, Y.M., Zheng, L., Hyun, J.E., Jung, K.S., Heu, S. and Lee, S.Y., 2014. Growth characteristics and biofilm formation of various spoilage bacteria isolated from fresh produce. Journal of food science, 79(10), pp.M2072-M2080. & 1.903614e+02 & 0.119448228 & OD\\_595\\\\\n",
       "\t 5 & Chryseobacterium balustinum & TSB & 1 & Bae, Y.M., Zheng, L., Hyun, J.E., Jung, K.S., Heu, S. and Lee, S.Y., 2014. Growth characteristics and biofilm formation of various spoilage bacteria isolated from fresh produce. Journal of food science, 79(10), pp.M2072-M2080. & 1.662651e+02 & 0.103865898 & OD\\_595\\\\\n",
       "\t 5 & Chryseobacterium balustinum & TSB & 1 & Bae, Y.M., Zheng, L., Hyun, J.E., Jung, K.S., Heu, S. and Lee, S.Y., 2014. Growth characteristics and biofilm formation of various spoilage bacteria isolated from fresh produce. Journal of food science, 79(10), pp.M2072-M2080. & 1.421687e+02 & 0.084805308 & OD\\_595\\\\\n",
       "\t 5 & Chryseobacterium balustinum & TSB & 1 & Bae, Y.M., Zheng, L., Hyun, J.E., Jung, K.S., Heu, S. and Lee, S.Y., 2014. Growth characteristics and biofilm formation of various spoilage bacteria isolated from fresh produce. Journal of food science, 79(10), pp.M2072-M2080. & 1.192771e+02 & 0.062262965 & OD\\_595\\\\\n",
       "\t 5 & Chryseobacterium balustinum & TSB & 1 & Bae, Y.M., Zheng, L., Hyun, J.E., Jung, K.S., Heu, S. and Lee, S.Y., 2014. Growth characteristics and biofilm formation of various spoilage bacteria isolated from fresh produce. Journal of food science, 79(10), pp.M2072-M2080. & 9.518072e+01 & 0.044941505 & OD\\_595\\\\\n",
       "\t 5 & Chryseobacterium balustinum & TSB & 1 & Bae, Y.M., Zheng, L., Hyun, J.E., Jung, K.S., Heu, S. and Lee, S.Y., 2014. Growth characteristics and biofilm formation of various spoilage bacteria isolated from fresh produce. Journal of food science, 79(10), pp.M2072-M2080. & 7.108434e+01 & 0.032837437 & OD\\_595\\\\\n",
       "\t 5 & Chryseobacterium balustinum & TSB & 1 & Bae, Y.M., Zheng, L., Hyun, J.E., Jung, K.S., Heu, S. and Lee, S.Y., 2014. Growth characteristics and biofilm formation of various spoilage bacteria isolated from fresh produce. Journal of food science, 79(10), pp.M2072-M2080. & 4.698795e+01 & 0.018994238 & OD\\_595\\\\\n",
       "\t 5 & Chryseobacterium balustinum & TSB & 1 & Bae, Y.M., Zheng, L., Hyun, J.E., Jung, K.S., Heu, S. and Lee, S.Y., 2014. Growth characteristics and biofilm formation of various spoilage bacteria isolated from fresh produce. Journal of food science, 79(10), pp.M2072-M2080. & 2.289157e+01 & 0.008629300 & OD\\_595\\\\\n",
       "\t 5 & Chryseobacterium balustinum & TSB & 1 & Bae, Y.M., Zheng, L., Hyun, J.E., Jung, K.S., Heu, S. and Lee, S.Y., 2014. Growth characteristics and biofilm formation of various spoilage bacteria isolated from fresh produce. Journal of food science, 79(10), pp.M2072-M2080. & 1.421085e-14 & 0.005217391 & OD\\_595\\\\\n",
       "\t 5 & Enterobacter sp             & TSB & 1 & Bae, Y.M., Zheng, L., Hyun, J.E., Jung, K.S., Heu, S. and Lee, S.Y., 2014. Growth characteristics and biofilm formation of various spoilage bacteria isolated from fresh produce. Journal of food science, 79(10), pp.M2072-M2080. & 6.698795e+02 & 0.566753972 & OD\\_595\\\\\n",
       "\t ⋮ & ⋮ & ⋮ & ⋮ & ⋮ & ⋮ & ⋮ & ⋮\\\\\n",
       "\t 25 & Lactobaciulus plantarum & MRS & 1 & Zwietering, M.H., De Wit, J.C., Cuppers, H.G.A.M. and Van't Riet, K., 1994. Modeling of bacterial growth with shifts in temperature. Appl. Environ. Microbiol., 60(1), pp.204-213. &  8.84473411 &   40.660688 & N\\\\\n",
       "\t 25 & Lactobaciulus plantarum & MRS & 1 & Zwietering, M.H., De Wit, J.C., Cuppers, H.G.A.M. and Van't Riet, K., 1994. Modeling of bacterial growth with shifts in temperature. Appl. Environ. Microbiol., 60(1), pp.204-213. &  7.97027249 &   43.415860 & N\\\\\n",
       "\t 25 & Lactobaciulus plantarum & MRS & 1 & Zwietering, M.H., De Wit, J.C., Cuppers, H.G.A.M. and Van't Riet, K., 1994. Modeling of bacterial growth with shifts in temperature. Appl. Environ. Microbiol., 60(1), pp.204-213. &  7.84577162 &   40.682726 & N\\\\\n",
       "\t 25 & Lactobaciulus plantarum & MRS & 1 & Zwietering, M.H., De Wit, J.C., Cuppers, H.G.A.M. and Van't Riet, K., 1994. Modeling of bacterial growth with shifts in temperature. Appl. Environ. Microbiol., 60(1), pp.204-213. &  7.97156553 &   34.570940 & N\\\\\n",
       "\t 25 & Lactobaciulus plantarum & MRS & 1 & Zwietering, M.H., De Wit, J.C., Cuppers, H.G.A.M. and Van't Riet, K., 1994. Modeling of bacterial growth with shifts in temperature. Appl. Environ. Microbiol., 60(1), pp.204-213. &  6.91062968 &   31.887943 & N\\\\\n",
       "\t 25 & Lactobaciulus plantarum & MRS & 1 & Zwietering, M.H., De Wit, J.C., Cuppers, H.G.A.M. and Van't Riet, K., 1994. Modeling of bacterial growth with shifts in temperature. Appl. Environ. Microbiol., 60(1), pp.204-213. & 21.92730060 & 6471.018166 & N\\\\\n",
       "\t 25 & Lactobaciulus plantarum & MRS & 1 & Zwietering, M.H., De Wit, J.C., Cuppers, H.G.A.M. and Van't Riet, K., 1994. Modeling of bacterial growth with shifts in temperature. Appl. Environ. Microbiol., 60(1), pp.204-213. &  5.91203662 &   29.894689 & N\\\\\n",
       "\t 25 & Lactobaciulus plantarum & MRS & 1 & Zwietering, M.H., De Wit, J.C., Cuppers, H.G.A.M. and Van't Riet, K., 1994. Modeling of bacterial growth with shifts in temperature. Appl. Environ. Microbiol., 60(1), pp.204-213. &  5.97622661 &   21.943576 & N\\\\\n",
       "\t 25 & Lactobaciulus plantarum & MRS & 1 & Zwietering, M.H., De Wit, J.C., Cuppers, H.G.A.M. and Van't Riet, K., 1994. Modeling of bacterial growth with shifts in temperature. Appl. Environ. Microbiol., 60(1), pp.204-213. &  6.91173799 &   26.231503 & N\\\\\n",
       "\t 25 & Lactobaciulus plantarum & MRS & 1 & Zwietering, M.H., De Wit, J.C., Cuppers, H.G.A.M. and Van't Riet, K., 1994. Modeling of bacterial growth with shifts in temperature. Appl. Environ. Microbiol., 60(1), pp.204-213. &  6.97537383 &   21.229423 & N\\\\\n",
       "\t 25 & Lactobaciulus plantarum & MRS & 1 & Zwietering, M.H., De Wit, J.C., Cuppers, H.G.A.M. and Van't Riet, K., 1994. Modeling of bacterial growth with shifts in temperature. Appl. Environ. Microbiol., 60(1), pp.204-213. &  6.97537383 &   21.229423 & N\\\\\n",
       "\t 25 & Lactobaciulus plantarum & MRS & 1 & Zwietering, M.H., De Wit, J.C., Cuppers, H.G.A.M. and Van't Riet, K., 1994. Modeling of bacterial growth with shifts in temperature. Appl. Environ. Microbiol., 60(1), pp.204-213. &  5.97770437 &   16.913610 & N\\\\\n",
       "\t 25 & Lactobaciulus plantarum & MRS & 1 & Zwietering, M.H., De Wit, J.C., Cuppers, H.G.A.M. and Van't Riet, K., 1994. Modeling of bacterial growth with shifts in temperature. Appl. Environ. Microbiol., 60(1), pp.204-213. &  5.97973628 &   11.823976 & N\\\\\n",
       "\t 25 & Lactobaciulus plantarum & MRS & 1 & Zwietering, M.H., De Wit, J.C., Cuppers, H.G.A.M. and Van't Riet, K., 1994. Modeling of bacterial growth with shifts in temperature. Appl. Environ. Microbiol., 60(1), pp.204-213. &  4.85664236 &   10.387062 & N\\\\\n",
       "\t 25 & Lactobaciulus plantarum & MRS & 1 & Zwietering, M.H., De Wit, J.C., Cuppers, H.G.A.M. and Van't Riet, K., 1994. Modeling of bacterial growth with shifts in temperature. Appl. Environ. Microbiol., 60(1), pp.204-213. &  4.98225154 &    9.118591 & N\\\\\n",
       "\t 25 & Lactobaciulus plantarum & MRS & 1 & Zwietering, M.H., De Wit, J.C., Cuppers, H.G.A.M. and Van't Riet, K., 1994. Modeling of bacterial growth with shifts in temperature. Appl. Environ. Microbiol., 60(1), pp.204-213. &  4.98317514 &    7.749226 & N\\\\\n",
       "\t 25 & Lactobaciulus plantarum & MRS & 1 & Zwietering, M.H., De Wit, J.C., Cuppers, H.G.A.M. and Van't Riet, K., 1994. Modeling of bacterial growth with shifts in temperature. Appl. Environ. Microbiol., 60(1), pp.204-213. &  4.98409874 &    6.585502 & N\\\\\n",
       "\t 25 & Lactobaciulus plantarum & MRS & 1 & Zwietering, M.H., De Wit, J.C., Cuppers, H.G.A.M. and Van't Riet, K., 1994. Modeling of bacterial growth with shifts in temperature. Appl. Environ. Microbiol., 60(1), pp.204-213. &  3.98495153 &    6.807037 & N\\\\\n",
       "\t 25 & Lactobaciulus plantarum & MRS & 1 & Zwietering, M.H., De Wit, J.C., Cuppers, H.G.A.M. and Van't Riet, K., 1994. Modeling of bacterial growth with shifts in temperature. Appl. Environ. Microbiol., 60(1), pp.204-213. &  3.98587512 &    5.784804 & N\\\\\n",
       "\t 25 & Lactobaciulus plantarum & MRS & 1 & Zwietering, M.H., De Wit, J.C., Cuppers, H.G.A.M. and Van't Riet, K., 1994. Modeling of bacterial growth with shifts in temperature. Appl. Environ. Microbiol., 60(1), pp.204-213. &  2.86352007 &    4.461514 & N\\\\\n",
       "\t 25 & Lactobaciulus plantarum & MRS & 1 & Zwietering, M.H., De Wit, J.C., Cuppers, H.G.A.M. and Van't Riet, K., 1994. Modeling of bacterial growth with shifts in temperature. Appl. Environ. Microbiol., 60(1), pp.204-213. &  3.98679872 &    4.916083 & N\\\\\n",
       "\t 25 & Lactobaciulus plantarum & MRS & 1 & Zwietering, M.H., De Wit, J.C., Cuppers, H.G.A.M. and Van't Riet, K., 1994. Modeling of bacterial growth with shifts in temperature. Appl. Environ. Microbiol., 60(1), pp.204-213. &  3.98772232 &    4.177820 & N\\\\\n",
       "\t 25 & Lactobaciulus plantarum & MRS & 1 & Zwietering, M.H., De Wit, J.C., Cuppers, H.G.A.M. and Van't Riet, K., 1994. Modeling of bacterial growth with shifts in temperature. Appl. Environ. Microbiol., 60(1), pp.204-213. &  2.98949870 &    3.669860 & N\\\\\n",
       "\t 25 & Lactobaciulus plantarum & MRS & 1 & Zwietering, M.H., De Wit, J.C., Cuppers, H.G.A.M. and Van't Riet, K., 1994. Modeling of bacterial growth with shifts in temperature. Appl. Environ. Microbiol., 60(1), pp.204-213. &  1.74134974 &    3.330750 & N\\\\\n",
       "\t 25 & Lactobaciulus plantarum & MRS & 1 & Zwietering, M.H., De Wit, J.C., Cuppers, H.G.A.M. and Van't Riet, K., 1994. Modeling of bacterial growth with shifts in temperature. Appl. Environ. Microbiol., 60(1), pp.204-213. &  0.74349557 &    2.741410 & N\\\\\n",
       "\t 25 & Lactobaciulus plantarum & MRS & 1 & Zwietering, M.H., De Wit, J.C., Cuppers, H.G.A.M. and Van't Riet, K., 1994. Modeling of bacterial growth with shifts in temperature. Appl. Environ. Microbiol., 60(1), pp.204-213. &  0.05735537 &    2.447187 & N\\\\\n",
       "\t 25 & Lactobaciulus plantarum & MRS & 1 & Zwietering, M.H., De Wit, J.C., Cuppers, H.G.A.M. and Van't Riet, K., 1994. Modeling of bacterial growth with shifts in temperature. Appl. Environ. Microbiol., 60(1), pp.204-213. &  2.49260353 &    2.327517 & N\\\\\n",
       "\t 25 & Lactobaciulus plantarum & MRS & 1 & Zwietering, M.H., De Wit, J.C., Cuppers, H.G.A.M. and Van't Riet, K., 1994. Modeling of bacterial growth with shifts in temperature. Appl. Environ. Microbiol., 60(1), pp.204-213. &  1.74301222 &    2.485061 & N\\\\\n",
       "\t 25 & Lactobaciulus plantarum & MRS & 1 & Zwietering, M.H., De Wit, J.C., Cuppers, H.G.A.M. and Van't Riet, K., 1994. Modeling of bacterial growth with shifts in temperature. Appl. Environ. Microbiol., 60(1), pp.204-213. &  0.99452923 &    2.182619 & N\\\\\n",
       "\t 25 & Lactobaciulus plantarum & MRS & 1 & Zwietering, M.H., De Wit, J.C., Cuppers, H.G.A.M. and Van't Riet, K., 1994. Modeling of bacterial growth with shifts in temperature. Appl. Environ. Microbiol., 60(1), pp.204-213. &  2.24156987 &    2.923404 & N\\\\\n",
       "\\end{tabular}\n"
      ],
      "text/markdown": [
       "\n",
       "A data.frame: 4387 × 8\n",
       "\n",
       "| Temp.C &lt;int&gt; | clade &lt;chr&gt; | substrate &lt;chr&gt; | replicate &lt;int&gt; | SourceRef &lt;chr&gt; | Time.hr &lt;dbl&gt; | Popn_Change &lt;dbl&gt; | Popn_DataUnit &lt;chr&gt; |\n",
       "|---|---|---|---|---|---|---|---|\n",
       "| 5 | Chryseobacterium balustinum | TSB | 1 | Bae, Y.M., Zheng, L., Hyun, J.E., Jung, K.S., Heu, S. and Lee, S.Y., 2014. Growth characteristics and biofilm formation of various spoilage bacteria isolated from fresh produce. Journal of food science, 79(10), pp.M2072-M2080. | 6.698795e+02 | 0.283275712 | OD_595 |\n",
       "| 5 | Chryseobacterium balustinum | TSB | 1 | Bae, Y.M., Zheng, L., Hyun, J.E., Jung, K.S., Heu, S. and Lee, S.Y., 2014. Growth characteristics and biofilm formation of various spoilage bacteria isolated from fresh produce. Journal of food science, 79(10), pp.M2072-M2080. | 6.469880e+02 | 0.283342064 | OD_595 |\n",
       "| 5 | Chryseobacterium balustinum | TSB | 1 | Bae, Y.M., Zheng, L., Hyun, J.E., Jung, K.S., Heu, S. and Lee, S.Y., 2014. Growth characteristics and biofilm formation of various spoilage bacteria isolated from fresh produce. Journal of food science, 79(10), pp.M2072-M2080. | 6.228916e+02 | 0.285151039 | OD_595 |\n",
       "| 5 | Chryseobacterium balustinum | TSB | 1 | Bae, Y.M., Zheng, L., Hyun, J.E., Jung, K.S., Heu, S. and Lee, S.Y., 2014. Growth characteristics and biofilm formation of various spoilage bacteria isolated from fresh produce. Journal of food science, 79(10), pp.M2072-M2080. | 5.975904e+02 | 0.281746115 | OD_595 |\n",
       "| 5 | Chryseobacterium balustinum | TSB | 1 | Bae, Y.M., Zheng, L., Hyun, J.E., Jung, K.S., Heu, S. and Lee, S.Y., 2014. Growth characteristics and biofilm formation of various spoilage bacteria isolated from fresh produce. Journal of food science, 79(10), pp.M2072-M2080. | 5.746988e+02 | 0.273116815 | OD_595 |\n",
       "| 5 | Chryseobacterium balustinum | TSB | 1 | Bae, Y.M., Zheng, L., Hyun, J.E., Jung, K.S., Heu, S. and Lee, S.Y., 2014. Growth characteristics and biofilm formation of various spoilage bacteria isolated from fresh produce. Journal of food science, 79(10), pp.M2072-M2080. | 5.506024e+02 | 0.257534486 | OD_595 |\n",
       "| 5 | Chryseobacterium balustinum | TSB | 1 | Bae, Y.M., Zheng, L., Hyun, J.E., Jung, K.S., Heu, S. and Lee, S.Y., 2014. Growth characteristics and biofilm formation of various spoilage bacteria isolated from fresh produce. Journal of food science, 79(10), pp.M2072-M2080. | 5.265060e+02 | 0.257604330 | OD_595 |\n",
       "| 5 | Chryseobacterium balustinum | TSB | 1 | Bae, Y.M., Zheng, L., Hyun, J.E., Jung, K.S., Heu, S. and Lee, S.Y., 2014. Growth characteristics and biofilm formation of various spoilage bacteria isolated from fresh produce. Journal of food science, 79(10), pp.M2072-M2080. | 5.024096e+02 | 0.245500262 | OD_595 |\n",
       "| 5 | Chryseobacterium balustinum | TSB | 1 | Bae, Y.M., Zheng, L., Hyun, J.E., Jung, K.S., Heu, S. and Lee, S.Y., 2014. Growth characteristics and biofilm formation of various spoilage bacteria isolated from fresh produce. Journal of food science, 79(10), pp.M2072-M2080. | 4.795181e+02 | 0.247305745 | OD_595 |\n",
       "| 5 | Chryseobacterium balustinum | TSB | 1 | Bae, Y.M., Zheng, L., Hyun, J.E., Jung, K.S., Heu, S. and Lee, S.Y., 2014. Growth characteristics and biofilm formation of various spoilage bacteria isolated from fresh produce. Journal of food science, 79(10), pp.M2072-M2080. | 4.542169e+02 | 0.250857342 | OD_595 |\n",
       "| 5 | Chryseobacterium balustinum | TSB | 1 | Bae, Y.M., Zheng, L., Hyun, J.E., Jung, K.S., Heu, S. and Lee, S.Y., 2014. Growth characteristics and biofilm formation of various spoilage bacteria isolated from fresh produce. Journal of food science, 79(10), pp.M2072-M2080. | 4.313253e+02 | 0.235271521 | OD_595 |\n",
       "| 5 | Chryseobacterium balustinum | TSB | 1 | Bae, Y.M., Zheng, L., Hyun, J.E., Jung, K.S., Heu, S. and Lee, S.Y., 2014. Growth characteristics and biofilm formation of various spoilage bacteria isolated from fresh produce. Journal of food science, 79(10), pp.M2072-M2080. | 3.843373e+02 | 0.219755544 | OD_595 |\n",
       "| 5 | Chryseobacterium balustinum | TSB | 1 | Bae, Y.M., Zheng, L., Hyun, J.E., Jung, K.S., Heu, S. and Lee, S.Y., 2014. Growth characteristics and biofilm formation of various spoilage bacteria isolated from fresh produce. Journal of food science, 79(10), pp.M2072-M2080. | 4.060241e+02 | 0.228388336 | OD_595 |\n",
       "| 5 | Chryseobacterium balustinum | TSB | 1 | Bae, Y.M., Zheng, L., Hyun, J.E., Jung, K.S., Heu, S. and Lee, S.Y., 2014. Growth characteristics and biofilm formation of various spoilage bacteria isolated from fresh produce. Journal of food science, 79(10), pp.M2072-M2080. | 3.590361e+02 | 0.221568011 | OD_595 |\n",
       "| 5 | Chryseobacterium balustinum | TSB | 1 | Bae, Y.M., Zheng, L., Hyun, J.E., Jung, K.S., Heu, S. and Lee, S.Y., 2014. Growth characteristics and biofilm formation of various spoilage bacteria isolated from fresh produce. Journal of food science, 79(10), pp.M2072-M2080. | 3.108434e+02 | 0.192142483 | OD_595 |\n",
       "| 5 | Chryseobacterium balustinum | TSB | 1 | Bae, Y.M., Zheng, L., Hyun, J.E., Jung, K.S., Heu, S. and Lee, S.Y., 2014. Growth characteristics and biofilm formation of various spoilage bacteria isolated from fresh produce. Journal of food science, 79(10), pp.M2072-M2080. | 3.349398e+02 | 0.197290030 | OD_595 |\n",
       "| 5 | Chryseobacterium balustinum | TSB | 1 | Bae, Y.M., Zheng, L., Hyun, J.E., Jung, K.S., Heu, S. and Lee, S.Y., 2014. Growth characteristics and biofilm formation of various spoilage bacteria isolated from fresh produce. Journal of food science, 79(10), pp.M2072-M2080. | 2.614458e+02 | 0.159242186 | OD_595 |\n",
       "| 5 | Chryseobacterium balustinum | TSB | 1 | Bae, Y.M., Zheng, L., Hyun, J.E., Jung, K.S., Heu, S. and Lee, S.Y., 2014. Growth characteristics and biofilm formation of various spoilage bacteria isolated from fresh produce. Journal of food science, 79(10), pp.M2072-M2080. | 2.867470e+02 | 0.173081893 | OD_595 |\n",
       "| 5 | Chryseobacterium balustinum | TSB | 1 | Bae, Y.M., Zheng, L., Hyun, J.E., Jung, K.S., Heu, S. and Lee, S.Y., 2014. Growth characteristics and biofilm formation of various spoilage bacteria isolated from fresh produce. Journal of food science, 79(10), pp.M2072-M2080. | 2.156627e+02 | 0.140244456 | OD_595 |\n",
       "| 5 | Chryseobacterium balustinum | TSB | 1 | Bae, Y.M., Zheng, L., Hyun, J.E., Jung, K.S., Heu, S. and Lee, S.Y., 2014. Growth characteristics and biofilm formation of various spoilage bacteria isolated from fresh produce. Journal of food science, 79(10), pp.M2072-M2080. | 2.385542e+02 | 0.152352017 | OD_595 |\n",
       "| 5 | Chryseobacterium balustinum | TSB | 1 | Bae, Y.M., Zheng, L., Hyun, J.E., Jung, K.S., Heu, S. and Lee, S.Y., 2014. Growth characteristics and biofilm formation of various spoilage bacteria isolated from fresh produce. Journal of food science, 79(10), pp.M2072-M2080. | 1.903614e+02 | 0.119448228 | OD_595 |\n",
       "| 5 | Chryseobacterium balustinum | TSB | 1 | Bae, Y.M., Zheng, L., Hyun, J.E., Jung, K.S., Heu, S. and Lee, S.Y., 2014. Growth characteristics and biofilm formation of various spoilage bacteria isolated from fresh produce. Journal of food science, 79(10), pp.M2072-M2080. | 1.662651e+02 | 0.103865898 | OD_595 |\n",
       "| 5 | Chryseobacterium balustinum | TSB | 1 | Bae, Y.M., Zheng, L., Hyun, J.E., Jung, K.S., Heu, S. and Lee, S.Y., 2014. Growth characteristics and biofilm formation of various spoilage bacteria isolated from fresh produce. Journal of food science, 79(10), pp.M2072-M2080. | 1.421687e+02 | 0.084805308 | OD_595 |\n",
       "| 5 | Chryseobacterium balustinum | TSB | 1 | Bae, Y.M., Zheng, L., Hyun, J.E., Jung, K.S., Heu, S. and Lee, S.Y., 2014. Growth characteristics and biofilm formation of various spoilage bacteria isolated from fresh produce. Journal of food science, 79(10), pp.M2072-M2080. | 1.192771e+02 | 0.062262965 | OD_595 |\n",
       "| 5 | Chryseobacterium balustinum | TSB | 1 | Bae, Y.M., Zheng, L., Hyun, J.E., Jung, K.S., Heu, S. and Lee, S.Y., 2014. Growth characteristics and biofilm formation of various spoilage bacteria isolated from fresh produce. Journal of food science, 79(10), pp.M2072-M2080. | 9.518072e+01 | 0.044941505 | OD_595 |\n",
       "| 5 | Chryseobacterium balustinum | TSB | 1 | Bae, Y.M., Zheng, L., Hyun, J.E., Jung, K.S., Heu, S. and Lee, S.Y., 2014. Growth characteristics and biofilm formation of various spoilage bacteria isolated from fresh produce. Journal of food science, 79(10), pp.M2072-M2080. | 7.108434e+01 | 0.032837437 | OD_595 |\n",
       "| 5 | Chryseobacterium balustinum | TSB | 1 | Bae, Y.M., Zheng, L., Hyun, J.E., Jung, K.S., Heu, S. and Lee, S.Y., 2014. Growth characteristics and biofilm formation of various spoilage bacteria isolated from fresh produce. Journal of food science, 79(10), pp.M2072-M2080. | 4.698795e+01 | 0.018994238 | OD_595 |\n",
       "| 5 | Chryseobacterium balustinum | TSB | 1 | Bae, Y.M., Zheng, L., Hyun, J.E., Jung, K.S., Heu, S. and Lee, S.Y., 2014. Growth characteristics and biofilm formation of various spoilage bacteria isolated from fresh produce. Journal of food science, 79(10), pp.M2072-M2080. | 2.289157e+01 | 0.008629300 | OD_595 |\n",
       "| 5 | Chryseobacterium balustinum | TSB | 1 | Bae, Y.M., Zheng, L., Hyun, J.E., Jung, K.S., Heu, S. and Lee, S.Y., 2014. Growth characteristics and biofilm formation of various spoilage bacteria isolated from fresh produce. Journal of food science, 79(10), pp.M2072-M2080. | 1.421085e-14 | 0.005217391 | OD_595 |\n",
       "| 5 | Enterobacter sp             | TSB | 1 | Bae, Y.M., Zheng, L., Hyun, J.E., Jung, K.S., Heu, S. and Lee, S.Y., 2014. Growth characteristics and biofilm formation of various spoilage bacteria isolated from fresh produce. Journal of food science, 79(10), pp.M2072-M2080. | 6.698795e+02 | 0.566753972 | OD_595 |\n",
       "| ⋮ | ⋮ | ⋮ | ⋮ | ⋮ | ⋮ | ⋮ | ⋮ |\n",
       "| 25 | Lactobaciulus plantarum | MRS | 1 | Zwietering, M.H., De Wit, J.C., Cuppers, H.G.A.M. and Van't Riet, K., 1994. Modeling of bacterial growth with shifts in temperature. Appl. Environ. Microbiol., 60(1), pp.204-213. |  8.84473411 |   40.660688 | N |\n",
       "| 25 | Lactobaciulus plantarum | MRS | 1 | Zwietering, M.H., De Wit, J.C., Cuppers, H.G.A.M. and Van't Riet, K., 1994. Modeling of bacterial growth with shifts in temperature. Appl. Environ. Microbiol., 60(1), pp.204-213. |  7.97027249 |   43.415860 | N |\n",
       "| 25 | Lactobaciulus plantarum | MRS | 1 | Zwietering, M.H., De Wit, J.C., Cuppers, H.G.A.M. and Van't Riet, K., 1994. Modeling of bacterial growth with shifts in temperature. Appl. Environ. Microbiol., 60(1), pp.204-213. |  7.84577162 |   40.682726 | N |\n",
       "| 25 | Lactobaciulus plantarum | MRS | 1 | Zwietering, M.H., De Wit, J.C., Cuppers, H.G.A.M. and Van't Riet, K., 1994. Modeling of bacterial growth with shifts in temperature. Appl. Environ. Microbiol., 60(1), pp.204-213. |  7.97156553 |   34.570940 | N |\n",
       "| 25 | Lactobaciulus plantarum | MRS | 1 | Zwietering, M.H., De Wit, J.C., Cuppers, H.G.A.M. and Van't Riet, K., 1994. Modeling of bacterial growth with shifts in temperature. Appl. Environ. Microbiol., 60(1), pp.204-213. |  6.91062968 |   31.887943 | N |\n",
       "| 25 | Lactobaciulus plantarum | MRS | 1 | Zwietering, M.H., De Wit, J.C., Cuppers, H.G.A.M. and Van't Riet, K., 1994. Modeling of bacterial growth with shifts in temperature. Appl. Environ. Microbiol., 60(1), pp.204-213. | 21.92730060 | 6471.018166 | N |\n",
       "| 25 | Lactobaciulus plantarum | MRS | 1 | Zwietering, M.H., De Wit, J.C., Cuppers, H.G.A.M. and Van't Riet, K., 1994. Modeling of bacterial growth with shifts in temperature. Appl. Environ. Microbiol., 60(1), pp.204-213. |  5.91203662 |   29.894689 | N |\n",
       "| 25 | Lactobaciulus plantarum | MRS | 1 | Zwietering, M.H., De Wit, J.C., Cuppers, H.G.A.M. and Van't Riet, K., 1994. Modeling of bacterial growth with shifts in temperature. Appl. Environ. Microbiol., 60(1), pp.204-213. |  5.97622661 |   21.943576 | N |\n",
       "| 25 | Lactobaciulus plantarum | MRS | 1 | Zwietering, M.H., De Wit, J.C., Cuppers, H.G.A.M. and Van't Riet, K., 1994. Modeling of bacterial growth with shifts in temperature. Appl. Environ. Microbiol., 60(1), pp.204-213. |  6.91173799 |   26.231503 | N |\n",
       "| 25 | Lactobaciulus plantarum | MRS | 1 | Zwietering, M.H., De Wit, J.C., Cuppers, H.G.A.M. and Van't Riet, K., 1994. Modeling of bacterial growth with shifts in temperature. Appl. Environ. Microbiol., 60(1), pp.204-213. |  6.97537383 |   21.229423 | N |\n",
       "| 25 | Lactobaciulus plantarum | MRS | 1 | Zwietering, M.H., De Wit, J.C., Cuppers, H.G.A.M. and Van't Riet, K., 1994. Modeling of bacterial growth with shifts in temperature. Appl. Environ. Microbiol., 60(1), pp.204-213. |  6.97537383 |   21.229423 | N |\n",
       "| 25 | Lactobaciulus plantarum | MRS | 1 | Zwietering, M.H., De Wit, J.C., Cuppers, H.G.A.M. and Van't Riet, K., 1994. Modeling of bacterial growth with shifts in temperature. Appl. Environ. Microbiol., 60(1), pp.204-213. |  5.97770437 |   16.913610 | N |\n",
       "| 25 | Lactobaciulus plantarum | MRS | 1 | Zwietering, M.H., De Wit, J.C., Cuppers, H.G.A.M. and Van't Riet, K., 1994. Modeling of bacterial growth with shifts in temperature. Appl. Environ. Microbiol., 60(1), pp.204-213. |  5.97973628 |   11.823976 | N |\n",
       "| 25 | Lactobaciulus plantarum | MRS | 1 | Zwietering, M.H., De Wit, J.C., Cuppers, H.G.A.M. and Van't Riet, K., 1994. Modeling of bacterial growth with shifts in temperature. Appl. Environ. Microbiol., 60(1), pp.204-213. |  4.85664236 |   10.387062 | N |\n",
       "| 25 | Lactobaciulus plantarum | MRS | 1 | Zwietering, M.H., De Wit, J.C., Cuppers, H.G.A.M. and Van't Riet, K., 1994. Modeling of bacterial growth with shifts in temperature. Appl. Environ. Microbiol., 60(1), pp.204-213. |  4.98225154 |    9.118591 | N |\n",
       "| 25 | Lactobaciulus plantarum | MRS | 1 | Zwietering, M.H., De Wit, J.C., Cuppers, H.G.A.M. and Van't Riet, K., 1994. Modeling of bacterial growth with shifts in temperature. Appl. Environ. Microbiol., 60(1), pp.204-213. |  4.98317514 |    7.749226 | N |\n",
       "| 25 | Lactobaciulus plantarum | MRS | 1 | Zwietering, M.H., De Wit, J.C., Cuppers, H.G.A.M. and Van't Riet, K., 1994. Modeling of bacterial growth with shifts in temperature. Appl. Environ. Microbiol., 60(1), pp.204-213. |  4.98409874 |    6.585502 | N |\n",
       "| 25 | Lactobaciulus plantarum | MRS | 1 | Zwietering, M.H., De Wit, J.C., Cuppers, H.G.A.M. and Van't Riet, K., 1994. Modeling of bacterial growth with shifts in temperature. Appl. Environ. Microbiol., 60(1), pp.204-213. |  3.98495153 |    6.807037 | N |\n",
       "| 25 | Lactobaciulus plantarum | MRS | 1 | Zwietering, M.H., De Wit, J.C., Cuppers, H.G.A.M. and Van't Riet, K., 1994. Modeling of bacterial growth with shifts in temperature. Appl. Environ. Microbiol., 60(1), pp.204-213. |  3.98587512 |    5.784804 | N |\n",
       "| 25 | Lactobaciulus plantarum | MRS | 1 | Zwietering, M.H., De Wit, J.C., Cuppers, H.G.A.M. and Van't Riet, K., 1994. Modeling of bacterial growth with shifts in temperature. Appl. Environ. Microbiol., 60(1), pp.204-213. |  2.86352007 |    4.461514 | N |\n",
       "| 25 | Lactobaciulus plantarum | MRS | 1 | Zwietering, M.H., De Wit, J.C., Cuppers, H.G.A.M. and Van't Riet, K., 1994. Modeling of bacterial growth with shifts in temperature. Appl. Environ. Microbiol., 60(1), pp.204-213. |  3.98679872 |    4.916083 | N |\n",
       "| 25 | Lactobaciulus plantarum | MRS | 1 | Zwietering, M.H., De Wit, J.C., Cuppers, H.G.A.M. and Van't Riet, K., 1994. Modeling of bacterial growth with shifts in temperature. Appl. Environ. Microbiol., 60(1), pp.204-213. |  3.98772232 |    4.177820 | N |\n",
       "| 25 | Lactobaciulus plantarum | MRS | 1 | Zwietering, M.H., De Wit, J.C., Cuppers, H.G.A.M. and Van't Riet, K., 1994. Modeling of bacterial growth with shifts in temperature. Appl. Environ. Microbiol., 60(1), pp.204-213. |  2.98949870 |    3.669860 | N |\n",
       "| 25 | Lactobaciulus plantarum | MRS | 1 | Zwietering, M.H., De Wit, J.C., Cuppers, H.G.A.M. and Van't Riet, K., 1994. Modeling of bacterial growth with shifts in temperature. Appl. Environ. Microbiol., 60(1), pp.204-213. |  1.74134974 |    3.330750 | N |\n",
       "| 25 | Lactobaciulus plantarum | MRS | 1 | Zwietering, M.H., De Wit, J.C., Cuppers, H.G.A.M. and Van't Riet, K., 1994. Modeling of bacterial growth with shifts in temperature. Appl. Environ. Microbiol., 60(1), pp.204-213. |  0.74349557 |    2.741410 | N |\n",
       "| 25 | Lactobaciulus plantarum | MRS | 1 | Zwietering, M.H., De Wit, J.C., Cuppers, H.G.A.M. and Van't Riet, K., 1994. Modeling of bacterial growth with shifts in temperature. Appl. Environ. Microbiol., 60(1), pp.204-213. |  0.05735537 |    2.447187 | N |\n",
       "| 25 | Lactobaciulus plantarum | MRS | 1 | Zwietering, M.H., De Wit, J.C., Cuppers, H.G.A.M. and Van't Riet, K., 1994. Modeling of bacterial growth with shifts in temperature. Appl. Environ. Microbiol., 60(1), pp.204-213. |  2.49260353 |    2.327517 | N |\n",
       "| 25 | Lactobaciulus plantarum | MRS | 1 | Zwietering, M.H., De Wit, J.C., Cuppers, H.G.A.M. and Van't Riet, K., 1994. Modeling of bacterial growth with shifts in temperature. Appl. Environ. Microbiol., 60(1), pp.204-213. |  1.74301222 |    2.485061 | N |\n",
       "| 25 | Lactobaciulus plantarum | MRS | 1 | Zwietering, M.H., De Wit, J.C., Cuppers, H.G.A.M. and Van't Riet, K., 1994. Modeling of bacterial growth with shifts in temperature. Appl. Environ. Microbiol., 60(1), pp.204-213. |  0.99452923 |    2.182619 | N |\n",
       "| 25 | Lactobaciulus plantarum | MRS | 1 | Zwietering, M.H., De Wit, J.C., Cuppers, H.G.A.M. and Van't Riet, K., 1994. Modeling of bacterial growth with shifts in temperature. Appl. Environ. Microbiol., 60(1), pp.204-213. |  2.24156987 |    2.923404 | N |\n",
       "\n"
      ],
      "text/plain": [
       "     Temp.C clade                       substrate replicate\n",
       "1    5      Chryseobacterium balustinum TSB       1        \n",
       "2    5      Chryseobacterium balustinum TSB       1        \n",
       "3    5      Chryseobacterium balustinum TSB       1        \n",
       "4    5      Chryseobacterium balustinum TSB       1        \n",
       "5    5      Chryseobacterium balustinum TSB       1        \n",
       "6    5      Chryseobacterium balustinum TSB       1        \n",
       "7    5      Chryseobacterium balustinum TSB       1        \n",
       "8    5      Chryseobacterium balustinum TSB       1        \n",
       "9    5      Chryseobacterium balustinum TSB       1        \n",
       "10   5      Chryseobacterium balustinum TSB       1        \n",
       "11   5      Chryseobacterium balustinum TSB       1        \n",
       "12   5      Chryseobacterium balustinum TSB       1        \n",
       "13   5      Chryseobacterium balustinum TSB       1        \n",
       "14   5      Chryseobacterium balustinum TSB       1        \n",
       "15   5      Chryseobacterium balustinum TSB       1        \n",
       "16   5      Chryseobacterium balustinum TSB       1        \n",
       "17   5      Chryseobacterium balustinum TSB       1        \n",
       "18   5      Chryseobacterium balustinum TSB       1        \n",
       "19   5      Chryseobacterium balustinum TSB       1        \n",
       "20   5      Chryseobacterium balustinum TSB       1        \n",
       "21   5      Chryseobacterium balustinum TSB       1        \n",
       "22   5      Chryseobacterium balustinum TSB       1        \n",
       "23   5      Chryseobacterium balustinum TSB       1        \n",
       "24   5      Chryseobacterium balustinum TSB       1        \n",
       "25   5      Chryseobacterium balustinum TSB       1        \n",
       "26   5      Chryseobacterium balustinum TSB       1        \n",
       "27   5      Chryseobacterium balustinum TSB       1        \n",
       "28   5      Chryseobacterium balustinum TSB       1        \n",
       "29   5      Chryseobacterium balustinum TSB       1        \n",
       "30   5      Enterobacter sp             TSB       1        \n",
       "⋮    ⋮      ⋮                           ⋮         ⋮        \n",
       "4358 25     Lactobaciulus plantarum     MRS       1        \n",
       "4359 25     Lactobaciulus plantarum     MRS       1        \n",
       "4360 25     Lactobaciulus plantarum     MRS       1        \n",
       "4361 25     Lactobaciulus plantarum     MRS       1        \n",
       "4362 25     Lactobaciulus plantarum     MRS       1        \n",
       "4363 25     Lactobaciulus plantarum     MRS       1        \n",
       "4364 25     Lactobaciulus plantarum     MRS       1        \n",
       "4365 25     Lactobaciulus plantarum     MRS       1        \n",
       "4366 25     Lactobaciulus plantarum     MRS       1        \n",
       "4367 25     Lactobaciulus plantarum     MRS       1        \n",
       "4368 25     Lactobaciulus plantarum     MRS       1        \n",
       "4369 25     Lactobaciulus plantarum     MRS       1        \n",
       "4370 25     Lactobaciulus plantarum     MRS       1        \n",
       "4371 25     Lactobaciulus plantarum     MRS       1        \n",
       "4372 25     Lactobaciulus plantarum     MRS       1        \n",
       "4373 25     Lactobaciulus plantarum     MRS       1        \n",
       "4374 25     Lactobaciulus plantarum     MRS       1        \n",
       "4375 25     Lactobaciulus plantarum     MRS       1        \n",
       "4376 25     Lactobaciulus plantarum     MRS       1        \n",
       "4377 25     Lactobaciulus plantarum     MRS       1        \n",
       "4378 25     Lactobaciulus plantarum     MRS       1        \n",
       "4379 25     Lactobaciulus plantarum     MRS       1        \n",
       "4380 25     Lactobaciulus plantarum     MRS       1        \n",
       "4381 25     Lactobaciulus plantarum     MRS       1        \n",
       "4382 25     Lactobaciulus plantarum     MRS       1        \n",
       "4383 25     Lactobaciulus plantarum     MRS       1        \n",
       "4384 25     Lactobaciulus plantarum     MRS       1        \n",
       "4385 25     Lactobaciulus plantarum     MRS       1        \n",
       "4386 25     Lactobaciulus plantarum     MRS       1        \n",
       "4387 25     Lactobaciulus plantarum     MRS       1        \n",
       "     SourceRef                                                                                                                                                                                                                         \n",
       "1    Bae, Y.M., Zheng, L., Hyun, J.E., Jung, K.S., Heu, S. and Lee, S.Y., 2014. Growth characteristics and biofilm formation of various spoilage bacteria isolated from fresh produce. Journal of food science, 79(10), pp.M2072-M2080.\n",
       "2    Bae, Y.M., Zheng, L., Hyun, J.E., Jung, K.S., Heu, S. and Lee, S.Y., 2014. Growth characteristics and biofilm formation of various spoilage bacteria isolated from fresh produce. Journal of food science, 79(10), pp.M2072-M2080.\n",
       "3    Bae, Y.M., Zheng, L., Hyun, J.E., Jung, K.S., Heu, S. and Lee, S.Y., 2014. Growth characteristics and biofilm formation of various spoilage bacteria isolated from fresh produce. Journal of food science, 79(10), pp.M2072-M2080.\n",
       "4    Bae, Y.M., Zheng, L., Hyun, J.E., Jung, K.S., Heu, S. and Lee, S.Y., 2014. Growth characteristics and biofilm formation of various spoilage bacteria isolated from fresh produce. Journal of food science, 79(10), pp.M2072-M2080.\n",
       "5    Bae, Y.M., Zheng, L., Hyun, J.E., Jung, K.S., Heu, S. and Lee, S.Y., 2014. Growth characteristics and biofilm formation of various spoilage bacteria isolated from fresh produce. Journal of food science, 79(10), pp.M2072-M2080.\n",
       "6    Bae, Y.M., Zheng, L., Hyun, J.E., Jung, K.S., Heu, S. and Lee, S.Y., 2014. Growth characteristics and biofilm formation of various spoilage bacteria isolated from fresh produce. Journal of food science, 79(10), pp.M2072-M2080.\n",
       "7    Bae, Y.M., Zheng, L., Hyun, J.E., Jung, K.S., Heu, S. and Lee, S.Y., 2014. Growth characteristics and biofilm formation of various spoilage bacteria isolated from fresh produce. Journal of food science, 79(10), pp.M2072-M2080.\n",
       "8    Bae, Y.M., Zheng, L., Hyun, J.E., Jung, K.S., Heu, S. and Lee, S.Y., 2014. Growth characteristics and biofilm formation of various spoilage bacteria isolated from fresh produce. Journal of food science, 79(10), pp.M2072-M2080.\n",
       "9    Bae, Y.M., Zheng, L., Hyun, J.E., Jung, K.S., Heu, S. and Lee, S.Y., 2014. Growth characteristics and biofilm formation of various spoilage bacteria isolated from fresh produce. Journal of food science, 79(10), pp.M2072-M2080.\n",
       "10   Bae, Y.M., Zheng, L., Hyun, J.E., Jung, K.S., Heu, S. and Lee, S.Y., 2014. Growth characteristics and biofilm formation of various spoilage bacteria isolated from fresh produce. Journal of food science, 79(10), pp.M2072-M2080.\n",
       "11   Bae, Y.M., Zheng, L., Hyun, J.E., Jung, K.S., Heu, S. and Lee, S.Y., 2014. Growth characteristics and biofilm formation of various spoilage bacteria isolated from fresh produce. Journal of food science, 79(10), pp.M2072-M2080.\n",
       "12   Bae, Y.M., Zheng, L., Hyun, J.E., Jung, K.S., Heu, S. and Lee, S.Y., 2014. Growth characteristics and biofilm formation of various spoilage bacteria isolated from fresh produce. Journal of food science, 79(10), pp.M2072-M2080.\n",
       "13   Bae, Y.M., Zheng, L., Hyun, J.E., Jung, K.S., Heu, S. and Lee, S.Y., 2014. Growth characteristics and biofilm formation of various spoilage bacteria isolated from fresh produce. Journal of food science, 79(10), pp.M2072-M2080.\n",
       "14   Bae, Y.M., Zheng, L., Hyun, J.E., Jung, K.S., Heu, S. and Lee, S.Y., 2014. Growth characteristics and biofilm formation of various spoilage bacteria isolated from fresh produce. Journal of food science, 79(10), pp.M2072-M2080.\n",
       "15   Bae, Y.M., Zheng, L., Hyun, J.E., Jung, K.S., Heu, S. and Lee, S.Y., 2014. Growth characteristics and biofilm formation of various spoilage bacteria isolated from fresh produce. Journal of food science, 79(10), pp.M2072-M2080.\n",
       "16   Bae, Y.M., Zheng, L., Hyun, J.E., Jung, K.S., Heu, S. and Lee, S.Y., 2014. Growth characteristics and biofilm formation of various spoilage bacteria isolated from fresh produce. Journal of food science, 79(10), pp.M2072-M2080.\n",
       "17   Bae, Y.M., Zheng, L., Hyun, J.E., Jung, K.S., Heu, S. and Lee, S.Y., 2014. Growth characteristics and biofilm formation of various spoilage bacteria isolated from fresh produce. Journal of food science, 79(10), pp.M2072-M2080.\n",
       "18   Bae, Y.M., Zheng, L., Hyun, J.E., Jung, K.S., Heu, S. and Lee, S.Y., 2014. Growth characteristics and biofilm formation of various spoilage bacteria isolated from fresh produce. Journal of food science, 79(10), pp.M2072-M2080.\n",
       "19   Bae, Y.M., Zheng, L., Hyun, J.E., Jung, K.S., Heu, S. and Lee, S.Y., 2014. Growth characteristics and biofilm formation of various spoilage bacteria isolated from fresh produce. Journal of food science, 79(10), pp.M2072-M2080.\n",
       "20   Bae, Y.M., Zheng, L., Hyun, J.E., Jung, K.S., Heu, S. and Lee, S.Y., 2014. Growth characteristics and biofilm formation of various spoilage bacteria isolated from fresh produce. Journal of food science, 79(10), pp.M2072-M2080.\n",
       "21   Bae, Y.M., Zheng, L., Hyun, J.E., Jung, K.S., Heu, S. and Lee, S.Y., 2014. Growth characteristics and biofilm formation of various spoilage bacteria isolated from fresh produce. Journal of food science, 79(10), pp.M2072-M2080.\n",
       "22   Bae, Y.M., Zheng, L., Hyun, J.E., Jung, K.S., Heu, S. and Lee, S.Y., 2014. Growth characteristics and biofilm formation of various spoilage bacteria isolated from fresh produce. Journal of food science, 79(10), pp.M2072-M2080.\n",
       "23   Bae, Y.M., Zheng, L., Hyun, J.E., Jung, K.S., Heu, S. and Lee, S.Y., 2014. Growth characteristics and biofilm formation of various spoilage bacteria isolated from fresh produce. Journal of food science, 79(10), pp.M2072-M2080.\n",
       "24   Bae, Y.M., Zheng, L., Hyun, J.E., Jung, K.S., Heu, S. and Lee, S.Y., 2014. Growth characteristics and biofilm formation of various spoilage bacteria isolated from fresh produce. Journal of food science, 79(10), pp.M2072-M2080.\n",
       "25   Bae, Y.M., Zheng, L., Hyun, J.E., Jung, K.S., Heu, S. and Lee, S.Y., 2014. Growth characteristics and biofilm formation of various spoilage bacteria isolated from fresh produce. Journal of food science, 79(10), pp.M2072-M2080.\n",
       "26   Bae, Y.M., Zheng, L., Hyun, J.E., Jung, K.S., Heu, S. and Lee, S.Y., 2014. Growth characteristics and biofilm formation of various spoilage bacteria isolated from fresh produce. Journal of food science, 79(10), pp.M2072-M2080.\n",
       "27   Bae, Y.M., Zheng, L., Hyun, J.E., Jung, K.S., Heu, S. and Lee, S.Y., 2014. Growth characteristics and biofilm formation of various spoilage bacteria isolated from fresh produce. Journal of food science, 79(10), pp.M2072-M2080.\n",
       "28   Bae, Y.M., Zheng, L., Hyun, J.E., Jung, K.S., Heu, S. and Lee, S.Y., 2014. Growth characteristics and biofilm formation of various spoilage bacteria isolated from fresh produce. Journal of food science, 79(10), pp.M2072-M2080.\n",
       "29   Bae, Y.M., Zheng, L., Hyun, J.E., Jung, K.S., Heu, S. and Lee, S.Y., 2014. Growth characteristics and biofilm formation of various spoilage bacteria isolated from fresh produce. Journal of food science, 79(10), pp.M2072-M2080.\n",
       "30   Bae, Y.M., Zheng, L., Hyun, J.E., Jung, K.S., Heu, S. and Lee, S.Y., 2014. Growth characteristics and biofilm formation of various spoilage bacteria isolated from fresh produce. Journal of food science, 79(10), pp.M2072-M2080.\n",
       "⋮    ⋮                                                                                                                                                                                                                                 \n",
       "4358 Zwietering, M.H., De Wit, J.C., Cuppers, H.G.A.M. and Van't Riet, K., 1994. Modeling of bacterial growth with shifts in temperature. Appl. Environ. Microbiol., 60(1), pp.204-213.                                                \n",
       "4359 Zwietering, M.H., De Wit, J.C., Cuppers, H.G.A.M. and Van't Riet, K., 1994. Modeling of bacterial growth with shifts in temperature. Appl. Environ. Microbiol., 60(1), pp.204-213.                                                \n",
       "4360 Zwietering, M.H., De Wit, J.C., Cuppers, H.G.A.M. and Van't Riet, K., 1994. Modeling of bacterial growth with shifts in temperature. Appl. Environ. Microbiol., 60(1), pp.204-213.                                                \n",
       "4361 Zwietering, M.H., De Wit, J.C., Cuppers, H.G.A.M. and Van't Riet, K., 1994. Modeling of bacterial growth with shifts in temperature. Appl. Environ. Microbiol., 60(1), pp.204-213.                                                \n",
       "4362 Zwietering, M.H., De Wit, J.C., Cuppers, H.G.A.M. and Van't Riet, K., 1994. Modeling of bacterial growth with shifts in temperature. Appl. Environ. Microbiol., 60(1), pp.204-213.                                                \n",
       "4363 Zwietering, M.H., De Wit, J.C., Cuppers, H.G.A.M. and Van't Riet, K., 1994. Modeling of bacterial growth with shifts in temperature. Appl. Environ. Microbiol., 60(1), pp.204-213.                                                \n",
       "4364 Zwietering, M.H., De Wit, J.C., Cuppers, H.G.A.M. and Van't Riet, K., 1994. Modeling of bacterial growth with shifts in temperature. Appl. Environ. Microbiol., 60(1), pp.204-213.                                                \n",
       "4365 Zwietering, M.H., De Wit, J.C., Cuppers, H.G.A.M. and Van't Riet, K., 1994. Modeling of bacterial growth with shifts in temperature. Appl. Environ. Microbiol., 60(1), pp.204-213.                                                \n",
       "4366 Zwietering, M.H., De Wit, J.C., Cuppers, H.G.A.M. and Van't Riet, K., 1994. Modeling of bacterial growth with shifts in temperature. Appl. Environ. Microbiol., 60(1), pp.204-213.                                                \n",
       "4367 Zwietering, M.H., De Wit, J.C., Cuppers, H.G.A.M. and Van't Riet, K., 1994. Modeling of bacterial growth with shifts in temperature. Appl. Environ. Microbiol., 60(1), pp.204-213.                                                \n",
       "4368 Zwietering, M.H., De Wit, J.C., Cuppers, H.G.A.M. and Van't Riet, K., 1994. Modeling of bacterial growth with shifts in temperature. Appl. Environ. Microbiol., 60(1), pp.204-213.                                                \n",
       "4369 Zwietering, M.H., De Wit, J.C., Cuppers, H.G.A.M. and Van't Riet, K., 1994. Modeling of bacterial growth with shifts in temperature. Appl. Environ. Microbiol., 60(1), pp.204-213.                                                \n",
       "4370 Zwietering, M.H., De Wit, J.C., Cuppers, H.G.A.M. and Van't Riet, K., 1994. Modeling of bacterial growth with shifts in temperature. Appl. Environ. Microbiol., 60(1), pp.204-213.                                                \n",
       "4371 Zwietering, M.H., De Wit, J.C., Cuppers, H.G.A.M. and Van't Riet, K., 1994. Modeling of bacterial growth with shifts in temperature. Appl. Environ. Microbiol., 60(1), pp.204-213.                                                \n",
       "4372 Zwietering, M.H., De Wit, J.C., Cuppers, H.G.A.M. and Van't Riet, K., 1994. Modeling of bacterial growth with shifts in temperature. Appl. Environ. Microbiol., 60(1), pp.204-213.                                                \n",
       "4373 Zwietering, M.H., De Wit, J.C., Cuppers, H.G.A.M. and Van't Riet, K., 1994. Modeling of bacterial growth with shifts in temperature. Appl. Environ. Microbiol., 60(1), pp.204-213.                                                \n",
       "4374 Zwietering, M.H., De Wit, J.C., Cuppers, H.G.A.M. and Van't Riet, K., 1994. Modeling of bacterial growth with shifts in temperature. Appl. Environ. Microbiol., 60(1), pp.204-213.                                                \n",
       "4375 Zwietering, M.H., De Wit, J.C., Cuppers, H.G.A.M. and Van't Riet, K., 1994. Modeling of bacterial growth with shifts in temperature. Appl. Environ. Microbiol., 60(1), pp.204-213.                                                \n",
       "4376 Zwietering, M.H., De Wit, J.C., Cuppers, H.G.A.M. and Van't Riet, K., 1994. Modeling of bacterial growth with shifts in temperature. Appl. Environ. Microbiol., 60(1), pp.204-213.                                                \n",
       "4377 Zwietering, M.H., De Wit, J.C., Cuppers, H.G.A.M. and Van't Riet, K., 1994. Modeling of bacterial growth with shifts in temperature. Appl. Environ. Microbiol., 60(1), pp.204-213.                                                \n",
       "4378 Zwietering, M.H., De Wit, J.C., Cuppers, H.G.A.M. and Van't Riet, K., 1994. Modeling of bacterial growth with shifts in temperature. Appl. Environ. Microbiol., 60(1), pp.204-213.                                                \n",
       "4379 Zwietering, M.H., De Wit, J.C., Cuppers, H.G.A.M. and Van't Riet, K., 1994. Modeling of bacterial growth with shifts in temperature. Appl. Environ. Microbiol., 60(1), pp.204-213.                                                \n",
       "4380 Zwietering, M.H., De Wit, J.C., Cuppers, H.G.A.M. and Van't Riet, K., 1994. Modeling of bacterial growth with shifts in temperature. Appl. Environ. Microbiol., 60(1), pp.204-213.                                                \n",
       "4381 Zwietering, M.H., De Wit, J.C., Cuppers, H.G.A.M. and Van't Riet, K., 1994. Modeling of bacterial growth with shifts in temperature. Appl. Environ. Microbiol., 60(1), pp.204-213.                                                \n",
       "4382 Zwietering, M.H., De Wit, J.C., Cuppers, H.G.A.M. and Van't Riet, K., 1994. Modeling of bacterial growth with shifts in temperature. Appl. Environ. Microbiol., 60(1), pp.204-213.                                                \n",
       "4383 Zwietering, M.H., De Wit, J.C., Cuppers, H.G.A.M. and Van't Riet, K., 1994. Modeling of bacterial growth with shifts in temperature. Appl. Environ. Microbiol., 60(1), pp.204-213.                                                \n",
       "4384 Zwietering, M.H., De Wit, J.C., Cuppers, H.G.A.M. and Van't Riet, K., 1994. Modeling of bacterial growth with shifts in temperature. Appl. Environ. Microbiol., 60(1), pp.204-213.                                                \n",
       "4385 Zwietering, M.H., De Wit, J.C., Cuppers, H.G.A.M. and Van't Riet, K., 1994. Modeling of bacterial growth with shifts in temperature. Appl. Environ. Microbiol., 60(1), pp.204-213.                                                \n",
       "4386 Zwietering, M.H., De Wit, J.C., Cuppers, H.G.A.M. and Van't Riet, K., 1994. Modeling of bacterial growth with shifts in temperature. Appl. Environ. Microbiol., 60(1), pp.204-213.                                                \n",
       "4387 Zwietering, M.H., De Wit, J.C., Cuppers, H.G.A.M. and Van't Riet, K., 1994. Modeling of bacterial growth with shifts in temperature. Appl. Environ. Microbiol., 60(1), pp.204-213.                                                \n",
       "     Time.hr      Popn_Change Popn_DataUnit\n",
       "1    6.698795e+02 0.283275712 OD_595       \n",
       "2    6.469880e+02 0.283342064 OD_595       \n",
       "3    6.228916e+02 0.285151039 OD_595       \n",
       "4    5.975904e+02 0.281746115 OD_595       \n",
       "5    5.746988e+02 0.273116815 OD_595       \n",
       "6    5.506024e+02 0.257534486 OD_595       \n",
       "7    5.265060e+02 0.257604330 OD_595       \n",
       "8    5.024096e+02 0.245500262 OD_595       \n",
       "9    4.795181e+02 0.247305745 OD_595       \n",
       "10   4.542169e+02 0.250857342 OD_595       \n",
       "11   4.313253e+02 0.235271521 OD_595       \n",
       "12   3.843373e+02 0.219755544 OD_595       \n",
       "13   4.060241e+02 0.228388336 OD_595       \n",
       "14   3.590361e+02 0.221568011 OD_595       \n",
       "15   3.108434e+02 0.192142483 OD_595       \n",
       "16   3.349398e+02 0.197290030 OD_595       \n",
       "17   2.614458e+02 0.159242186 OD_595       \n",
       "18   2.867470e+02 0.173081893 OD_595       \n",
       "19   2.156627e+02 0.140244456 OD_595       \n",
       "20   2.385542e+02 0.152352017 OD_595       \n",
       "21   1.903614e+02 0.119448228 OD_595       \n",
       "22   1.662651e+02 0.103865898 OD_595       \n",
       "23   1.421687e+02 0.084805308 OD_595       \n",
       "24   1.192771e+02 0.062262965 OD_595       \n",
       "25   9.518072e+01 0.044941505 OD_595       \n",
       "26   7.108434e+01 0.032837437 OD_595       \n",
       "27   4.698795e+01 0.018994238 OD_595       \n",
       "28   2.289157e+01 0.008629300 OD_595       \n",
       "29   1.421085e-14 0.005217391 OD_595       \n",
       "30   6.698795e+02 0.566753972 OD_595       \n",
       "⋮    ⋮            ⋮           ⋮            \n",
       "4358  8.84473411    40.660688 N            \n",
       "4359  7.97027249    43.415860 N            \n",
       "4360  7.84577162    40.682726 N            \n",
       "4361  7.97156553    34.570940 N            \n",
       "4362  6.91062968    31.887943 N            \n",
       "4363 21.92730060  6471.018166 N            \n",
       "4364  5.91203662    29.894689 N            \n",
       "4365  5.97622661    21.943576 N            \n",
       "4366  6.91173799    26.231503 N            \n",
       "4367  6.97537383    21.229423 N            \n",
       "4368  6.97537383    21.229423 N            \n",
       "4369  5.97770437    16.913610 N            \n",
       "4370  5.97973628    11.823976 N            \n",
       "4371  4.85664236    10.387062 N            \n",
       "4372  4.98225154     9.118591 N            \n",
       "4373  4.98317514     7.749226 N            \n",
       "4374  4.98409874     6.585502 N            \n",
       "4375  3.98495153     6.807037 N            \n",
       "4376  3.98587512     5.784804 N            \n",
       "4377  2.86352007     4.461514 N            \n",
       "4378  3.98679872     4.916083 N            \n",
       "4379  3.98772232     4.177820 N            \n",
       "4380  2.98949870     3.669860 N            \n",
       "4381  1.74134974     3.330750 N            \n",
       "4382  0.74349557     2.741410 N            \n",
       "4383  0.05735537     2.447187 N            \n",
       "4384  2.49260353     2.327517 N            \n",
       "4385  1.74301222     2.485061 N            \n",
       "4386  0.99452923     2.182619 N            \n",
       "4387  2.24156987     2.923404 N            "
      ]
     },
     "metadata": {},
     "output_type": "display_data"
    }
   ],
   "source": [
    "## data cleaning\n",
    "a<-read.csv(\"../data/LogisticGrowthData.csv\", header = T, stringsAsFactors = F)[,-1]\n",
    "  a<-a[,c(3,6:9,1,2,5)]\n",
    "  colnames(a)=c(\"Temp.C\",\"clade\",\"substrate\",\"replicate\",\"SourceRef\",\"Time.hr\",\"Popn_Change\",\"Popn_DataUnit\")\n",
    "  a$Time.hr<-abs(a$Time.hr) ## convert -ve times\n",
    "  a$clade<-gsub(\".1|.2|..RDA.R.\",\"\",a$clade) ## condense spp names\n",
    "  a$clade<-gsub(\"spp.|sp.\",\"sp\",a$clade) ## condense spp names\n",
    "  a$clade<-gsub(\"[.]\",\" \",a$clade) ## condense spp names\n",
    "  a$clade<-gsub(\"77|88|Strain 97|StrainCYA28|subsp Carotovorum Pc\",\"\",a$clade) ## rm specific unnecessary things for better spp categorizing\n",
    "  a$clade<-trimws(a$clade) ## condense spp names (rm white spaces from both ends)\n",
    "  # levels(as.factor(a$clade))\n",
    "a"
   ]
  },
  {
   "cell_type": "code",
   "execution_count": 188,
   "metadata": {
    "ExecuteTime": {
     "end_time": "2019-11-18T12:19:23.708800Z",
     "start_time": "2019-11-18T12:19:23.404Z"
    }
   },
   "outputs": [],
   "source": [
    "## data subset selection -- select the largest data subset\n",
    "  a.DU.lv<-levels(as.factor(a$Popn_DataUnit))\n",
    "  a.Tp.lv<-levels(as.factor(a$Temp.C))\n",
    "  a.cd.lv<-levels(as.factor(a$clade))\n",
    "  a.ss.lv<-levels(as.factor(a$substrate))\n",
    "  a.rp.lv<-levels(as.factor(a$replicate))\n",
    "  a.ct.lv<-levels(as.factor(a$SourceRef))"
   ]
  },
  {
   "cell_type": "code",
   "execution_count": 189,
   "metadata": {
    "ExecuteTime": {
     "end_time": "2019-11-18T12:19:25.204369Z",
     "start_time": "2019-11-18T12:19:23.406Z"
    }
   },
   "outputs": [
    {
     "name": "stdout",
     "output_type": "stream",
     "text": [
      "R Filtering 1st set of columns\n"
     ]
    }
   ],
   "source": [
    "## hierarchical selection of available subsets\n",
    "  p.rec<-as.data.frame(matrix(nrow = 0, ncol = 6))\n",
    "  cat(\"R Filtering 1st set of columns\\n\")\n",
    "  p.2<-p.4<-p.6<-1;repeat{\n",
    "    ## check repeat loop running num seq\n",
    "    if(p.2==length(a.Tp.lv)){\n",
    "      if(p.4==length(a.ss.lv)){\n",
    "        if(p.6==length(a.ct.lv)){\n",
    "          break\n",
    "        }else{\n",
    "          p.2<-p.4<-1\n",
    "          p.6<-p.6+1\n",
    "        }\n",
    "      }else{\n",
    "        p.2<-1\n",
    "        p.4<-p.4+1\n",
    "      }\n",
    "    }else{\n",
    "      p.2<-p.2+1\n",
    "    }\n",
    "    ## scan subset dimension\n",
    "    p.7<-dim(a[which(a$Temp.C==a.Tp.lv[p.2] &\n",
    "                       a$substrate==a.ss.lv[p.4] &\n",
    "                       a$SourceRef==a.ct.lv[p.6]),])[1]\n",
    "    if(p.7 > 0){p.rec[(dim(p.rec)[1]+1),]<-c(NA,p.2,NA,p.4,NA,p.6)}\n",
    "  }\n",
    "  p.recL<-dim(p.rec)[1]"
   ]
  },
  {
   "cell_type": "code",
   "execution_count": 190,
   "metadata": {
    "ExecuteTime": {
     "end_time": "2019-11-18T12:19:25.645504Z",
     "start_time": "2019-11-18T12:19:23.408Z"
    }
   },
   "outputs": [
    {
     "name": "stdout",
     "output_type": "stream",
     "text": [
      "R Filtering 2nd set of columns\n"
     ]
    }
   ],
   "source": [
    "cat(\"R Filtering 2nd set of columns\\n\")\n",
    "  p.1<-p.3<-p.5<-1;repeat{\n",
    "    ## check repeat loop running num seq\n",
    "    if(p.1==length(a.DU.lv)){\n",
    "      if(p.3==length(a.cd.lv)){\n",
    "        if(p.5==length(a.rp.lv)){\n",
    "          break\n",
    "        }else{\n",
    "          p.1<-p.3<-1\n",
    "          p.5<-p.5+1\n",
    "        }\n",
    "      }else{\n",
    "        p.1<-1\n",
    "        p.3<-p.3+1\n",
    "      }\n",
    "    }else{\n",
    "      p.1<-p.1+1\n",
    "    }\n",
    "    ## scan subset dimension\n",
    "    p.7<-dim(a[which(a$Popn_DataUnit==a.DU.lv[p.1] &\n",
    "                       a$clade==a.cd.lv[p.3] &\n",
    "                       a$replicate==a.rp.lv[p.5]),])[1]\n",
    "    if(p.7 > 0){p.rec[(dim(p.rec)[1]+1),]<-c(p.1,NA,p.3,NA,p.5,NA)}\n",
    "  }\n",
    "  a.0<-as.data.frame(matrix(nrow = 0,ncol = dim(a)[2]))"
   ]
  },
  {
   "cell_type": "markdown",
   "metadata": {},
   "source": [
    "Parameter count\n",
    "\n",
    "| model | count |\n",
    "|---|---|\n",
    "| log0 | 1 |\n",
    "| gom | 2 |\n",
    "| bar | 2 |\n",
    "|buc | 2 |"
   ]
  },
  {
   "cell_type": "code",
   "execution_count": 191,
   "metadata": {
    "ExecuteTime": {
     "end_time": "2019-11-18T12:19:29.704320Z",
     "start_time": "2019-11-18T12:19:23.410Z"
    }
   },
   "outputs": [
    {
     "name": "stdout",
     "output_type": "stream",
     "text": [
      "R Combine filtering result\n"
     ]
    },
    {
     "data": {
      "text/html": [
       "<table>\n",
       "<caption>A data.frame: 4387 × 8</caption>\n",
       "<thead>\n",
       "\t<tr><th></th><th scope=col>Temp.C</th><th scope=col>clade</th><th scope=col>substrate</th><th scope=col>replicate</th><th scope=col>SourceRef</th><th scope=col>Time.hr</th><th scope=col>Popn_Change</th><th scope=col>Popn_DataUnit</th></tr>\n",
       "\t<tr><th></th><th scope=col>&lt;int&gt;</th><th scope=col>&lt;chr&gt;</th><th scope=col>&lt;chr&gt;</th><th scope=col>&lt;int&gt;</th><th scope=col>&lt;chr&gt;</th><th scope=col>&lt;dbl&gt;</th><th scope=col>&lt;dbl&gt;</th><th scope=col>&lt;chr&gt;</th></tr>\n",
       "</thead>\n",
       "<tbody>\n",
       "\t<tr><th scope=row>235</th><td>5</td><td>Acinetobacter clacoaceticus</td><td>TSB</td><td>1</td><td>Bae, Y.M., Zheng, L., Hyun, J.E., Jung, K.S., Heu, S. and Lee, S.Y., 2014. Growth characteristics and biofilm formation of various spoilage bacteria isolated from fresh produce. Journal of food science, 79(10), pp.M2072-M2080.</td><td>6.718053e+02</td><td>0.11788856</td><td>OD_595</td></tr>\n",
       "\t<tr><th scope=row>236</th><td>5</td><td>Acinetobacter clacoaceticus</td><td>TSB</td><td>1</td><td>Bae, Y.M., Zheng, L., Hyun, J.E., Jung, K.S., Heu, S. and Lee, S.Y., 2014. Growth characteristics and biofilm formation of various spoilage bacteria isolated from fresh produce. Journal of food science, 79(10), pp.M2072-M2080.</td><td>6.474645e+02</td><td>0.11964809</td><td>OD_595</td></tr>\n",
       "\t<tr><th scope=row>237</th><td>5</td><td>Acinetobacter clacoaceticus</td><td>TSB</td><td>1</td><td>Bae, Y.M., Zheng, L., Hyun, J.E., Jung, K.S., Heu, S. and Lee, S.Y., 2014. Growth characteristics and biofilm formation of various spoilage bacteria isolated from fresh produce. Journal of food science, 79(10), pp.M2072-M2080.</td><td>6.243408e+02</td><td>0.11260997</td><td>OD_595</td></tr>\n",
       "\t<tr><th scope=row>238</th><td>5</td><td>Acinetobacter clacoaceticus</td><td>TSB</td><td>1</td><td>Bae, Y.M., Zheng, L., Hyun, J.E., Jung, K.S., Heu, S. and Lee, S.Y., 2014. Growth characteristics and biofilm formation of various spoilage bacteria isolated from fresh produce. Journal of food science, 79(10), pp.M2072-M2080.</td><td>5.987830e+02</td><td>0.11612903</td><td>OD_595</td></tr>\n",
       "\t<tr><th scope=row>239</th><td>5</td><td>Acinetobacter clacoaceticus</td><td>TSB</td><td>1</td><td>Bae, Y.M., Zheng, L., Hyun, J.E., Jung, K.S., Heu, S. and Lee, S.Y., 2014. Growth characteristics and biofilm formation of various spoilage bacteria isolated from fresh produce. Journal of food science, 79(10), pp.M2072-M2080.</td><td>5.756592e+02</td><td>0.11788856</td><td>OD_595</td></tr>\n",
       "\t<tr><th scope=row>240</th><td>5</td><td>Acinetobacter clacoaceticus</td><td>TSB</td><td>1</td><td>Bae, Y.M., Zheng, L., Hyun, J.E., Jung, K.S., Heu, S. and Lee, S.Y., 2014. Growth characteristics and biofilm formation of various spoilage bacteria isolated from fresh produce. Journal of food science, 79(10), pp.M2072-M2080.</td><td>5.513185e+02</td><td>0.11436950</td><td>OD_595</td></tr>\n",
       "\t<tr><th scope=row>241</th><td>5</td><td>Acinetobacter clacoaceticus</td><td>TSB</td><td>1</td><td>Bae, Y.M., Zheng, L., Hyun, J.E., Jung, K.S., Heu, S. and Lee, S.Y., 2014. Growth characteristics and biofilm formation of various spoilage bacteria isolated from fresh produce. Journal of food science, 79(10), pp.M2072-M2080.</td><td>5.269777e+02</td><td>0.12140762</td><td>OD_595</td></tr>\n",
       "\t<tr><th scope=row>242</th><td>5</td><td>Acinetobacter clacoaceticus</td><td>TSB</td><td>1</td><td>Bae, Y.M., Zheng, L., Hyun, J.E., Jung, K.S., Heu, S. and Lee, S.Y., 2014. Growth characteristics and biofilm formation of various spoilage bacteria isolated from fresh produce. Journal of food science, 79(10), pp.M2072-M2080.</td><td>5.038540e+02</td><td>0.11964809</td><td>OD_595</td></tr>\n",
       "\t<tr><th scope=row>243</th><td>5</td><td>Acinetobacter clacoaceticus</td><td>TSB</td><td>1</td><td>Bae, Y.M., Zheng, L., Hyun, J.E., Jung, K.S., Heu, S. and Lee, S.Y., 2014. Growth characteristics and biofilm formation of various spoilage bacteria isolated from fresh produce. Journal of food science, 79(10), pp.M2072-M2080.</td><td>4.795132e+02</td><td>0.12316716</td><td>OD_595</td></tr>\n",
       "\t<tr><th scope=row>244</th><td>5</td><td>Acinetobacter clacoaceticus</td><td>TSB</td><td>1</td><td>Bae, Y.M., Zheng, L., Hyun, J.E., Jung, K.S., Heu, S. and Lee, S.Y., 2014. Growth characteristics and biofilm formation of various spoilage bacteria isolated from fresh produce. Journal of food science, 79(10), pp.M2072-M2080.</td><td>4.551724e+02</td><td>0.13020528</td><td>OD_595</td></tr>\n",
       "\t<tr><th scope=row>245</th><td>5</td><td>Acinetobacter clacoaceticus</td><td>TSB</td><td>1</td><td>Bae, Y.M., Zheng, L., Hyun, J.E., Jung, K.S., Heu, S. and Lee, S.Y., 2014. Growth characteristics and biofilm formation of various spoilage bacteria isolated from fresh produce. Journal of food science, 79(10), pp.M2072-M2080.</td><td>4.320487e+02</td><td>0.12140762</td><td>OD_595</td></tr>\n",
       "\t<tr><th scope=row>246</th><td>5</td><td>Acinetobacter clacoaceticus</td><td>TSB</td><td>1</td><td>Bae, Y.M., Zheng, L., Hyun, J.E., Jung, K.S., Heu, S. and Lee, S.Y., 2014. Growth characteristics and biofilm formation of various spoilage bacteria isolated from fresh produce. Journal of food science, 79(10), pp.M2072-M2080.</td><td>4.077079e+02</td><td>0.10909091</td><td>OD_595</td></tr>\n",
       "\t<tr><th scope=row>247</th><td>5</td><td>Acinetobacter clacoaceticus</td><td>TSB</td><td>1</td><td>Bae, Y.M., Zheng, L., Hyun, J.E., Jung, K.S., Heu, S. and Lee, S.Y., 2014. Growth characteristics and biofilm formation of various spoilage bacteria isolated from fresh produce. Journal of food science, 79(10), pp.M2072-M2080.</td><td>3.833671e+02</td><td>0.11085044</td><td>OD_595</td></tr>\n",
       "\t<tr><th scope=row>248</th><td>5</td><td>Acinetobacter clacoaceticus</td><td>TSB</td><td>1</td><td>Bae, Y.M., Zheng, L., Hyun, J.E., Jung, K.S., Heu, S. and Lee, S.Y., 2014. Growth characteristics and biofilm formation of various spoilage bacteria isolated from fresh produce. Journal of food science, 79(10), pp.M2072-M2080.</td><td>3.602434e+02</td><td>0.10909091</td><td>OD_595</td></tr>\n",
       "\t<tr><th scope=row>249</th><td>5</td><td>Acinetobacter clacoaceticus</td><td>TSB</td><td>1</td><td>Bae, Y.M., Zheng, L., Hyun, J.E., Jung, K.S., Heu, S. and Lee, S.Y., 2014. Growth characteristics and biofilm formation of various spoilage bacteria isolated from fresh produce. Journal of food science, 79(10), pp.M2072-M2080.</td><td>3.359026e+02</td><td>0.10205279</td><td>OD_595</td></tr>\n",
       "\t<tr><th scope=row>250</th><td>5</td><td>Acinetobacter clacoaceticus</td><td>TSB</td><td>1</td><td>Bae, Y.M., Zheng, L., Hyun, J.E., Jung, K.S., Heu, S. and Lee, S.Y., 2014. Growth characteristics and biofilm formation of various spoilage bacteria isolated from fresh produce. Journal of food science, 79(10), pp.M2072-M2080.</td><td>3.115619e+02</td><td>0.10557185</td><td>OD_595</td></tr>\n",
       "\t<tr><th scope=row>251</th><td>5</td><td>Acinetobacter clacoaceticus</td><td>TSB</td><td>1</td><td>Bae, Y.M., Zheng, L., Hyun, J.E., Jung, K.S., Heu, S. and Lee, S.Y., 2014. Growth characteristics and biofilm formation of various spoilage bacteria isolated from fresh produce. Journal of food science, 79(10), pp.M2072-M2080.</td><td>2.884381e+02</td><td>0.10381232</td><td>OD_595</td></tr>\n",
       "\t<tr><th scope=row>252</th><td>5</td><td>Acinetobacter clacoaceticus</td><td>TSB</td><td>1</td><td>Bae, Y.M., Zheng, L., Hyun, J.E., Jung, K.S., Heu, S. and Lee, S.Y., 2014. Growth characteristics and biofilm formation of various spoilage bacteria isolated from fresh produce. Journal of food science, 79(10), pp.M2072-M2080.</td><td>2.628803e+02</td><td>0.09501466</td><td>OD_595</td></tr>\n",
       "\t<tr><th scope=row>253</th><td>5</td><td>Acinetobacter clacoaceticus</td><td>TSB</td><td>1</td><td>Bae, Y.M., Zheng, L., Hyun, J.E., Jung, K.S., Heu, S. and Lee, S.Y., 2014. Growth characteristics and biofilm formation of various spoilage bacteria isolated from fresh produce. Journal of food science, 79(10), pp.M2072-M2080.</td><td>2.397566e+02</td><td>0.09325513</td><td>OD_595</td></tr>\n",
       "\t<tr><th scope=row>254</th><td>5</td><td>Acinetobacter clacoaceticus</td><td>TSB</td><td>1</td><td>Bae, Y.M., Zheng, L., Hyun, J.E., Jung, K.S., Heu, S. and Lee, S.Y., 2014. Growth characteristics and biofilm formation of various spoilage bacteria isolated from fresh produce. Journal of food science, 79(10), pp.M2072-M2080.</td><td>2.154158e+02</td><td>0.08093842</td><td>OD_595</td></tr>\n",
       "\t<tr><th scope=row>255</th><td>5</td><td>Acinetobacter clacoaceticus</td><td>TSB</td><td>1</td><td>Bae, Y.M., Zheng, L., Hyun, J.E., Jung, K.S., Heu, S. and Lee, S.Y., 2014. Growth characteristics and biofilm formation of various spoilage bacteria isolated from fresh produce. Journal of food science, 79(10), pp.M2072-M2080.</td><td>1.910751e+02</td><td>0.07214076</td><td>OD_595</td></tr>\n",
       "\t<tr><th scope=row>256</th><td>5</td><td>Acinetobacter clacoaceticus</td><td>TSB</td><td>1</td><td>Bae, Y.M., Zheng, L., Hyun, J.E., Jung, K.S., Heu, S. and Lee, S.Y., 2014. Growth characteristics and biofilm formation of various spoilage bacteria isolated from fresh produce. Journal of food science, 79(10), pp.M2072-M2080.</td><td>1.679513e+02</td><td>0.06334311</td><td>OD_595</td></tr>\n",
       "\t<tr><th scope=row>257</th><td>5</td><td>Acinetobacter clacoaceticus</td><td>TSB</td><td>1</td><td>Bae, Y.M., Zheng, L., Hyun, J.E., Jung, K.S., Heu, S. and Lee, S.Y., 2014. Growth characteristics and biofilm formation of various spoilage bacteria isolated from fresh produce. Journal of food science, 79(10), pp.M2072-M2080.</td><td>1.436105e+02</td><td>0.06334311</td><td>OD_595</td></tr>\n",
       "\t<tr><th scope=row>258</th><td>5</td><td>Acinetobacter clacoaceticus</td><td>TSB</td><td>1</td><td>Bae, Y.M., Zheng, L., Hyun, J.E., Jung, K.S., Heu, S. and Lee, S.Y., 2014. Growth characteristics and biofilm formation of various spoilage bacteria isolated from fresh produce. Journal of food science, 79(10), pp.M2072-M2080.</td><td>1.204868e+02</td><td>0.05454545</td><td>OD_595</td></tr>\n",
       "\t<tr><th scope=row>259</th><td>5</td><td>Acinetobacter clacoaceticus</td><td>TSB</td><td>1</td><td>Bae, Y.M., Zheng, L., Hyun, J.E., Jung, K.S., Heu, S. and Lee, S.Y., 2014. Growth characteristics and biofilm formation of various spoilage bacteria isolated from fresh produce. Journal of food science, 79(10), pp.M2072-M2080.</td><td>9.492901e+01</td><td>0.04222874</td><td>OD_595</td></tr>\n",
       "\t<tr><th scope=row>260</th><td>5</td><td>Acinetobacter clacoaceticus</td><td>TSB</td><td>1</td><td>Bae, Y.M., Zheng, L., Hyun, J.E., Jung, K.S., Heu, S. and Lee, S.Y., 2014. Growth characteristics and biofilm formation of various spoilage bacteria isolated from fresh produce. Journal of food science, 79(10), pp.M2072-M2080.</td><td>7.180527e+01</td><td>0.04222874</td><td>OD_595</td></tr>\n",
       "\t<tr><th scope=row>261</th><td>5</td><td>Acinetobacter clacoaceticus</td><td>TSB</td><td>1</td><td>Bae, Y.M., Zheng, L., Hyun, J.E., Jung, K.S., Heu, S. and Lee, S.Y., 2014. Growth characteristics and biofilm formation of various spoilage bacteria isolated from fresh produce. Journal of food science, 79(10), pp.M2072-M2080.</td><td>4.746450e+01</td><td>0.03343109</td><td>OD_595</td></tr>\n",
       "\t<tr><th scope=row>262</th><td>5</td><td>Acinetobacter clacoaceticus</td><td>TSB</td><td>1</td><td>Bae, Y.M., Zheng, L., Hyun, J.E., Jung, K.S., Heu, S. and Lee, S.Y., 2014. Growth characteristics and biofilm formation of various spoilage bacteria isolated from fresh produce. Journal of food science, 79(10), pp.M2072-M2080.</td><td>2.434077e+01</td><td>0.01935484</td><td>OD_595</td></tr>\n",
       "\t<tr><th scope=row>263</th><td>5</td><td>Acinetobacter clacoaceticus</td><td>TSB</td><td>1</td><td>Bae, Y.M., Zheng, L., Hyun, J.E., Jung, K.S., Heu, S. and Lee, S.Y., 2014. Growth characteristics and biofilm formation of various spoilage bacteria isolated from fresh produce. Journal of food science, 79(10), pp.M2072-M2080.</td><td>2.273737e-13</td><td>0.01759531</td><td>OD_595</td></tr>\n",
       "\t<tr><th scope=row>264</th><td>5</td><td>Acinetobacter clacoaceticus</td><td>TSB</td><td>1</td><td>Bae, Y.M., Zheng, L., Hyun, J.E., Jung, K.S., Heu, S. and Lee, S.Y., 2014. Growth characteristics and biofilm formation of various spoilage bacteria isolated from fresh produce. Journal of food science, 79(10), pp.M2072-M2080.</td><td>6.705882e+02</td><td>0.10381232</td><td>OD_595</td></tr>\n",
       "\t<tr><th scope=row>⋮</th><td>⋮</td><td>⋮</td><td>⋮</td><td>⋮</td><td>⋮</td><td>⋮</td><td>⋮</td><td>⋮</td></tr>\n",
       "\t<tr><th scope=row>4358</th><td>25</td><td>Lactobaciulus plantarum</td><td>MRS</td><td>1</td><td>Zwietering, M.H., De Wit, J.C., Cuppers, H.G.A.M. and Van't Riet, K., 1994. Modeling of bacterial growth with shifts in temperature. Appl. Environ. Microbiol., 60(1), pp.204-213.</td><td> 8.84473411</td><td>  40.660688</td><td>N</td></tr>\n",
       "\t<tr><th scope=row>4359</th><td>25</td><td>Lactobaciulus plantarum</td><td>MRS</td><td>1</td><td>Zwietering, M.H., De Wit, J.C., Cuppers, H.G.A.M. and Van't Riet, K., 1994. Modeling of bacterial growth with shifts in temperature. Appl. Environ. Microbiol., 60(1), pp.204-213.</td><td> 7.97027249</td><td>  43.415860</td><td>N</td></tr>\n",
       "\t<tr><th scope=row>4360</th><td>25</td><td>Lactobaciulus plantarum</td><td>MRS</td><td>1</td><td>Zwietering, M.H., De Wit, J.C., Cuppers, H.G.A.M. and Van't Riet, K., 1994. Modeling of bacterial growth with shifts in temperature. Appl. Environ. Microbiol., 60(1), pp.204-213.</td><td> 7.84577162</td><td>  40.682726</td><td>N</td></tr>\n",
       "\t<tr><th scope=row>4361</th><td>25</td><td>Lactobaciulus plantarum</td><td>MRS</td><td>1</td><td>Zwietering, M.H., De Wit, J.C., Cuppers, H.G.A.M. and Van't Riet, K., 1994. Modeling of bacterial growth with shifts in temperature. Appl. Environ. Microbiol., 60(1), pp.204-213.</td><td> 7.97156553</td><td>  34.570940</td><td>N</td></tr>\n",
       "\t<tr><th scope=row>4362</th><td>25</td><td>Lactobaciulus plantarum</td><td>MRS</td><td>1</td><td>Zwietering, M.H., De Wit, J.C., Cuppers, H.G.A.M. and Van't Riet, K., 1994. Modeling of bacterial growth with shifts in temperature. Appl. Environ. Microbiol., 60(1), pp.204-213.</td><td> 6.91062968</td><td>  31.887943</td><td>N</td></tr>\n",
       "\t<tr><th scope=row>4363</th><td>25</td><td>Lactobaciulus plantarum</td><td>MRS</td><td>1</td><td>Zwietering, M.H., De Wit, J.C., Cuppers, H.G.A.M. and Van't Riet, K., 1994. Modeling of bacterial growth with shifts in temperature. Appl. Environ. Microbiol., 60(1), pp.204-213.</td><td>21.92730060</td><td>6471.018166</td><td>N</td></tr>\n",
       "\t<tr><th scope=row>4364</th><td>25</td><td>Lactobaciulus plantarum</td><td>MRS</td><td>1</td><td>Zwietering, M.H., De Wit, J.C., Cuppers, H.G.A.M. and Van't Riet, K., 1994. Modeling of bacterial growth with shifts in temperature. Appl. Environ. Microbiol., 60(1), pp.204-213.</td><td> 5.91203662</td><td>  29.894689</td><td>N</td></tr>\n",
       "\t<tr><th scope=row>4365</th><td>25</td><td>Lactobaciulus plantarum</td><td>MRS</td><td>1</td><td>Zwietering, M.H., De Wit, J.C., Cuppers, H.G.A.M. and Van't Riet, K., 1994. Modeling of bacterial growth with shifts in temperature. Appl. Environ. Microbiol., 60(1), pp.204-213.</td><td> 5.97622661</td><td>  21.943576</td><td>N</td></tr>\n",
       "\t<tr><th scope=row>4366</th><td>25</td><td>Lactobaciulus plantarum</td><td>MRS</td><td>1</td><td>Zwietering, M.H., De Wit, J.C., Cuppers, H.G.A.M. and Van't Riet, K., 1994. Modeling of bacterial growth with shifts in temperature. Appl. Environ. Microbiol., 60(1), pp.204-213.</td><td> 6.91173799</td><td>  26.231503</td><td>N</td></tr>\n",
       "\t<tr><th scope=row>4367</th><td>25</td><td>Lactobaciulus plantarum</td><td>MRS</td><td>1</td><td>Zwietering, M.H., De Wit, J.C., Cuppers, H.G.A.M. and Van't Riet, K., 1994. Modeling of bacterial growth with shifts in temperature. Appl. Environ. Microbiol., 60(1), pp.204-213.</td><td> 6.97537383</td><td>  21.229423</td><td>N</td></tr>\n",
       "\t<tr><th scope=row>4368</th><td>25</td><td>Lactobaciulus plantarum</td><td>MRS</td><td>1</td><td>Zwietering, M.H., De Wit, J.C., Cuppers, H.G.A.M. and Van't Riet, K., 1994. Modeling of bacterial growth with shifts in temperature. Appl. Environ. Microbiol., 60(1), pp.204-213.</td><td> 6.97537383</td><td>  21.229423</td><td>N</td></tr>\n",
       "\t<tr><th scope=row>4369</th><td>25</td><td>Lactobaciulus plantarum</td><td>MRS</td><td>1</td><td>Zwietering, M.H., De Wit, J.C., Cuppers, H.G.A.M. and Van't Riet, K., 1994. Modeling of bacterial growth with shifts in temperature. Appl. Environ. Microbiol., 60(1), pp.204-213.</td><td> 5.97770437</td><td>  16.913610</td><td>N</td></tr>\n",
       "\t<tr><th scope=row>4370</th><td>25</td><td>Lactobaciulus plantarum</td><td>MRS</td><td>1</td><td>Zwietering, M.H., De Wit, J.C., Cuppers, H.G.A.M. and Van't Riet, K., 1994. Modeling of bacterial growth with shifts in temperature. Appl. Environ. Microbiol., 60(1), pp.204-213.</td><td> 5.97973628</td><td>  11.823976</td><td>N</td></tr>\n",
       "\t<tr><th scope=row>4371</th><td>25</td><td>Lactobaciulus plantarum</td><td>MRS</td><td>1</td><td>Zwietering, M.H., De Wit, J.C., Cuppers, H.G.A.M. and Van't Riet, K., 1994. Modeling of bacterial growth with shifts in temperature. Appl. Environ. Microbiol., 60(1), pp.204-213.</td><td> 4.85664236</td><td>  10.387062</td><td>N</td></tr>\n",
       "\t<tr><th scope=row>4372</th><td>25</td><td>Lactobaciulus plantarum</td><td>MRS</td><td>1</td><td>Zwietering, M.H., De Wit, J.C., Cuppers, H.G.A.M. and Van't Riet, K., 1994. Modeling of bacterial growth with shifts in temperature. Appl. Environ. Microbiol., 60(1), pp.204-213.</td><td> 4.98225154</td><td>   9.118591</td><td>N</td></tr>\n",
       "\t<tr><th scope=row>4373</th><td>25</td><td>Lactobaciulus plantarum</td><td>MRS</td><td>1</td><td>Zwietering, M.H., De Wit, J.C., Cuppers, H.G.A.M. and Van't Riet, K., 1994. Modeling of bacterial growth with shifts in temperature. Appl. Environ. Microbiol., 60(1), pp.204-213.</td><td> 4.98317514</td><td>   7.749226</td><td>N</td></tr>\n",
       "\t<tr><th scope=row>4374</th><td>25</td><td>Lactobaciulus plantarum</td><td>MRS</td><td>1</td><td>Zwietering, M.H., De Wit, J.C., Cuppers, H.G.A.M. and Van't Riet, K., 1994. Modeling of bacterial growth with shifts in temperature. Appl. Environ. Microbiol., 60(1), pp.204-213.</td><td> 4.98409874</td><td>   6.585502</td><td>N</td></tr>\n",
       "\t<tr><th scope=row>4375</th><td>25</td><td>Lactobaciulus plantarum</td><td>MRS</td><td>1</td><td>Zwietering, M.H., De Wit, J.C., Cuppers, H.G.A.M. and Van't Riet, K., 1994. Modeling of bacterial growth with shifts in temperature. Appl. Environ. Microbiol., 60(1), pp.204-213.</td><td> 3.98495153</td><td>   6.807037</td><td>N</td></tr>\n",
       "\t<tr><th scope=row>4376</th><td>25</td><td>Lactobaciulus plantarum</td><td>MRS</td><td>1</td><td>Zwietering, M.H., De Wit, J.C., Cuppers, H.G.A.M. and Van't Riet, K., 1994. Modeling of bacterial growth with shifts in temperature. Appl. Environ. Microbiol., 60(1), pp.204-213.</td><td> 3.98587512</td><td>   5.784804</td><td>N</td></tr>\n",
       "\t<tr><th scope=row>4377</th><td>25</td><td>Lactobaciulus plantarum</td><td>MRS</td><td>1</td><td>Zwietering, M.H., De Wit, J.C., Cuppers, H.G.A.M. and Van't Riet, K., 1994. Modeling of bacterial growth with shifts in temperature. Appl. Environ. Microbiol., 60(1), pp.204-213.</td><td> 2.86352007</td><td>   4.461514</td><td>N</td></tr>\n",
       "\t<tr><th scope=row>4378</th><td>25</td><td>Lactobaciulus plantarum</td><td>MRS</td><td>1</td><td>Zwietering, M.H., De Wit, J.C., Cuppers, H.G.A.M. and Van't Riet, K., 1994. Modeling of bacterial growth with shifts in temperature. Appl. Environ. Microbiol., 60(1), pp.204-213.</td><td> 3.98679872</td><td>   4.916083</td><td>N</td></tr>\n",
       "\t<tr><th scope=row>4379</th><td>25</td><td>Lactobaciulus plantarum</td><td>MRS</td><td>1</td><td>Zwietering, M.H., De Wit, J.C., Cuppers, H.G.A.M. and Van't Riet, K., 1994. Modeling of bacterial growth with shifts in temperature. Appl. Environ. Microbiol., 60(1), pp.204-213.</td><td> 3.98772232</td><td>   4.177820</td><td>N</td></tr>\n",
       "\t<tr><th scope=row>4380</th><td>25</td><td>Lactobaciulus plantarum</td><td>MRS</td><td>1</td><td>Zwietering, M.H., De Wit, J.C., Cuppers, H.G.A.M. and Van't Riet, K., 1994. Modeling of bacterial growth with shifts in temperature. Appl. Environ. Microbiol., 60(1), pp.204-213.</td><td> 2.98949870</td><td>   3.669860</td><td>N</td></tr>\n",
       "\t<tr><th scope=row>4381</th><td>25</td><td>Lactobaciulus plantarum</td><td>MRS</td><td>1</td><td>Zwietering, M.H., De Wit, J.C., Cuppers, H.G.A.M. and Van't Riet, K., 1994. Modeling of bacterial growth with shifts in temperature. Appl. Environ. Microbiol., 60(1), pp.204-213.</td><td> 1.74134974</td><td>   3.330750</td><td>N</td></tr>\n",
       "\t<tr><th scope=row>4382</th><td>25</td><td>Lactobaciulus plantarum</td><td>MRS</td><td>1</td><td>Zwietering, M.H., De Wit, J.C., Cuppers, H.G.A.M. and Van't Riet, K., 1994. Modeling of bacterial growth with shifts in temperature. Appl. Environ. Microbiol., 60(1), pp.204-213.</td><td> 0.74349557</td><td>   2.741410</td><td>N</td></tr>\n",
       "\t<tr><th scope=row>4383</th><td>25</td><td>Lactobaciulus plantarum</td><td>MRS</td><td>1</td><td>Zwietering, M.H., De Wit, J.C., Cuppers, H.G.A.M. and Van't Riet, K., 1994. Modeling of bacterial growth with shifts in temperature. Appl. Environ. Microbiol., 60(1), pp.204-213.</td><td> 0.05735537</td><td>   2.447187</td><td>N</td></tr>\n",
       "\t<tr><th scope=row>4384</th><td>25</td><td>Lactobaciulus plantarum</td><td>MRS</td><td>1</td><td>Zwietering, M.H., De Wit, J.C., Cuppers, H.G.A.M. and Van't Riet, K., 1994. Modeling of bacterial growth with shifts in temperature. Appl. Environ. Microbiol., 60(1), pp.204-213.</td><td> 2.49260353</td><td>   2.327517</td><td>N</td></tr>\n",
       "\t<tr><th scope=row>4385</th><td>25</td><td>Lactobaciulus plantarum</td><td>MRS</td><td>1</td><td>Zwietering, M.H., De Wit, J.C., Cuppers, H.G.A.M. and Van't Riet, K., 1994. Modeling of bacterial growth with shifts in temperature. Appl. Environ. Microbiol., 60(1), pp.204-213.</td><td> 1.74301222</td><td>   2.485061</td><td>N</td></tr>\n",
       "\t<tr><th scope=row>4386</th><td>25</td><td>Lactobaciulus plantarum</td><td>MRS</td><td>1</td><td>Zwietering, M.H., De Wit, J.C., Cuppers, H.G.A.M. and Van't Riet, K., 1994. Modeling of bacterial growth with shifts in temperature. Appl. Environ. Microbiol., 60(1), pp.204-213.</td><td> 0.99452923</td><td>   2.182619</td><td>N</td></tr>\n",
       "\t<tr><th scope=row>4387</th><td>25</td><td>Lactobaciulus plantarum</td><td>MRS</td><td>1</td><td>Zwietering, M.H., De Wit, J.C., Cuppers, H.G.A.M. and Van't Riet, K., 1994. Modeling of bacterial growth with shifts in temperature. Appl. Environ. Microbiol., 60(1), pp.204-213.</td><td> 2.24156987</td><td>   2.923404</td><td>N</td></tr>\n",
       "</tbody>\n",
       "</table>\n"
      ],
      "text/latex": [
       "A data.frame: 4387 × 8\n",
       "\\begin{tabular}{r|llllllll}\n",
       "  & Temp.C & clade & substrate & replicate & SourceRef & Time.hr & Popn\\_Change & Popn\\_DataUnit\\\\\n",
       "  & <int> & <chr> & <chr> & <int> & <chr> & <dbl> & <dbl> & <chr>\\\\\n",
       "\\hline\n",
       "\t235 & 5 & Acinetobacter clacoaceticus & TSB & 1 & Bae, Y.M., Zheng, L., Hyun, J.E., Jung, K.S., Heu, S. and Lee, S.Y., 2014. Growth characteristics and biofilm formation of various spoilage bacteria isolated from fresh produce. Journal of food science, 79(10), pp.M2072-M2080. & 6.718053e+02 & 0.11788856 & OD\\_595\\\\\n",
       "\t236 & 5 & Acinetobacter clacoaceticus & TSB & 1 & Bae, Y.M., Zheng, L., Hyun, J.E., Jung, K.S., Heu, S. and Lee, S.Y., 2014. Growth characteristics and biofilm formation of various spoilage bacteria isolated from fresh produce. Journal of food science, 79(10), pp.M2072-M2080. & 6.474645e+02 & 0.11964809 & OD\\_595\\\\\n",
       "\t237 & 5 & Acinetobacter clacoaceticus & TSB & 1 & Bae, Y.M., Zheng, L., Hyun, J.E., Jung, K.S., Heu, S. and Lee, S.Y., 2014. Growth characteristics and biofilm formation of various spoilage bacteria isolated from fresh produce. Journal of food science, 79(10), pp.M2072-M2080. & 6.243408e+02 & 0.11260997 & OD\\_595\\\\\n",
       "\t238 & 5 & Acinetobacter clacoaceticus & TSB & 1 & Bae, Y.M., Zheng, L., Hyun, J.E., Jung, K.S., Heu, S. and Lee, S.Y., 2014. Growth characteristics and biofilm formation of various spoilage bacteria isolated from fresh produce. Journal of food science, 79(10), pp.M2072-M2080. & 5.987830e+02 & 0.11612903 & OD\\_595\\\\\n",
       "\t239 & 5 & Acinetobacter clacoaceticus & TSB & 1 & Bae, Y.M., Zheng, L., Hyun, J.E., Jung, K.S., Heu, S. and Lee, S.Y., 2014. Growth characteristics and biofilm formation of various spoilage bacteria isolated from fresh produce. Journal of food science, 79(10), pp.M2072-M2080. & 5.756592e+02 & 0.11788856 & OD\\_595\\\\\n",
       "\t240 & 5 & Acinetobacter clacoaceticus & TSB & 1 & Bae, Y.M., Zheng, L., Hyun, J.E., Jung, K.S., Heu, S. and Lee, S.Y., 2014. Growth characteristics and biofilm formation of various spoilage bacteria isolated from fresh produce. Journal of food science, 79(10), pp.M2072-M2080. & 5.513185e+02 & 0.11436950 & OD\\_595\\\\\n",
       "\t241 & 5 & Acinetobacter clacoaceticus & TSB & 1 & Bae, Y.M., Zheng, L., Hyun, J.E., Jung, K.S., Heu, S. and Lee, S.Y., 2014. Growth characteristics and biofilm formation of various spoilage bacteria isolated from fresh produce. Journal of food science, 79(10), pp.M2072-M2080. & 5.269777e+02 & 0.12140762 & OD\\_595\\\\\n",
       "\t242 & 5 & Acinetobacter clacoaceticus & TSB & 1 & Bae, Y.M., Zheng, L., Hyun, J.E., Jung, K.S., Heu, S. and Lee, S.Y., 2014. Growth characteristics and biofilm formation of various spoilage bacteria isolated from fresh produce. Journal of food science, 79(10), pp.M2072-M2080. & 5.038540e+02 & 0.11964809 & OD\\_595\\\\\n",
       "\t243 & 5 & Acinetobacter clacoaceticus & TSB & 1 & Bae, Y.M., Zheng, L., Hyun, J.E., Jung, K.S., Heu, S. and Lee, S.Y., 2014. Growth characteristics and biofilm formation of various spoilage bacteria isolated from fresh produce. Journal of food science, 79(10), pp.M2072-M2080. & 4.795132e+02 & 0.12316716 & OD\\_595\\\\\n",
       "\t244 & 5 & Acinetobacter clacoaceticus & TSB & 1 & Bae, Y.M., Zheng, L., Hyun, J.E., Jung, K.S., Heu, S. and Lee, S.Y., 2014. Growth characteristics and biofilm formation of various spoilage bacteria isolated from fresh produce. Journal of food science, 79(10), pp.M2072-M2080. & 4.551724e+02 & 0.13020528 & OD\\_595\\\\\n",
       "\t245 & 5 & Acinetobacter clacoaceticus & TSB & 1 & Bae, Y.M., Zheng, L., Hyun, J.E., Jung, K.S., Heu, S. and Lee, S.Y., 2014. Growth characteristics and biofilm formation of various spoilage bacteria isolated from fresh produce. Journal of food science, 79(10), pp.M2072-M2080. & 4.320487e+02 & 0.12140762 & OD\\_595\\\\\n",
       "\t246 & 5 & Acinetobacter clacoaceticus & TSB & 1 & Bae, Y.M., Zheng, L., Hyun, J.E., Jung, K.S., Heu, S. and Lee, S.Y., 2014. Growth characteristics and biofilm formation of various spoilage bacteria isolated from fresh produce. Journal of food science, 79(10), pp.M2072-M2080. & 4.077079e+02 & 0.10909091 & OD\\_595\\\\\n",
       "\t247 & 5 & Acinetobacter clacoaceticus & TSB & 1 & Bae, Y.M., Zheng, L., Hyun, J.E., Jung, K.S., Heu, S. and Lee, S.Y., 2014. Growth characteristics and biofilm formation of various spoilage bacteria isolated from fresh produce. Journal of food science, 79(10), pp.M2072-M2080. & 3.833671e+02 & 0.11085044 & OD\\_595\\\\\n",
       "\t248 & 5 & Acinetobacter clacoaceticus & TSB & 1 & Bae, Y.M., Zheng, L., Hyun, J.E., Jung, K.S., Heu, S. and Lee, S.Y., 2014. Growth characteristics and biofilm formation of various spoilage bacteria isolated from fresh produce. Journal of food science, 79(10), pp.M2072-M2080. & 3.602434e+02 & 0.10909091 & OD\\_595\\\\\n",
       "\t249 & 5 & Acinetobacter clacoaceticus & TSB & 1 & Bae, Y.M., Zheng, L., Hyun, J.E., Jung, K.S., Heu, S. and Lee, S.Y., 2014. Growth characteristics and biofilm formation of various spoilage bacteria isolated from fresh produce. Journal of food science, 79(10), pp.M2072-M2080. & 3.359026e+02 & 0.10205279 & OD\\_595\\\\\n",
       "\t250 & 5 & Acinetobacter clacoaceticus & TSB & 1 & Bae, Y.M., Zheng, L., Hyun, J.E., Jung, K.S., Heu, S. and Lee, S.Y., 2014. Growth characteristics and biofilm formation of various spoilage bacteria isolated from fresh produce. Journal of food science, 79(10), pp.M2072-M2080. & 3.115619e+02 & 0.10557185 & OD\\_595\\\\\n",
       "\t251 & 5 & Acinetobacter clacoaceticus & TSB & 1 & Bae, Y.M., Zheng, L., Hyun, J.E., Jung, K.S., Heu, S. and Lee, S.Y., 2014. Growth characteristics and biofilm formation of various spoilage bacteria isolated from fresh produce. Journal of food science, 79(10), pp.M2072-M2080. & 2.884381e+02 & 0.10381232 & OD\\_595\\\\\n",
       "\t252 & 5 & Acinetobacter clacoaceticus & TSB & 1 & Bae, Y.M., Zheng, L., Hyun, J.E., Jung, K.S., Heu, S. and Lee, S.Y., 2014. Growth characteristics and biofilm formation of various spoilage bacteria isolated from fresh produce. Journal of food science, 79(10), pp.M2072-M2080. & 2.628803e+02 & 0.09501466 & OD\\_595\\\\\n",
       "\t253 & 5 & Acinetobacter clacoaceticus & TSB & 1 & Bae, Y.M., Zheng, L., Hyun, J.E., Jung, K.S., Heu, S. and Lee, S.Y., 2014. Growth characteristics and biofilm formation of various spoilage bacteria isolated from fresh produce. Journal of food science, 79(10), pp.M2072-M2080. & 2.397566e+02 & 0.09325513 & OD\\_595\\\\\n",
       "\t254 & 5 & Acinetobacter clacoaceticus & TSB & 1 & Bae, Y.M., Zheng, L., Hyun, J.E., Jung, K.S., Heu, S. and Lee, S.Y., 2014. Growth characteristics and biofilm formation of various spoilage bacteria isolated from fresh produce. Journal of food science, 79(10), pp.M2072-M2080. & 2.154158e+02 & 0.08093842 & OD\\_595\\\\\n",
       "\t255 & 5 & Acinetobacter clacoaceticus & TSB & 1 & Bae, Y.M., Zheng, L., Hyun, J.E., Jung, K.S., Heu, S. and Lee, S.Y., 2014. Growth characteristics and biofilm formation of various spoilage bacteria isolated from fresh produce. Journal of food science, 79(10), pp.M2072-M2080. & 1.910751e+02 & 0.07214076 & OD\\_595\\\\\n",
       "\t256 & 5 & Acinetobacter clacoaceticus & TSB & 1 & Bae, Y.M., Zheng, L., Hyun, J.E., Jung, K.S., Heu, S. and Lee, S.Y., 2014. Growth characteristics and biofilm formation of various spoilage bacteria isolated from fresh produce. Journal of food science, 79(10), pp.M2072-M2080. & 1.679513e+02 & 0.06334311 & OD\\_595\\\\\n",
       "\t257 & 5 & Acinetobacter clacoaceticus & TSB & 1 & Bae, Y.M., Zheng, L., Hyun, J.E., Jung, K.S., Heu, S. and Lee, S.Y., 2014. Growth characteristics and biofilm formation of various spoilage bacteria isolated from fresh produce. Journal of food science, 79(10), pp.M2072-M2080. & 1.436105e+02 & 0.06334311 & OD\\_595\\\\\n",
       "\t258 & 5 & Acinetobacter clacoaceticus & TSB & 1 & Bae, Y.M., Zheng, L., Hyun, J.E., Jung, K.S., Heu, S. and Lee, S.Y., 2014. Growth characteristics and biofilm formation of various spoilage bacteria isolated from fresh produce. Journal of food science, 79(10), pp.M2072-M2080. & 1.204868e+02 & 0.05454545 & OD\\_595\\\\\n",
       "\t259 & 5 & Acinetobacter clacoaceticus & TSB & 1 & Bae, Y.M., Zheng, L., Hyun, J.E., Jung, K.S., Heu, S. and Lee, S.Y., 2014. Growth characteristics and biofilm formation of various spoilage bacteria isolated from fresh produce. Journal of food science, 79(10), pp.M2072-M2080. & 9.492901e+01 & 0.04222874 & OD\\_595\\\\\n",
       "\t260 & 5 & Acinetobacter clacoaceticus & TSB & 1 & Bae, Y.M., Zheng, L., Hyun, J.E., Jung, K.S., Heu, S. and Lee, S.Y., 2014. Growth characteristics and biofilm formation of various spoilage bacteria isolated from fresh produce. Journal of food science, 79(10), pp.M2072-M2080. & 7.180527e+01 & 0.04222874 & OD\\_595\\\\\n",
       "\t261 & 5 & Acinetobacter clacoaceticus & TSB & 1 & Bae, Y.M., Zheng, L., Hyun, J.E., Jung, K.S., Heu, S. and Lee, S.Y., 2014. Growth characteristics and biofilm formation of various spoilage bacteria isolated from fresh produce. Journal of food science, 79(10), pp.M2072-M2080. & 4.746450e+01 & 0.03343109 & OD\\_595\\\\\n",
       "\t262 & 5 & Acinetobacter clacoaceticus & TSB & 1 & Bae, Y.M., Zheng, L., Hyun, J.E., Jung, K.S., Heu, S. and Lee, S.Y., 2014. Growth characteristics and biofilm formation of various spoilage bacteria isolated from fresh produce. Journal of food science, 79(10), pp.M2072-M2080. & 2.434077e+01 & 0.01935484 & OD\\_595\\\\\n",
       "\t263 & 5 & Acinetobacter clacoaceticus & TSB & 1 & Bae, Y.M., Zheng, L., Hyun, J.E., Jung, K.S., Heu, S. and Lee, S.Y., 2014. Growth characteristics and biofilm formation of various spoilage bacteria isolated from fresh produce. Journal of food science, 79(10), pp.M2072-M2080. & 2.273737e-13 & 0.01759531 & OD\\_595\\\\\n",
       "\t264 & 5 & Acinetobacter clacoaceticus & TSB & 1 & Bae, Y.M., Zheng, L., Hyun, J.E., Jung, K.S., Heu, S. and Lee, S.Y., 2014. Growth characteristics and biofilm formation of various spoilage bacteria isolated from fresh produce. Journal of food science, 79(10), pp.M2072-M2080. & 6.705882e+02 & 0.10381232 & OD\\_595\\\\\n",
       "\t⋮ & ⋮ & ⋮ & ⋮ & ⋮ & ⋮ & ⋮ & ⋮ & ⋮\\\\\n",
       "\t4358 & 25 & Lactobaciulus plantarum & MRS & 1 & Zwietering, M.H., De Wit, J.C., Cuppers, H.G.A.M. and Van't Riet, K., 1994. Modeling of bacterial growth with shifts in temperature. Appl. Environ. Microbiol., 60(1), pp.204-213. &  8.84473411 &   40.660688 & N\\\\\n",
       "\t4359 & 25 & Lactobaciulus plantarum & MRS & 1 & Zwietering, M.H., De Wit, J.C., Cuppers, H.G.A.M. and Van't Riet, K., 1994. Modeling of bacterial growth with shifts in temperature. Appl. Environ. Microbiol., 60(1), pp.204-213. &  7.97027249 &   43.415860 & N\\\\\n",
       "\t4360 & 25 & Lactobaciulus plantarum & MRS & 1 & Zwietering, M.H., De Wit, J.C., Cuppers, H.G.A.M. and Van't Riet, K., 1994. Modeling of bacterial growth with shifts in temperature. Appl. Environ. Microbiol., 60(1), pp.204-213. &  7.84577162 &   40.682726 & N\\\\\n",
       "\t4361 & 25 & Lactobaciulus plantarum & MRS & 1 & Zwietering, M.H., De Wit, J.C., Cuppers, H.G.A.M. and Van't Riet, K., 1994. Modeling of bacterial growth with shifts in temperature. Appl. Environ. Microbiol., 60(1), pp.204-213. &  7.97156553 &   34.570940 & N\\\\\n",
       "\t4362 & 25 & Lactobaciulus plantarum & MRS & 1 & Zwietering, M.H., De Wit, J.C., Cuppers, H.G.A.M. and Van't Riet, K., 1994. Modeling of bacterial growth with shifts in temperature. Appl. Environ. Microbiol., 60(1), pp.204-213. &  6.91062968 &   31.887943 & N\\\\\n",
       "\t4363 & 25 & Lactobaciulus plantarum & MRS & 1 & Zwietering, M.H., De Wit, J.C., Cuppers, H.G.A.M. and Van't Riet, K., 1994. Modeling of bacterial growth with shifts in temperature. Appl. Environ. Microbiol., 60(1), pp.204-213. & 21.92730060 & 6471.018166 & N\\\\\n",
       "\t4364 & 25 & Lactobaciulus plantarum & MRS & 1 & Zwietering, M.H., De Wit, J.C., Cuppers, H.G.A.M. and Van't Riet, K., 1994. Modeling of bacterial growth with shifts in temperature. Appl. Environ. Microbiol., 60(1), pp.204-213. &  5.91203662 &   29.894689 & N\\\\\n",
       "\t4365 & 25 & Lactobaciulus plantarum & MRS & 1 & Zwietering, M.H., De Wit, J.C., Cuppers, H.G.A.M. and Van't Riet, K., 1994. Modeling of bacterial growth with shifts in temperature. Appl. Environ. Microbiol., 60(1), pp.204-213. &  5.97622661 &   21.943576 & N\\\\\n",
       "\t4366 & 25 & Lactobaciulus plantarum & MRS & 1 & Zwietering, M.H., De Wit, J.C., Cuppers, H.G.A.M. and Van't Riet, K., 1994. Modeling of bacterial growth with shifts in temperature. Appl. Environ. Microbiol., 60(1), pp.204-213. &  6.91173799 &   26.231503 & N\\\\\n",
       "\t4367 & 25 & Lactobaciulus plantarum & MRS & 1 & Zwietering, M.H., De Wit, J.C., Cuppers, H.G.A.M. and Van't Riet, K., 1994. Modeling of bacterial growth with shifts in temperature. Appl. Environ. Microbiol., 60(1), pp.204-213. &  6.97537383 &   21.229423 & N\\\\\n",
       "\t4368 & 25 & Lactobaciulus plantarum & MRS & 1 & Zwietering, M.H., De Wit, J.C., Cuppers, H.G.A.M. and Van't Riet, K., 1994. Modeling of bacterial growth with shifts in temperature. Appl. Environ. Microbiol., 60(1), pp.204-213. &  6.97537383 &   21.229423 & N\\\\\n",
       "\t4369 & 25 & Lactobaciulus plantarum & MRS & 1 & Zwietering, M.H., De Wit, J.C., Cuppers, H.G.A.M. and Van't Riet, K., 1994. Modeling of bacterial growth with shifts in temperature. Appl. Environ. Microbiol., 60(1), pp.204-213. &  5.97770437 &   16.913610 & N\\\\\n",
       "\t4370 & 25 & Lactobaciulus plantarum & MRS & 1 & Zwietering, M.H., De Wit, J.C., Cuppers, H.G.A.M. and Van't Riet, K., 1994. Modeling of bacterial growth with shifts in temperature. Appl. Environ. Microbiol., 60(1), pp.204-213. &  5.97973628 &   11.823976 & N\\\\\n",
       "\t4371 & 25 & Lactobaciulus plantarum & MRS & 1 & Zwietering, M.H., De Wit, J.C., Cuppers, H.G.A.M. and Van't Riet, K., 1994. Modeling of bacterial growth with shifts in temperature. Appl. Environ. Microbiol., 60(1), pp.204-213. &  4.85664236 &   10.387062 & N\\\\\n",
       "\t4372 & 25 & Lactobaciulus plantarum & MRS & 1 & Zwietering, M.H., De Wit, J.C., Cuppers, H.G.A.M. and Van't Riet, K., 1994. Modeling of bacterial growth with shifts in temperature. Appl. Environ. Microbiol., 60(1), pp.204-213. &  4.98225154 &    9.118591 & N\\\\\n",
       "\t4373 & 25 & Lactobaciulus plantarum & MRS & 1 & Zwietering, M.H., De Wit, J.C., Cuppers, H.G.A.M. and Van't Riet, K., 1994. Modeling of bacterial growth with shifts in temperature. Appl. Environ. Microbiol., 60(1), pp.204-213. &  4.98317514 &    7.749226 & N\\\\\n",
       "\t4374 & 25 & Lactobaciulus plantarum & MRS & 1 & Zwietering, M.H., De Wit, J.C., Cuppers, H.G.A.M. and Van't Riet, K., 1994. Modeling of bacterial growth with shifts in temperature. Appl. Environ. Microbiol., 60(1), pp.204-213. &  4.98409874 &    6.585502 & N\\\\\n",
       "\t4375 & 25 & Lactobaciulus plantarum & MRS & 1 & Zwietering, M.H., De Wit, J.C., Cuppers, H.G.A.M. and Van't Riet, K., 1994. Modeling of bacterial growth with shifts in temperature. Appl. Environ. Microbiol., 60(1), pp.204-213. &  3.98495153 &    6.807037 & N\\\\\n",
       "\t4376 & 25 & Lactobaciulus plantarum & MRS & 1 & Zwietering, M.H., De Wit, J.C., Cuppers, H.G.A.M. and Van't Riet, K., 1994. Modeling of bacterial growth with shifts in temperature. Appl. Environ. Microbiol., 60(1), pp.204-213. &  3.98587512 &    5.784804 & N\\\\\n",
       "\t4377 & 25 & Lactobaciulus plantarum & MRS & 1 & Zwietering, M.H., De Wit, J.C., Cuppers, H.G.A.M. and Van't Riet, K., 1994. Modeling of bacterial growth with shifts in temperature. Appl. Environ. Microbiol., 60(1), pp.204-213. &  2.86352007 &    4.461514 & N\\\\\n",
       "\t4378 & 25 & Lactobaciulus plantarum & MRS & 1 & Zwietering, M.H., De Wit, J.C., Cuppers, H.G.A.M. and Van't Riet, K., 1994. Modeling of bacterial growth with shifts in temperature. Appl. Environ. Microbiol., 60(1), pp.204-213. &  3.98679872 &    4.916083 & N\\\\\n",
       "\t4379 & 25 & Lactobaciulus plantarum & MRS & 1 & Zwietering, M.H., De Wit, J.C., Cuppers, H.G.A.M. and Van't Riet, K., 1994. Modeling of bacterial growth with shifts in temperature. Appl. Environ. Microbiol., 60(1), pp.204-213. &  3.98772232 &    4.177820 & N\\\\\n",
       "\t4380 & 25 & Lactobaciulus plantarum & MRS & 1 & Zwietering, M.H., De Wit, J.C., Cuppers, H.G.A.M. and Van't Riet, K., 1994. Modeling of bacterial growth with shifts in temperature. Appl. Environ. Microbiol., 60(1), pp.204-213. &  2.98949870 &    3.669860 & N\\\\\n",
       "\t4381 & 25 & Lactobaciulus plantarum & MRS & 1 & Zwietering, M.H., De Wit, J.C., Cuppers, H.G.A.M. and Van't Riet, K., 1994. Modeling of bacterial growth with shifts in temperature. Appl. Environ. Microbiol., 60(1), pp.204-213. &  1.74134974 &    3.330750 & N\\\\\n",
       "\t4382 & 25 & Lactobaciulus plantarum & MRS & 1 & Zwietering, M.H., De Wit, J.C., Cuppers, H.G.A.M. and Van't Riet, K., 1994. Modeling of bacterial growth with shifts in temperature. Appl. Environ. Microbiol., 60(1), pp.204-213. &  0.74349557 &    2.741410 & N\\\\\n",
       "\t4383 & 25 & Lactobaciulus plantarum & MRS & 1 & Zwietering, M.H., De Wit, J.C., Cuppers, H.G.A.M. and Van't Riet, K., 1994. Modeling of bacterial growth with shifts in temperature. Appl. Environ. Microbiol., 60(1), pp.204-213. &  0.05735537 &    2.447187 & N\\\\\n",
       "\t4384 & 25 & Lactobaciulus plantarum & MRS & 1 & Zwietering, M.H., De Wit, J.C., Cuppers, H.G.A.M. and Van't Riet, K., 1994. Modeling of bacterial growth with shifts in temperature. Appl. Environ. Microbiol., 60(1), pp.204-213. &  2.49260353 &    2.327517 & N\\\\\n",
       "\t4385 & 25 & Lactobaciulus plantarum & MRS & 1 & Zwietering, M.H., De Wit, J.C., Cuppers, H.G.A.M. and Van't Riet, K., 1994. Modeling of bacterial growth with shifts in temperature. Appl. Environ. Microbiol., 60(1), pp.204-213. &  1.74301222 &    2.485061 & N\\\\\n",
       "\t4386 & 25 & Lactobaciulus plantarum & MRS & 1 & Zwietering, M.H., De Wit, J.C., Cuppers, H.G.A.M. and Van't Riet, K., 1994. Modeling of bacterial growth with shifts in temperature. Appl. Environ. Microbiol., 60(1), pp.204-213. &  0.99452923 &    2.182619 & N\\\\\n",
       "\t4387 & 25 & Lactobaciulus plantarum & MRS & 1 & Zwietering, M.H., De Wit, J.C., Cuppers, H.G.A.M. and Van't Riet, K., 1994. Modeling of bacterial growth with shifts in temperature. Appl. Environ. Microbiol., 60(1), pp.204-213. &  2.24156987 &    2.923404 & N\\\\\n",
       "\\end{tabular}\n"
      ],
      "text/markdown": [
       "\n",
       "A data.frame: 4387 × 8\n",
       "\n",
       "| <!--/--> | Temp.C &lt;int&gt; | clade &lt;chr&gt; | substrate &lt;chr&gt; | replicate &lt;int&gt; | SourceRef &lt;chr&gt; | Time.hr &lt;dbl&gt; | Popn_Change &lt;dbl&gt; | Popn_DataUnit &lt;chr&gt; |\n",
       "|---|---|---|---|---|---|---|---|---|\n",
       "| 235 | 5 | Acinetobacter clacoaceticus | TSB | 1 | Bae, Y.M., Zheng, L., Hyun, J.E., Jung, K.S., Heu, S. and Lee, S.Y., 2014. Growth characteristics and biofilm formation of various spoilage bacteria isolated from fresh produce. Journal of food science, 79(10), pp.M2072-M2080. | 6.718053e+02 | 0.11788856 | OD_595 |\n",
       "| 236 | 5 | Acinetobacter clacoaceticus | TSB | 1 | Bae, Y.M., Zheng, L., Hyun, J.E., Jung, K.S., Heu, S. and Lee, S.Y., 2014. Growth characteristics and biofilm formation of various spoilage bacteria isolated from fresh produce. Journal of food science, 79(10), pp.M2072-M2080. | 6.474645e+02 | 0.11964809 | OD_595 |\n",
       "| 237 | 5 | Acinetobacter clacoaceticus | TSB | 1 | Bae, Y.M., Zheng, L., Hyun, J.E., Jung, K.S., Heu, S. and Lee, S.Y., 2014. Growth characteristics and biofilm formation of various spoilage bacteria isolated from fresh produce. Journal of food science, 79(10), pp.M2072-M2080. | 6.243408e+02 | 0.11260997 | OD_595 |\n",
       "| 238 | 5 | Acinetobacter clacoaceticus | TSB | 1 | Bae, Y.M., Zheng, L., Hyun, J.E., Jung, K.S., Heu, S. and Lee, S.Y., 2014. Growth characteristics and biofilm formation of various spoilage bacteria isolated from fresh produce. Journal of food science, 79(10), pp.M2072-M2080. | 5.987830e+02 | 0.11612903 | OD_595 |\n",
       "| 239 | 5 | Acinetobacter clacoaceticus | TSB | 1 | Bae, Y.M., Zheng, L., Hyun, J.E., Jung, K.S., Heu, S. and Lee, S.Y., 2014. Growth characteristics and biofilm formation of various spoilage bacteria isolated from fresh produce. Journal of food science, 79(10), pp.M2072-M2080. | 5.756592e+02 | 0.11788856 | OD_595 |\n",
       "| 240 | 5 | Acinetobacter clacoaceticus | TSB | 1 | Bae, Y.M., Zheng, L., Hyun, J.E., Jung, K.S., Heu, S. and Lee, S.Y., 2014. Growth characteristics and biofilm formation of various spoilage bacteria isolated from fresh produce. Journal of food science, 79(10), pp.M2072-M2080. | 5.513185e+02 | 0.11436950 | OD_595 |\n",
       "| 241 | 5 | Acinetobacter clacoaceticus | TSB | 1 | Bae, Y.M., Zheng, L., Hyun, J.E., Jung, K.S., Heu, S. and Lee, S.Y., 2014. Growth characteristics and biofilm formation of various spoilage bacteria isolated from fresh produce. Journal of food science, 79(10), pp.M2072-M2080. | 5.269777e+02 | 0.12140762 | OD_595 |\n",
       "| 242 | 5 | Acinetobacter clacoaceticus | TSB | 1 | Bae, Y.M., Zheng, L., Hyun, J.E., Jung, K.S., Heu, S. and Lee, S.Y., 2014. Growth characteristics and biofilm formation of various spoilage bacteria isolated from fresh produce. Journal of food science, 79(10), pp.M2072-M2080. | 5.038540e+02 | 0.11964809 | OD_595 |\n",
       "| 243 | 5 | Acinetobacter clacoaceticus | TSB | 1 | Bae, Y.M., Zheng, L., Hyun, J.E., Jung, K.S., Heu, S. and Lee, S.Y., 2014. Growth characteristics and biofilm formation of various spoilage bacteria isolated from fresh produce. Journal of food science, 79(10), pp.M2072-M2080. | 4.795132e+02 | 0.12316716 | OD_595 |\n",
       "| 244 | 5 | Acinetobacter clacoaceticus | TSB | 1 | Bae, Y.M., Zheng, L., Hyun, J.E., Jung, K.S., Heu, S. and Lee, S.Y., 2014. Growth characteristics and biofilm formation of various spoilage bacteria isolated from fresh produce. Journal of food science, 79(10), pp.M2072-M2080. | 4.551724e+02 | 0.13020528 | OD_595 |\n",
       "| 245 | 5 | Acinetobacter clacoaceticus | TSB | 1 | Bae, Y.M., Zheng, L., Hyun, J.E., Jung, K.S., Heu, S. and Lee, S.Y., 2014. Growth characteristics and biofilm formation of various spoilage bacteria isolated from fresh produce. Journal of food science, 79(10), pp.M2072-M2080. | 4.320487e+02 | 0.12140762 | OD_595 |\n",
       "| 246 | 5 | Acinetobacter clacoaceticus | TSB | 1 | Bae, Y.M., Zheng, L., Hyun, J.E., Jung, K.S., Heu, S. and Lee, S.Y., 2014. Growth characteristics and biofilm formation of various spoilage bacteria isolated from fresh produce. Journal of food science, 79(10), pp.M2072-M2080. | 4.077079e+02 | 0.10909091 | OD_595 |\n",
       "| 247 | 5 | Acinetobacter clacoaceticus | TSB | 1 | Bae, Y.M., Zheng, L., Hyun, J.E., Jung, K.S., Heu, S. and Lee, S.Y., 2014. Growth characteristics and biofilm formation of various spoilage bacteria isolated from fresh produce. Journal of food science, 79(10), pp.M2072-M2080. | 3.833671e+02 | 0.11085044 | OD_595 |\n",
       "| 248 | 5 | Acinetobacter clacoaceticus | TSB | 1 | Bae, Y.M., Zheng, L., Hyun, J.E., Jung, K.S., Heu, S. and Lee, S.Y., 2014. Growth characteristics and biofilm formation of various spoilage bacteria isolated from fresh produce. Journal of food science, 79(10), pp.M2072-M2080. | 3.602434e+02 | 0.10909091 | OD_595 |\n",
       "| 249 | 5 | Acinetobacter clacoaceticus | TSB | 1 | Bae, Y.M., Zheng, L., Hyun, J.E., Jung, K.S., Heu, S. and Lee, S.Y., 2014. Growth characteristics and biofilm formation of various spoilage bacteria isolated from fresh produce. Journal of food science, 79(10), pp.M2072-M2080. | 3.359026e+02 | 0.10205279 | OD_595 |\n",
       "| 250 | 5 | Acinetobacter clacoaceticus | TSB | 1 | Bae, Y.M., Zheng, L., Hyun, J.E., Jung, K.S., Heu, S. and Lee, S.Y., 2014. Growth characteristics and biofilm formation of various spoilage bacteria isolated from fresh produce. Journal of food science, 79(10), pp.M2072-M2080. | 3.115619e+02 | 0.10557185 | OD_595 |\n",
       "| 251 | 5 | Acinetobacter clacoaceticus | TSB | 1 | Bae, Y.M., Zheng, L., Hyun, J.E., Jung, K.S., Heu, S. and Lee, S.Y., 2014. Growth characteristics and biofilm formation of various spoilage bacteria isolated from fresh produce. Journal of food science, 79(10), pp.M2072-M2080. | 2.884381e+02 | 0.10381232 | OD_595 |\n",
       "| 252 | 5 | Acinetobacter clacoaceticus | TSB | 1 | Bae, Y.M., Zheng, L., Hyun, J.E., Jung, K.S., Heu, S. and Lee, S.Y., 2014. Growth characteristics and biofilm formation of various spoilage bacteria isolated from fresh produce. Journal of food science, 79(10), pp.M2072-M2080. | 2.628803e+02 | 0.09501466 | OD_595 |\n",
       "| 253 | 5 | Acinetobacter clacoaceticus | TSB | 1 | Bae, Y.M., Zheng, L., Hyun, J.E., Jung, K.S., Heu, S. and Lee, S.Y., 2014. Growth characteristics and biofilm formation of various spoilage bacteria isolated from fresh produce. Journal of food science, 79(10), pp.M2072-M2080. | 2.397566e+02 | 0.09325513 | OD_595 |\n",
       "| 254 | 5 | Acinetobacter clacoaceticus | TSB | 1 | Bae, Y.M., Zheng, L., Hyun, J.E., Jung, K.S., Heu, S. and Lee, S.Y., 2014. Growth characteristics and biofilm formation of various spoilage bacteria isolated from fresh produce. Journal of food science, 79(10), pp.M2072-M2080. | 2.154158e+02 | 0.08093842 | OD_595 |\n",
       "| 255 | 5 | Acinetobacter clacoaceticus | TSB | 1 | Bae, Y.M., Zheng, L., Hyun, J.E., Jung, K.S., Heu, S. and Lee, S.Y., 2014. Growth characteristics and biofilm formation of various spoilage bacteria isolated from fresh produce. Journal of food science, 79(10), pp.M2072-M2080. | 1.910751e+02 | 0.07214076 | OD_595 |\n",
       "| 256 | 5 | Acinetobacter clacoaceticus | TSB | 1 | Bae, Y.M., Zheng, L., Hyun, J.E., Jung, K.S., Heu, S. and Lee, S.Y., 2014. Growth characteristics and biofilm formation of various spoilage bacteria isolated from fresh produce. Journal of food science, 79(10), pp.M2072-M2080. | 1.679513e+02 | 0.06334311 | OD_595 |\n",
       "| 257 | 5 | Acinetobacter clacoaceticus | TSB | 1 | Bae, Y.M., Zheng, L., Hyun, J.E., Jung, K.S., Heu, S. and Lee, S.Y., 2014. Growth characteristics and biofilm formation of various spoilage bacteria isolated from fresh produce. Journal of food science, 79(10), pp.M2072-M2080. | 1.436105e+02 | 0.06334311 | OD_595 |\n",
       "| 258 | 5 | Acinetobacter clacoaceticus | TSB | 1 | Bae, Y.M., Zheng, L., Hyun, J.E., Jung, K.S., Heu, S. and Lee, S.Y., 2014. Growth characteristics and biofilm formation of various spoilage bacteria isolated from fresh produce. Journal of food science, 79(10), pp.M2072-M2080. | 1.204868e+02 | 0.05454545 | OD_595 |\n",
       "| 259 | 5 | Acinetobacter clacoaceticus | TSB | 1 | Bae, Y.M., Zheng, L., Hyun, J.E., Jung, K.S., Heu, S. and Lee, S.Y., 2014. Growth characteristics and biofilm formation of various spoilage bacteria isolated from fresh produce. Journal of food science, 79(10), pp.M2072-M2080. | 9.492901e+01 | 0.04222874 | OD_595 |\n",
       "| 260 | 5 | Acinetobacter clacoaceticus | TSB | 1 | Bae, Y.M., Zheng, L., Hyun, J.E., Jung, K.S., Heu, S. and Lee, S.Y., 2014. Growth characteristics and biofilm formation of various spoilage bacteria isolated from fresh produce. Journal of food science, 79(10), pp.M2072-M2080. | 7.180527e+01 | 0.04222874 | OD_595 |\n",
       "| 261 | 5 | Acinetobacter clacoaceticus | TSB | 1 | Bae, Y.M., Zheng, L., Hyun, J.E., Jung, K.S., Heu, S. and Lee, S.Y., 2014. Growth characteristics and biofilm formation of various spoilage bacteria isolated from fresh produce. Journal of food science, 79(10), pp.M2072-M2080. | 4.746450e+01 | 0.03343109 | OD_595 |\n",
       "| 262 | 5 | Acinetobacter clacoaceticus | TSB | 1 | Bae, Y.M., Zheng, L., Hyun, J.E., Jung, K.S., Heu, S. and Lee, S.Y., 2014. Growth characteristics and biofilm formation of various spoilage bacteria isolated from fresh produce. Journal of food science, 79(10), pp.M2072-M2080. | 2.434077e+01 | 0.01935484 | OD_595 |\n",
       "| 263 | 5 | Acinetobacter clacoaceticus | TSB | 1 | Bae, Y.M., Zheng, L., Hyun, J.E., Jung, K.S., Heu, S. and Lee, S.Y., 2014. Growth characteristics and biofilm formation of various spoilage bacteria isolated from fresh produce. Journal of food science, 79(10), pp.M2072-M2080. | 2.273737e-13 | 0.01759531 | OD_595 |\n",
       "| 264 | 5 | Acinetobacter clacoaceticus | TSB | 1 | Bae, Y.M., Zheng, L., Hyun, J.E., Jung, K.S., Heu, S. and Lee, S.Y., 2014. Growth characteristics and biofilm formation of various spoilage bacteria isolated from fresh produce. Journal of food science, 79(10), pp.M2072-M2080. | 6.705882e+02 | 0.10381232 | OD_595 |\n",
       "| ⋮ | ⋮ | ⋮ | ⋮ | ⋮ | ⋮ | ⋮ | ⋮ | ⋮ |\n",
       "| 4358 | 25 | Lactobaciulus plantarum | MRS | 1 | Zwietering, M.H., De Wit, J.C., Cuppers, H.G.A.M. and Van't Riet, K., 1994. Modeling of bacterial growth with shifts in temperature. Appl. Environ. Microbiol., 60(1), pp.204-213. |  8.84473411 |   40.660688 | N |\n",
       "| 4359 | 25 | Lactobaciulus plantarum | MRS | 1 | Zwietering, M.H., De Wit, J.C., Cuppers, H.G.A.M. and Van't Riet, K., 1994. Modeling of bacterial growth with shifts in temperature. Appl. Environ. Microbiol., 60(1), pp.204-213. |  7.97027249 |   43.415860 | N |\n",
       "| 4360 | 25 | Lactobaciulus plantarum | MRS | 1 | Zwietering, M.H., De Wit, J.C., Cuppers, H.G.A.M. and Van't Riet, K., 1994. Modeling of bacterial growth with shifts in temperature. Appl. Environ. Microbiol., 60(1), pp.204-213. |  7.84577162 |   40.682726 | N |\n",
       "| 4361 | 25 | Lactobaciulus plantarum | MRS | 1 | Zwietering, M.H., De Wit, J.C., Cuppers, H.G.A.M. and Van't Riet, K., 1994. Modeling of bacterial growth with shifts in temperature. Appl. Environ. Microbiol., 60(1), pp.204-213. |  7.97156553 |   34.570940 | N |\n",
       "| 4362 | 25 | Lactobaciulus plantarum | MRS | 1 | Zwietering, M.H., De Wit, J.C., Cuppers, H.G.A.M. and Van't Riet, K., 1994. Modeling of bacterial growth with shifts in temperature. Appl. Environ. Microbiol., 60(1), pp.204-213. |  6.91062968 |   31.887943 | N |\n",
       "| 4363 | 25 | Lactobaciulus plantarum | MRS | 1 | Zwietering, M.H., De Wit, J.C., Cuppers, H.G.A.M. and Van't Riet, K., 1994. Modeling of bacterial growth with shifts in temperature. Appl. Environ. Microbiol., 60(1), pp.204-213. | 21.92730060 | 6471.018166 | N |\n",
       "| 4364 | 25 | Lactobaciulus plantarum | MRS | 1 | Zwietering, M.H., De Wit, J.C., Cuppers, H.G.A.M. and Van't Riet, K., 1994. Modeling of bacterial growth with shifts in temperature. Appl. Environ. Microbiol., 60(1), pp.204-213. |  5.91203662 |   29.894689 | N |\n",
       "| 4365 | 25 | Lactobaciulus plantarum | MRS | 1 | Zwietering, M.H., De Wit, J.C., Cuppers, H.G.A.M. and Van't Riet, K., 1994. Modeling of bacterial growth with shifts in temperature. Appl. Environ. Microbiol., 60(1), pp.204-213. |  5.97622661 |   21.943576 | N |\n",
       "| 4366 | 25 | Lactobaciulus plantarum | MRS | 1 | Zwietering, M.H., De Wit, J.C., Cuppers, H.G.A.M. and Van't Riet, K., 1994. Modeling of bacterial growth with shifts in temperature. Appl. Environ. Microbiol., 60(1), pp.204-213. |  6.91173799 |   26.231503 | N |\n",
       "| 4367 | 25 | Lactobaciulus plantarum | MRS | 1 | Zwietering, M.H., De Wit, J.C., Cuppers, H.G.A.M. and Van't Riet, K., 1994. Modeling of bacterial growth with shifts in temperature. Appl. Environ. Microbiol., 60(1), pp.204-213. |  6.97537383 |   21.229423 | N |\n",
       "| 4368 | 25 | Lactobaciulus plantarum | MRS | 1 | Zwietering, M.H., De Wit, J.C., Cuppers, H.G.A.M. and Van't Riet, K., 1994. Modeling of bacterial growth with shifts in temperature. Appl. Environ. Microbiol., 60(1), pp.204-213. |  6.97537383 |   21.229423 | N |\n",
       "| 4369 | 25 | Lactobaciulus plantarum | MRS | 1 | Zwietering, M.H., De Wit, J.C., Cuppers, H.G.A.M. and Van't Riet, K., 1994. Modeling of bacterial growth with shifts in temperature. Appl. Environ. Microbiol., 60(1), pp.204-213. |  5.97770437 |   16.913610 | N |\n",
       "| 4370 | 25 | Lactobaciulus plantarum | MRS | 1 | Zwietering, M.H., De Wit, J.C., Cuppers, H.G.A.M. and Van't Riet, K., 1994. Modeling of bacterial growth with shifts in temperature. Appl. Environ. Microbiol., 60(1), pp.204-213. |  5.97973628 |   11.823976 | N |\n",
       "| 4371 | 25 | Lactobaciulus plantarum | MRS | 1 | Zwietering, M.H., De Wit, J.C., Cuppers, H.G.A.M. and Van't Riet, K., 1994. Modeling of bacterial growth with shifts in temperature. Appl. Environ. Microbiol., 60(1), pp.204-213. |  4.85664236 |   10.387062 | N |\n",
       "| 4372 | 25 | Lactobaciulus plantarum | MRS | 1 | Zwietering, M.H., De Wit, J.C., Cuppers, H.G.A.M. and Van't Riet, K., 1994. Modeling of bacterial growth with shifts in temperature. Appl. Environ. Microbiol., 60(1), pp.204-213. |  4.98225154 |    9.118591 | N |\n",
       "| 4373 | 25 | Lactobaciulus plantarum | MRS | 1 | Zwietering, M.H., De Wit, J.C., Cuppers, H.G.A.M. and Van't Riet, K., 1994. Modeling of bacterial growth with shifts in temperature. Appl. Environ. Microbiol., 60(1), pp.204-213. |  4.98317514 |    7.749226 | N |\n",
       "| 4374 | 25 | Lactobaciulus plantarum | MRS | 1 | Zwietering, M.H., De Wit, J.C., Cuppers, H.G.A.M. and Van't Riet, K., 1994. Modeling of bacterial growth with shifts in temperature. Appl. Environ. Microbiol., 60(1), pp.204-213. |  4.98409874 |    6.585502 | N |\n",
       "| 4375 | 25 | Lactobaciulus plantarum | MRS | 1 | Zwietering, M.H., De Wit, J.C., Cuppers, H.G.A.M. and Van't Riet, K., 1994. Modeling of bacterial growth with shifts in temperature. Appl. Environ. Microbiol., 60(1), pp.204-213. |  3.98495153 |    6.807037 | N |\n",
       "| 4376 | 25 | Lactobaciulus plantarum | MRS | 1 | Zwietering, M.H., De Wit, J.C., Cuppers, H.G.A.M. and Van't Riet, K., 1994. Modeling of bacterial growth with shifts in temperature. Appl. Environ. Microbiol., 60(1), pp.204-213. |  3.98587512 |    5.784804 | N |\n",
       "| 4377 | 25 | Lactobaciulus plantarum | MRS | 1 | Zwietering, M.H., De Wit, J.C., Cuppers, H.G.A.M. and Van't Riet, K., 1994. Modeling of bacterial growth with shifts in temperature. Appl. Environ. Microbiol., 60(1), pp.204-213. |  2.86352007 |    4.461514 | N |\n",
       "| 4378 | 25 | Lactobaciulus plantarum | MRS | 1 | Zwietering, M.H., De Wit, J.C., Cuppers, H.G.A.M. and Van't Riet, K., 1994. Modeling of bacterial growth with shifts in temperature. Appl. Environ. Microbiol., 60(1), pp.204-213. |  3.98679872 |    4.916083 | N |\n",
       "| 4379 | 25 | Lactobaciulus plantarum | MRS | 1 | Zwietering, M.H., De Wit, J.C., Cuppers, H.G.A.M. and Van't Riet, K., 1994. Modeling of bacterial growth with shifts in temperature. Appl. Environ. Microbiol., 60(1), pp.204-213. |  3.98772232 |    4.177820 | N |\n",
       "| 4380 | 25 | Lactobaciulus plantarum | MRS | 1 | Zwietering, M.H., De Wit, J.C., Cuppers, H.G.A.M. and Van't Riet, K., 1994. Modeling of bacterial growth with shifts in temperature. Appl. Environ. Microbiol., 60(1), pp.204-213. |  2.98949870 |    3.669860 | N |\n",
       "| 4381 | 25 | Lactobaciulus plantarum | MRS | 1 | Zwietering, M.H., De Wit, J.C., Cuppers, H.G.A.M. and Van't Riet, K., 1994. Modeling of bacterial growth with shifts in temperature. Appl. Environ. Microbiol., 60(1), pp.204-213. |  1.74134974 |    3.330750 | N |\n",
       "| 4382 | 25 | Lactobaciulus plantarum | MRS | 1 | Zwietering, M.H., De Wit, J.C., Cuppers, H.G.A.M. and Van't Riet, K., 1994. Modeling of bacterial growth with shifts in temperature. Appl. Environ. Microbiol., 60(1), pp.204-213. |  0.74349557 |    2.741410 | N |\n",
       "| 4383 | 25 | Lactobaciulus plantarum | MRS | 1 | Zwietering, M.H., De Wit, J.C., Cuppers, H.G.A.M. and Van't Riet, K., 1994. Modeling of bacterial growth with shifts in temperature. Appl. Environ. Microbiol., 60(1), pp.204-213. |  0.05735537 |    2.447187 | N |\n",
       "| 4384 | 25 | Lactobaciulus plantarum | MRS | 1 | Zwietering, M.H., De Wit, J.C., Cuppers, H.G.A.M. and Van't Riet, K., 1994. Modeling of bacterial growth with shifts in temperature. Appl. Environ. Microbiol., 60(1), pp.204-213. |  2.49260353 |    2.327517 | N |\n",
       "| 4385 | 25 | Lactobaciulus plantarum | MRS | 1 | Zwietering, M.H., De Wit, J.C., Cuppers, H.G.A.M. and Van't Riet, K., 1994. Modeling of bacterial growth with shifts in temperature. Appl. Environ. Microbiol., 60(1), pp.204-213. |  1.74301222 |    2.485061 | N |\n",
       "| 4386 | 25 | Lactobaciulus plantarum | MRS | 1 | Zwietering, M.H., De Wit, J.C., Cuppers, H.G.A.M. and Van't Riet, K., 1994. Modeling of bacterial growth with shifts in temperature. Appl. Environ. Microbiol., 60(1), pp.204-213. |  0.99452923 |    2.182619 | N |\n",
       "| 4387 | 25 | Lactobaciulus plantarum | MRS | 1 | Zwietering, M.H., De Wit, J.C., Cuppers, H.G.A.M. and Van't Riet, K., 1994. Modeling of bacterial growth with shifts in temperature. Appl. Environ. Microbiol., 60(1), pp.204-213. |  2.24156987 |    2.923404 | N |\n",
       "\n"
      ],
      "text/plain": [
       "     Temp.C clade                       substrate replicate\n",
       "235  5      Acinetobacter clacoaceticus TSB       1        \n",
       "236  5      Acinetobacter clacoaceticus TSB       1        \n",
       "237  5      Acinetobacter clacoaceticus TSB       1        \n",
       "238  5      Acinetobacter clacoaceticus TSB       1        \n",
       "239  5      Acinetobacter clacoaceticus TSB       1        \n",
       "240  5      Acinetobacter clacoaceticus TSB       1        \n",
       "241  5      Acinetobacter clacoaceticus TSB       1        \n",
       "242  5      Acinetobacter clacoaceticus TSB       1        \n",
       "243  5      Acinetobacter clacoaceticus TSB       1        \n",
       "244  5      Acinetobacter clacoaceticus TSB       1        \n",
       "245  5      Acinetobacter clacoaceticus TSB       1        \n",
       "246  5      Acinetobacter clacoaceticus TSB       1        \n",
       "247  5      Acinetobacter clacoaceticus TSB       1        \n",
       "248  5      Acinetobacter clacoaceticus TSB       1        \n",
       "249  5      Acinetobacter clacoaceticus TSB       1        \n",
       "250  5      Acinetobacter clacoaceticus TSB       1        \n",
       "251  5      Acinetobacter clacoaceticus TSB       1        \n",
       "252  5      Acinetobacter clacoaceticus TSB       1        \n",
       "253  5      Acinetobacter clacoaceticus TSB       1        \n",
       "254  5      Acinetobacter clacoaceticus TSB       1        \n",
       "255  5      Acinetobacter clacoaceticus TSB       1        \n",
       "256  5      Acinetobacter clacoaceticus TSB       1        \n",
       "257  5      Acinetobacter clacoaceticus TSB       1        \n",
       "258  5      Acinetobacter clacoaceticus TSB       1        \n",
       "259  5      Acinetobacter clacoaceticus TSB       1        \n",
       "260  5      Acinetobacter clacoaceticus TSB       1        \n",
       "261  5      Acinetobacter clacoaceticus TSB       1        \n",
       "262  5      Acinetobacter clacoaceticus TSB       1        \n",
       "263  5      Acinetobacter clacoaceticus TSB       1        \n",
       "264  5      Acinetobacter clacoaceticus TSB       1        \n",
       "⋮    ⋮      ⋮                           ⋮         ⋮        \n",
       "4358 25     Lactobaciulus plantarum     MRS       1        \n",
       "4359 25     Lactobaciulus plantarum     MRS       1        \n",
       "4360 25     Lactobaciulus plantarum     MRS       1        \n",
       "4361 25     Lactobaciulus plantarum     MRS       1        \n",
       "4362 25     Lactobaciulus plantarum     MRS       1        \n",
       "4363 25     Lactobaciulus plantarum     MRS       1        \n",
       "4364 25     Lactobaciulus plantarum     MRS       1        \n",
       "4365 25     Lactobaciulus plantarum     MRS       1        \n",
       "4366 25     Lactobaciulus plantarum     MRS       1        \n",
       "4367 25     Lactobaciulus plantarum     MRS       1        \n",
       "4368 25     Lactobaciulus plantarum     MRS       1        \n",
       "4369 25     Lactobaciulus plantarum     MRS       1        \n",
       "4370 25     Lactobaciulus plantarum     MRS       1        \n",
       "4371 25     Lactobaciulus plantarum     MRS       1        \n",
       "4372 25     Lactobaciulus plantarum     MRS       1        \n",
       "4373 25     Lactobaciulus plantarum     MRS       1        \n",
       "4374 25     Lactobaciulus plantarum     MRS       1        \n",
       "4375 25     Lactobaciulus plantarum     MRS       1        \n",
       "4376 25     Lactobaciulus plantarum     MRS       1        \n",
       "4377 25     Lactobaciulus plantarum     MRS       1        \n",
       "4378 25     Lactobaciulus plantarum     MRS       1        \n",
       "4379 25     Lactobaciulus plantarum     MRS       1        \n",
       "4380 25     Lactobaciulus plantarum     MRS       1        \n",
       "4381 25     Lactobaciulus plantarum     MRS       1        \n",
       "4382 25     Lactobaciulus plantarum     MRS       1        \n",
       "4383 25     Lactobaciulus plantarum     MRS       1        \n",
       "4384 25     Lactobaciulus plantarum     MRS       1        \n",
       "4385 25     Lactobaciulus plantarum     MRS       1        \n",
       "4386 25     Lactobaciulus plantarum     MRS       1        \n",
       "4387 25     Lactobaciulus plantarum     MRS       1        \n",
       "     SourceRef                                                                                                                                                                                                                         \n",
       "235  Bae, Y.M., Zheng, L., Hyun, J.E., Jung, K.S., Heu, S. and Lee, S.Y., 2014. Growth characteristics and biofilm formation of various spoilage bacteria isolated from fresh produce. Journal of food science, 79(10), pp.M2072-M2080.\n",
       "236  Bae, Y.M., Zheng, L., Hyun, J.E., Jung, K.S., Heu, S. and Lee, S.Y., 2014. Growth characteristics and biofilm formation of various spoilage bacteria isolated from fresh produce. Journal of food science, 79(10), pp.M2072-M2080.\n",
       "237  Bae, Y.M., Zheng, L., Hyun, J.E., Jung, K.S., Heu, S. and Lee, S.Y., 2014. Growth characteristics and biofilm formation of various spoilage bacteria isolated from fresh produce. Journal of food science, 79(10), pp.M2072-M2080.\n",
       "238  Bae, Y.M., Zheng, L., Hyun, J.E., Jung, K.S., Heu, S. and Lee, S.Y., 2014. Growth characteristics and biofilm formation of various spoilage bacteria isolated from fresh produce. Journal of food science, 79(10), pp.M2072-M2080.\n",
       "239  Bae, Y.M., Zheng, L., Hyun, J.E., Jung, K.S., Heu, S. and Lee, S.Y., 2014. Growth characteristics and biofilm formation of various spoilage bacteria isolated from fresh produce. Journal of food science, 79(10), pp.M2072-M2080.\n",
       "240  Bae, Y.M., Zheng, L., Hyun, J.E., Jung, K.S., Heu, S. and Lee, S.Y., 2014. Growth characteristics and biofilm formation of various spoilage bacteria isolated from fresh produce. Journal of food science, 79(10), pp.M2072-M2080.\n",
       "241  Bae, Y.M., Zheng, L., Hyun, J.E., Jung, K.S., Heu, S. and Lee, S.Y., 2014. Growth characteristics and biofilm formation of various spoilage bacteria isolated from fresh produce. Journal of food science, 79(10), pp.M2072-M2080.\n",
       "242  Bae, Y.M., Zheng, L., Hyun, J.E., Jung, K.S., Heu, S. and Lee, S.Y., 2014. Growth characteristics and biofilm formation of various spoilage bacteria isolated from fresh produce. Journal of food science, 79(10), pp.M2072-M2080.\n",
       "243  Bae, Y.M., Zheng, L., Hyun, J.E., Jung, K.S., Heu, S. and Lee, S.Y., 2014. Growth characteristics and biofilm formation of various spoilage bacteria isolated from fresh produce. Journal of food science, 79(10), pp.M2072-M2080.\n",
       "244  Bae, Y.M., Zheng, L., Hyun, J.E., Jung, K.S., Heu, S. and Lee, S.Y., 2014. Growth characteristics and biofilm formation of various spoilage bacteria isolated from fresh produce. Journal of food science, 79(10), pp.M2072-M2080.\n",
       "245  Bae, Y.M., Zheng, L., Hyun, J.E., Jung, K.S., Heu, S. and Lee, S.Y., 2014. Growth characteristics and biofilm formation of various spoilage bacteria isolated from fresh produce. Journal of food science, 79(10), pp.M2072-M2080.\n",
       "246  Bae, Y.M., Zheng, L., Hyun, J.E., Jung, K.S., Heu, S. and Lee, S.Y., 2014. Growth characteristics and biofilm formation of various spoilage bacteria isolated from fresh produce. Journal of food science, 79(10), pp.M2072-M2080.\n",
       "247  Bae, Y.M., Zheng, L., Hyun, J.E., Jung, K.S., Heu, S. and Lee, S.Y., 2014. Growth characteristics and biofilm formation of various spoilage bacteria isolated from fresh produce. Journal of food science, 79(10), pp.M2072-M2080.\n",
       "248  Bae, Y.M., Zheng, L., Hyun, J.E., Jung, K.S., Heu, S. and Lee, S.Y., 2014. Growth characteristics and biofilm formation of various spoilage bacteria isolated from fresh produce. Journal of food science, 79(10), pp.M2072-M2080.\n",
       "249  Bae, Y.M., Zheng, L., Hyun, J.E., Jung, K.S., Heu, S. and Lee, S.Y., 2014. Growth characteristics and biofilm formation of various spoilage bacteria isolated from fresh produce. Journal of food science, 79(10), pp.M2072-M2080.\n",
       "250  Bae, Y.M., Zheng, L., Hyun, J.E., Jung, K.S., Heu, S. and Lee, S.Y., 2014. Growth characteristics and biofilm formation of various spoilage bacteria isolated from fresh produce. Journal of food science, 79(10), pp.M2072-M2080.\n",
       "251  Bae, Y.M., Zheng, L., Hyun, J.E., Jung, K.S., Heu, S. and Lee, S.Y., 2014. Growth characteristics and biofilm formation of various spoilage bacteria isolated from fresh produce. Journal of food science, 79(10), pp.M2072-M2080.\n",
       "252  Bae, Y.M., Zheng, L., Hyun, J.E., Jung, K.S., Heu, S. and Lee, S.Y., 2014. Growth characteristics and biofilm formation of various spoilage bacteria isolated from fresh produce. Journal of food science, 79(10), pp.M2072-M2080.\n",
       "253  Bae, Y.M., Zheng, L., Hyun, J.E., Jung, K.S., Heu, S. and Lee, S.Y., 2014. Growth characteristics and biofilm formation of various spoilage bacteria isolated from fresh produce. Journal of food science, 79(10), pp.M2072-M2080.\n",
       "254  Bae, Y.M., Zheng, L., Hyun, J.E., Jung, K.S., Heu, S. and Lee, S.Y., 2014. Growth characteristics and biofilm formation of various spoilage bacteria isolated from fresh produce. Journal of food science, 79(10), pp.M2072-M2080.\n",
       "255  Bae, Y.M., Zheng, L., Hyun, J.E., Jung, K.S., Heu, S. and Lee, S.Y., 2014. Growth characteristics and biofilm formation of various spoilage bacteria isolated from fresh produce. Journal of food science, 79(10), pp.M2072-M2080.\n",
       "256  Bae, Y.M., Zheng, L., Hyun, J.E., Jung, K.S., Heu, S. and Lee, S.Y., 2014. Growth characteristics and biofilm formation of various spoilage bacteria isolated from fresh produce. Journal of food science, 79(10), pp.M2072-M2080.\n",
       "257  Bae, Y.M., Zheng, L., Hyun, J.E., Jung, K.S., Heu, S. and Lee, S.Y., 2014. Growth characteristics and biofilm formation of various spoilage bacteria isolated from fresh produce. Journal of food science, 79(10), pp.M2072-M2080.\n",
       "258  Bae, Y.M., Zheng, L., Hyun, J.E., Jung, K.S., Heu, S. and Lee, S.Y., 2014. Growth characteristics and biofilm formation of various spoilage bacteria isolated from fresh produce. Journal of food science, 79(10), pp.M2072-M2080.\n",
       "259  Bae, Y.M., Zheng, L., Hyun, J.E., Jung, K.S., Heu, S. and Lee, S.Y., 2014. Growth characteristics and biofilm formation of various spoilage bacteria isolated from fresh produce. Journal of food science, 79(10), pp.M2072-M2080.\n",
       "260  Bae, Y.M., Zheng, L., Hyun, J.E., Jung, K.S., Heu, S. and Lee, S.Y., 2014. Growth characteristics and biofilm formation of various spoilage bacteria isolated from fresh produce. Journal of food science, 79(10), pp.M2072-M2080.\n",
       "261  Bae, Y.M., Zheng, L., Hyun, J.E., Jung, K.S., Heu, S. and Lee, S.Y., 2014. Growth characteristics and biofilm formation of various spoilage bacteria isolated from fresh produce. Journal of food science, 79(10), pp.M2072-M2080.\n",
       "262  Bae, Y.M., Zheng, L., Hyun, J.E., Jung, K.S., Heu, S. and Lee, S.Y., 2014. Growth characteristics and biofilm formation of various spoilage bacteria isolated from fresh produce. Journal of food science, 79(10), pp.M2072-M2080.\n",
       "263  Bae, Y.M., Zheng, L., Hyun, J.E., Jung, K.S., Heu, S. and Lee, S.Y., 2014. Growth characteristics and biofilm formation of various spoilage bacteria isolated from fresh produce. Journal of food science, 79(10), pp.M2072-M2080.\n",
       "264  Bae, Y.M., Zheng, L., Hyun, J.E., Jung, K.S., Heu, S. and Lee, S.Y., 2014. Growth characteristics and biofilm formation of various spoilage bacteria isolated from fresh produce. Journal of food science, 79(10), pp.M2072-M2080.\n",
       "⋮    ⋮                                                                                                                                                                                                                                 \n",
       "4358 Zwietering, M.H., De Wit, J.C., Cuppers, H.G.A.M. and Van't Riet, K., 1994. Modeling of bacterial growth with shifts in temperature. Appl. Environ. Microbiol., 60(1), pp.204-213.                                                \n",
       "4359 Zwietering, M.H., De Wit, J.C., Cuppers, H.G.A.M. and Van't Riet, K., 1994. Modeling of bacterial growth with shifts in temperature. Appl. Environ. Microbiol., 60(1), pp.204-213.                                                \n",
       "4360 Zwietering, M.H., De Wit, J.C., Cuppers, H.G.A.M. and Van't Riet, K., 1994. Modeling of bacterial growth with shifts in temperature. Appl. Environ. Microbiol., 60(1), pp.204-213.                                                \n",
       "4361 Zwietering, M.H., De Wit, J.C., Cuppers, H.G.A.M. and Van't Riet, K., 1994. Modeling of bacterial growth with shifts in temperature. Appl. Environ. Microbiol., 60(1), pp.204-213.                                                \n",
       "4362 Zwietering, M.H., De Wit, J.C., Cuppers, H.G.A.M. and Van't Riet, K., 1994. Modeling of bacterial growth with shifts in temperature. Appl. Environ. Microbiol., 60(1), pp.204-213.                                                \n",
       "4363 Zwietering, M.H., De Wit, J.C., Cuppers, H.G.A.M. and Van't Riet, K., 1994. Modeling of bacterial growth with shifts in temperature. Appl. Environ. Microbiol., 60(1), pp.204-213.                                                \n",
       "4364 Zwietering, M.H., De Wit, J.C., Cuppers, H.G.A.M. and Van't Riet, K., 1994. Modeling of bacterial growth with shifts in temperature. Appl. Environ. Microbiol., 60(1), pp.204-213.                                                \n",
       "4365 Zwietering, M.H., De Wit, J.C., Cuppers, H.G.A.M. and Van't Riet, K., 1994. Modeling of bacterial growth with shifts in temperature. Appl. Environ. Microbiol., 60(1), pp.204-213.                                                \n",
       "4366 Zwietering, M.H., De Wit, J.C., Cuppers, H.G.A.M. and Van't Riet, K., 1994. Modeling of bacterial growth with shifts in temperature. Appl. Environ. Microbiol., 60(1), pp.204-213.                                                \n",
       "4367 Zwietering, M.H., De Wit, J.C., Cuppers, H.G.A.M. and Van't Riet, K., 1994. Modeling of bacterial growth with shifts in temperature. Appl. Environ. Microbiol., 60(1), pp.204-213.                                                \n",
       "4368 Zwietering, M.H., De Wit, J.C., Cuppers, H.G.A.M. and Van't Riet, K., 1994. Modeling of bacterial growth with shifts in temperature. Appl. Environ. Microbiol., 60(1), pp.204-213.                                                \n",
       "4369 Zwietering, M.H., De Wit, J.C., Cuppers, H.G.A.M. and Van't Riet, K., 1994. Modeling of bacterial growth with shifts in temperature. Appl. Environ. Microbiol., 60(1), pp.204-213.                                                \n",
       "4370 Zwietering, M.H., De Wit, J.C., Cuppers, H.G.A.M. and Van't Riet, K., 1994. Modeling of bacterial growth with shifts in temperature. Appl. Environ. Microbiol., 60(1), pp.204-213.                                                \n",
       "4371 Zwietering, M.H., De Wit, J.C., Cuppers, H.G.A.M. and Van't Riet, K., 1994. Modeling of bacterial growth with shifts in temperature. Appl. Environ. Microbiol., 60(1), pp.204-213.                                                \n",
       "4372 Zwietering, M.H., De Wit, J.C., Cuppers, H.G.A.M. and Van't Riet, K., 1994. Modeling of bacterial growth with shifts in temperature. Appl. Environ. Microbiol., 60(1), pp.204-213.                                                \n",
       "4373 Zwietering, M.H., De Wit, J.C., Cuppers, H.G.A.M. and Van't Riet, K., 1994. Modeling of bacterial growth with shifts in temperature. Appl. Environ. Microbiol., 60(1), pp.204-213.                                                \n",
       "4374 Zwietering, M.H., De Wit, J.C., Cuppers, H.G.A.M. and Van't Riet, K., 1994. Modeling of bacterial growth with shifts in temperature. Appl. Environ. Microbiol., 60(1), pp.204-213.                                                \n",
       "4375 Zwietering, M.H., De Wit, J.C., Cuppers, H.G.A.M. and Van't Riet, K., 1994. Modeling of bacterial growth with shifts in temperature. Appl. Environ. Microbiol., 60(1), pp.204-213.                                                \n",
       "4376 Zwietering, M.H., De Wit, J.C., Cuppers, H.G.A.M. and Van't Riet, K., 1994. Modeling of bacterial growth with shifts in temperature. Appl. Environ. Microbiol., 60(1), pp.204-213.                                                \n",
       "4377 Zwietering, M.H., De Wit, J.C., Cuppers, H.G.A.M. and Van't Riet, K., 1994. Modeling of bacterial growth with shifts in temperature. Appl. Environ. Microbiol., 60(1), pp.204-213.                                                \n",
       "4378 Zwietering, M.H., De Wit, J.C., Cuppers, H.G.A.M. and Van't Riet, K., 1994. Modeling of bacterial growth with shifts in temperature. Appl. Environ. Microbiol., 60(1), pp.204-213.                                                \n",
       "4379 Zwietering, M.H., De Wit, J.C., Cuppers, H.G.A.M. and Van't Riet, K., 1994. Modeling of bacterial growth with shifts in temperature. Appl. Environ. Microbiol., 60(1), pp.204-213.                                                \n",
       "4380 Zwietering, M.H., De Wit, J.C., Cuppers, H.G.A.M. and Van't Riet, K., 1994. Modeling of bacterial growth with shifts in temperature. Appl. Environ. Microbiol., 60(1), pp.204-213.                                                \n",
       "4381 Zwietering, M.H., De Wit, J.C., Cuppers, H.G.A.M. and Van't Riet, K., 1994. Modeling of bacterial growth with shifts in temperature. Appl. Environ. Microbiol., 60(1), pp.204-213.                                                \n",
       "4382 Zwietering, M.H., De Wit, J.C., Cuppers, H.G.A.M. and Van't Riet, K., 1994. Modeling of bacterial growth with shifts in temperature. Appl. Environ. Microbiol., 60(1), pp.204-213.                                                \n",
       "4383 Zwietering, M.H., De Wit, J.C., Cuppers, H.G.A.M. and Van't Riet, K., 1994. Modeling of bacterial growth with shifts in temperature. Appl. Environ. Microbiol., 60(1), pp.204-213.                                                \n",
       "4384 Zwietering, M.H., De Wit, J.C., Cuppers, H.G.A.M. and Van't Riet, K., 1994. Modeling of bacterial growth with shifts in temperature. Appl. Environ. Microbiol., 60(1), pp.204-213.                                                \n",
       "4385 Zwietering, M.H., De Wit, J.C., Cuppers, H.G.A.M. and Van't Riet, K., 1994. Modeling of bacterial growth with shifts in temperature. Appl. Environ. Microbiol., 60(1), pp.204-213.                                                \n",
       "4386 Zwietering, M.H., De Wit, J.C., Cuppers, H.G.A.M. and Van't Riet, K., 1994. Modeling of bacterial growth with shifts in temperature. Appl. Environ. Microbiol., 60(1), pp.204-213.                                                \n",
       "4387 Zwietering, M.H., De Wit, J.C., Cuppers, H.G.A.M. and Van't Riet, K., 1994. Modeling of bacterial growth with shifts in temperature. Appl. Environ. Microbiol., 60(1), pp.204-213.                                                \n",
       "     Time.hr      Popn_Change Popn_DataUnit\n",
       "235  6.718053e+02 0.11788856  OD_595       \n",
       "236  6.474645e+02 0.11964809  OD_595       \n",
       "237  6.243408e+02 0.11260997  OD_595       \n",
       "238  5.987830e+02 0.11612903  OD_595       \n",
       "239  5.756592e+02 0.11788856  OD_595       \n",
       "240  5.513185e+02 0.11436950  OD_595       \n",
       "241  5.269777e+02 0.12140762  OD_595       \n",
       "242  5.038540e+02 0.11964809  OD_595       \n",
       "243  4.795132e+02 0.12316716  OD_595       \n",
       "244  4.551724e+02 0.13020528  OD_595       \n",
       "245  4.320487e+02 0.12140762  OD_595       \n",
       "246  4.077079e+02 0.10909091  OD_595       \n",
       "247  3.833671e+02 0.11085044  OD_595       \n",
       "248  3.602434e+02 0.10909091  OD_595       \n",
       "249  3.359026e+02 0.10205279  OD_595       \n",
       "250  3.115619e+02 0.10557185  OD_595       \n",
       "251  2.884381e+02 0.10381232  OD_595       \n",
       "252  2.628803e+02 0.09501466  OD_595       \n",
       "253  2.397566e+02 0.09325513  OD_595       \n",
       "254  2.154158e+02 0.08093842  OD_595       \n",
       "255  1.910751e+02 0.07214076  OD_595       \n",
       "256  1.679513e+02 0.06334311  OD_595       \n",
       "257  1.436105e+02 0.06334311  OD_595       \n",
       "258  1.204868e+02 0.05454545  OD_595       \n",
       "259  9.492901e+01 0.04222874  OD_595       \n",
       "260  7.180527e+01 0.04222874  OD_595       \n",
       "261  4.746450e+01 0.03343109  OD_595       \n",
       "262  2.434077e+01 0.01935484  OD_595       \n",
       "263  2.273737e-13 0.01759531  OD_595       \n",
       "264  6.705882e+02 0.10381232  OD_595       \n",
       "⋮    ⋮            ⋮           ⋮            \n",
       "4358  8.84473411    40.660688 N            \n",
       "4359  7.97027249    43.415860 N            \n",
       "4360  7.84577162    40.682726 N            \n",
       "4361  7.97156553    34.570940 N            \n",
       "4362  6.91062968    31.887943 N            \n",
       "4363 21.92730060  6471.018166 N            \n",
       "4364  5.91203662    29.894689 N            \n",
       "4365  5.97622661    21.943576 N            \n",
       "4366  6.91173799    26.231503 N            \n",
       "4367  6.97537383    21.229423 N            \n",
       "4368  6.97537383    21.229423 N            \n",
       "4369  5.97770437    16.913610 N            \n",
       "4370  5.97973628    11.823976 N            \n",
       "4371  4.85664236    10.387062 N            \n",
       "4372  4.98225154     9.118591 N            \n",
       "4373  4.98317514     7.749226 N            \n",
       "4374  4.98409874     6.585502 N            \n",
       "4375  3.98495153     6.807037 N            \n",
       "4376  3.98587512     5.784804 N            \n",
       "4377  2.86352007     4.461514 N            \n",
       "4378  3.98679872     4.916083 N            \n",
       "4379  3.98772232     4.177820 N            \n",
       "4380  2.98949870     3.669860 N            \n",
       "4381  1.74134974     3.330750 N            \n",
       "4382  0.74349557     2.741410 N            \n",
       "4383  0.05735537     2.447187 N            \n",
       "4384  2.49260353     2.327517 N            \n",
       "4385  1.74301222     2.485061 N            \n",
       "4386  0.99452923     2.182619 N            \n",
       "4387  2.24156987     2.923404 N            "
      ]
     },
     "metadata": {},
     "output_type": "display_data"
    }
   ],
   "source": [
    "cat(\"R Combine filtering result\\n\")\n",
    "a.0<-as.data.frame(matrix(nrow=0, ncol = dim(a)[1]))\n",
    "  for(i in 1:p.recL){ ## further select for subset with largest data points\n",
    "    for(j in (p.recL):dim(p.rec)[1]){\n",
    "      p.7<-a[which(a$Popn_DataUnit==a.DU.lv[p.rec[j,1]] &\n",
    "                     a$Temp.C==a.Tp.lv[p.rec[i,2]] &\n",
    "                     a$clade==a.cd.lv[p.rec[j,3]] &\n",
    "                     a$substrate==a.ss.lv[p.rec[i,4]] &\n",
    "                     a$replicate==a.rp.lv[p.rec[j,5]] &\n",
    "                     a$SourceRef==a.ct.lv[p.rec[i,6]]),]\n",
    "#      if(dim(p.7)[1] > dim(a.0)[1]){a.0<-p.7}\n",
    "      if(dim(p.7)[1] > 3){a.0<-rbind(a.0,p.7)} ## max parameters + 1\n",
    "    }\n",
    "  };rm(i,j)\n",
    "  rm(list=ls(pattern=\"p.|.lv\"))\n",
    "a.0"
   ]
  },
  {
   "cell_type": "raw",
   "metadata": {
    "ExecuteTime": {
     "end_time": "2019-11-18T11:37:15.623943Z",
     "start_time": "2019-11-18T11:37:10.029Z"
    }
   },
   "source": [
    "## subsetted data export\n",
    "cat(\"R Writing data\\n\")\n",
    "aa<-data.frame(\"logTime\"=log(a.0[,6]),\"logPop\"=log(a.0[,7]),a.0[,6:7])"
   ]
  },
  {
   "cell_type": "markdown",
   "metadata": {},
   "source": [
    "## time-population clustering definitions"
   ]
  },
  {
   "cell_type": "raw",
   "metadata": {
    "ExecuteTime": {
     "end_time": "2019-11-18T11:37:15.663032Z",
     "start_time": "2019-11-18T11:37:10.046Z"
    }
   },
   "source": [
    "## data clustering: can't use k-mean (min in-cluster mean distance)\n",
    "aa$cluster<-ifelse(aa$Time.hr<10,1,ifelse(aa$Time.hr>150,3,2))\n",
    "write.csv(aa,\"../data/Log_data.csv\",quote = F, row.names = F)"
   ]
  },
  {
   "cell_type": "code",
   "execution_count": 200,
   "metadata": {
    "ExecuteTime": {
     "end_time": "2019-11-18T12:37:08.935866Z",
     "start_time": "2019-11-18T12:37:08.880Z"
    }
   },
   "outputs": [],
   "source": [
    "write.table(a.0,\"../data/Log_data.txt\",quote = F, row.names = F, sep=\"\\t\")"
   ]
  },
  {
   "cell_type": "markdown",
   "metadata": {},
   "source": [
    "## trial cluster plots"
   ]
  },
  {
   "cell_type": "code",
   "execution_count": 205,
   "metadata": {
    "ExecuteTime": {
     "end_time": "2019-11-18T12:38:53.097306Z",
     "start_time": "2019-11-18T12:38:52.963Z"
    }
   },
   "outputs": [
    {
     "name": "stdout",
     "output_type": "stream",
     "text": [
      "'data.frame':\t4169 obs. of  8 variables:\n",
      " $ Temp.C       : int  5 5 5 5 5 5 5 5 5 5 ...\n",
      " $ clade        : chr  \"Acinetobacter clacoaceticus\" \"Acinetobacter clacoaceticus\" \"Acinetobacter clacoaceticus\" \"Acinetobacter clacoaceticus\" ...\n",
      " $ substrate    : chr  \"TSB\" \"TSB\" \"TSB\" \"TSB\" ...\n",
      " $ replicate    : int  1 1 1 1 1 1 1 1 1 1 ...\n",
      " $ SourceRef    : chr  \"Bae, Y.M., Zheng, L., Hyun, J.E., Jung, K.S., Heu, S. and Lee, S.Y., 2014. Growth characteristics and biofilm f\"| __truncated__ \"Bae, Y.M., Zheng, L., Hyun, J.E., Jung, K.S., Heu, S. and Lee, S.Y., 2014. Growth characteristics and biofilm f\"| __truncated__ \"Bae, Y.M., Zheng, L., Hyun, J.E., Jung, K.S., Heu, S. and Lee, S.Y., 2014. Growth characteristics and biofilm f\"| __truncated__ \"Bae, Y.M., Zheng, L., Hyun, J.E., Jung, K.S., Heu, S. and Lee, S.Y., 2014. Growth characteristics and biofilm f\"| __truncated__ ...\n",
      " $ Time.hr      : num  672 647 624 599 576 ...\n",
      " $ Popn_Change  : num  0.118 0.12 0.113 0.116 0.118 ...\n",
      " $ Popn_DataUnit: chr  \"OD_595\" \"OD_595\" \"OD_595\" \"OD_595\" ...\n"
     ]
    }
   ],
   "source": [
    "a.0<-read.table(\"../data/Log_data.txt\", header=T, sep=\"\\t\", stringsAsFactors = )\n",
    "str(a.0)"
   ]
  },
  {
   "cell_type": "raw",
   "metadata": {
    "ExecuteTime": {
     "end_time": "2019-11-18T13:49:55.860277Z",
     "start_time": "2019-11-18T13:48:14.619Z"
    }
   },
   "source": [
    "## needed to run\n",
    "library(ggplot2)\n",
    "for(i.1 in unique(a.0$Temp.C)){\n",
    "    for(i.2 in unique(a.0$clade)){\n",
    "        for(i.3 in unique(a.0$substrate)){\n",
    "            for(i.4 in unique(a.0$replicate)){\n",
    "                for(i.5 in unique(a.0$Popn_DataUnit)){\n",
    "                    a.1<-a.0[which(a.0$Temp.C==i.1 &\n",
    "                                   a.0$clade==i.2 &\n",
    "                                  a.0$substrate==i.3 &\n",
    "                                  a.0$replicate==i.4 &\n",
    "                                  a.0$Popn_DataUnit==i.5),]\n",
    "                    if(dim(a.1)[1]>3){ ## max parameter + 1\n",
    "                        ggp<-ggplot()+theme_bw()+\n",
    "                        xlab(\"Time (hr)\")+ylab(\"log population change\")+\n",
    "                        geom_point(aes(y=log(a.1$Popn_Change), x=a.1$Time.hr))\n",
    "                    \n",
    "                        pdf(paste0(\"../sandbox/Log_PreGraph/\",i.1,\"_\",i.2,\"_\",i.3,\"_\",i.4,\"_\",i.5,\".pdf\"))\n",
    "                        print(ggp)\n",
    "                        dev.off()\n",
    "                    }\n",
    "                }\n",
    "            }\n",
    "        }\n",
    "    }\n",
    "}\n",
    "rm(list=ls(pattern=\"i.\"))"
   ]
  },
  {
   "cell_type": "raw",
   "metadata": {
    "ExecuteTime": {
     "end_time": "2019-11-18T11:37:15.760622Z",
     "start_time": "2019-11-18T11:37:10.062Z"
    }
   },
   "source": [
    "## visual cluster plot\n",
    "b<-aa[which(aa$cluster==1),]\n",
    "plot(x=aa[,3], y=aa[,2], col=as.factor(aa$cluster),pch=4)\n",
    "points(x=b[,3], y=b[,2], add=T, col=\"blue\")a\n",
    "rm(b)"
   ]
  },
  {
   "cell_type": "raw",
   "metadata": {
    "ExecuteTime": {
     "end_time": "2019-11-18T11:37:15.870592Z",
     "start_time": "2019-11-18T11:37:10.065Z"
    }
   },
   "source": [
    "## visual cluster plot\n",
    "b<-aa[which(aa$cluster==2),]\n",
    "plot(x=aa[,3], y=aa[,2], col=as.factor(aa$cluster),pch=4)\n",
    "points(x=b[,3], y=b[,2], add=T, col=\"blue\")\n",
    "rm(b)"
   ]
  },
  {
   "cell_type": "raw",
   "metadata": {
    "ExecuteTime": {
     "end_time": "2019-11-18T11:37:15.996937Z",
     "start_time": "2019-11-18T11:37:10.067Z"
    }
   },
   "source": [
    "## visual cluster plot\n",
    "b<-aa[which(aa$cluster==3),]\n",
    "plot(x=aa[,3], y=aa[,2], col=as.factor(aa$cluster),pch=4)\n",
    "points(x=b[,3], y=b[,2], add=T, col=\"blue\")\n",
    "rm(b)"
   ]
  },
  {
   "cell_type": "raw",
   "metadata": {
    "ExecuteTime": {
     "end_time": "2019-11-18T11:37:16.039205Z",
     "start_time": "2019-11-18T11:37:10.070Z"
    }
   },
   "source": [
    "## data description\n",
    "  a.md<-data.frame(colnames(a.0)[-c(6,7)],t(a.0[1,-c(6,7)]),stringsAsFactors = F)\n",
    "  row.names(a.md)=NULL\n",
    "  # colnames(a.md)=c(\"Metadata\",\"Content\")\n",
    "  a.md<-rbind(a.md,c(\"Subset sample size\",dim(a.0)[1]))\n",
    "  a.md<-rbind(a.md,c(\"Normality of log Population Change\",round(shapiro.test(log(a.0$Popn_Change))$p.value,2)))\n",
    "  a.md<-rbind(a.md,c(\"Normality of log time of experiment\",round(shapiro.test(log(a.0$Time.hr))$p.value,2)))\n",
    "  k<-0;for(i in 1:2){j<-ifelse(i<2,\"Time.hr\",\"Population Change\");k<-c(k,paste0(c(\"Min\", \"1stQt\",\"Median\",\"3rdQt\",\"Max\"),\"_\",j))};rm(i,j)\n",
    "  a.md<-data.frame(c(a.md[,1],k[-1]),c(a.md[,2],round(fivenum(a.0$Time.hr),2),round(fivenum(log(a.0$Popn_Change)),2)));rm(k)\n",
    "#  for(i in 1:dim(a.md)[2]){a.md[,i]<-as.character(a.md[,i])};rm(i) ## class issue\n",
    "#  j.0<-c(\"N0\", \"log\", \"K\");for(i in 1:3){\n",
    "#    a.md<-rbind(a.md,c(paste(\"Population change Mean of cluster\",j.0[i]),round(mean(aa[which(aa$cluster==i),4]),2))) ## raw data before log\n",
    "#  };rm(i)"
   ]
  },
  {
   "cell_type": "markdown",
   "metadata": {},
   "source": [
    "## data exporting"
   ]
  },
  {
   "cell_type": "raw",
   "metadata": {
    "ExecuteTime": {
     "end_time": "2019-11-18T11:37:16.063488Z",
     "start_time": "2019-11-18T11:37:10.095Z"
    }
   },
   "source": [
    "write.table(a.md[c(1:6),],\"../data/Log_DataSource.txt\",quote = F, row.names = F, sep = \"\\t\",col.names = F)\n",
    "write.table(a.md[-5,],\"../data/Log_Metadata.txt\",quote = F, row.names = F, sep = \"\\t\",col.names = F)"
   ]
  },
  {
   "cell_type": "markdown",
   "metadata": {},
   "source": [
    "# Data visualization and analysis - R"
   ]
  },
  {
   "cell_type": "markdown",
   "metadata": {},
   "source": [
    "## raw input"
   ]
  },
  {
   "cell_type": "raw",
   "metadata": {
    "ExecuteTime": {
     "end_time": "2019-11-18T11:37:16.095830Z",
     "start_time": "2019-11-18T11:37:10.124Z"
    }
   },
   "source": [
    "a.0<-read.csv(\"../data/Log_data.csv\",header = T)\n",
    "a.1<-read.table(\"../data/Log_Metadata.txt\", sep = \"\\t\", header = F, stringsAsFactors = F, blank.lines.skip = T)"
   ]
  },
  {
   "cell_type": "raw",
   "metadata": {
    "ExecuteTime": {
     "end_time": "2019-11-18T11:37:16.196674Z",
     "start_time": "2019-11-18T11:37:10.127Z"
    }
   },
   "source": [
    "a.0"
   ]
  },
  {
   "cell_type": "markdown",
   "metadata": {},
   "source": [
    "## variables"
   ]
  },
  {
   "cell_type": "raw",
   "metadata": {
    "ExecuteTime": {
     "end_time": "2019-11-18T11:45:41.029119Z",
     "start_time": "2019-11-18T11:45:41.004Z"
    }
   },
   "source": [
    "r.m<-(max(a.0[which(a.0$cluster==2),2])-min(a.0[which(a.0$cluster==2),2])) / (max(a.0[which(a.0$cluster==2),3])-min(a.0[which(a.0$cluster==2),3]))\n",
    "r.b<-max(a.0[which(a.0$cluster==2),2])-r.m*max(a.0[which(a.0$cluster==2),3])\n",
    "r.x<--r.b/r.m"
   ]
  },
  {
   "cell_type": "markdown",
   "metadata": {},
   "source": [
    "# Logistic functions - R"
   ]
  },
  {
   "cell_type": "markdown",
   "metadata": {},
   "source": [
    "## Verhulst / classical logistic\n",
    "\\begin{equation}\n",
    "N_t = \\dfrac{N_0Ke^{rt}}{K+N_0(e^{rt}-1)}\n",
    "\\end{equation}\n",
    "further adaptations: None"
   ]
  },
  {
   "cell_type": "code",
   "execution_count": 192,
   "metadata": {
    "ExecuteTime": {
     "end_time": "2019-11-18T12:19:29.720905Z",
     "start_time": "2019-11-18T12:19:26.034Z"
    }
   },
   "outputs": [],
   "source": [
    "func_log0<-function(N0=mean(a.0[which(a.0$cluster==1),4]),\n",
    "                    K=mean(a.0[which(a.0$cluster==3),4]),\n",
    "                    r=r.m, t){\n",
    "  ## traditional Logistic equation: y~x\n",
    "  Nt=N0*K*exp(r*t)/(K+N0*(exp(r*t)-1))\n",
    "  return(Nt)}"
   ]
  },
  {
   "cell_type": "markdown",
   "metadata": {},
   "source": [
    "## modified Gompertz\n",
    "\\begin{equation}\n",
    "A = \\text{ln}(\\dfrac{N_{max}}{N_{min}})\n",
    "\\end{equation}\n",
    "\n",
    "\\begin{equation}\n",
    "N_t = A \\cdot\\text{exp}\\Big\\{-\\text{exp}\\Big[\\dfrac{r_{max}e}{A}(\\lambda-t)+1\\Big]\\Big\\}\n",
    "\\end{equation}\n",
    "further adaptations:  \n",
    "\\begin{equation*}\n",
    "N_t = \\text{exp}\\Big(A \\cdot\\text{exp}\\Big\\{-\\text{exp}\\Big[\\dfrac{r_{max}e}{A}(\\lambda-t)+1\\Big]\\Big\\}\\times1.1\\Big)\n",
    "\\end{equation*}\n",
    "1. assume $r_{max}$ = $r$\n",
    "2. assume $N_{min}$ = $N_0$\n",
    "3. assume $N_{max}$ = $K$"
   ]
  },
  {
   "cell_type": "code",
   "execution_count": 193,
   "metadata": {
    "ExecuteTime": {
     "end_time": "2019-11-18T12:19:29.738340Z",
     "start_time": "2019-11-18T12:19:26.052Z"
    }
   },
   "outputs": [],
   "source": [
    "func_gom<-function(N0=mean(a.0[which(a.0$cluster==1),4]),\n",
    "                   K=mean(a.0[which(a.0$cluster==3),4]),\n",
    "                   r=r.m, t,\n",
    "                   ld=r.x){\n",
    "  ## modified Gompertz model, initial \n",
    "  A=log(K/N0)\n",
    "  Nt=A*exp(-exp(r*exp(1)/A*(ld-t)+1))\n",
    "  return(Nt)}"
   ]
  },
  {
   "cell_type": "markdown",
   "metadata": {},
   "source": [
    "## Baranyi\n",
    "\\begin{equation}\n",
    "h_0 = (\\text{exp}\\{\\lambda\\times r_{max}\\}-1)^{-1}\n",
    "\\end{equation}\n",
    "\n",
    "\\begin{equation}\n",
    "A_t = t+\\dfrac{1}{r_{max}}\\cdot\\text{ln}\\Big(\\dfrac{e^{-r_{max}t}+h_0}{1+h_0}\\Big)\n",
    "\\end{equation}\n",
    "\n",
    "\\begin{equation}\n",
    "N_t = N_{min}+r_{max}A_t - \\text{ln}\\Big(1+\\dfrac{e^{r_{max}A_t}-1}{e^{N_{max}-N_{min}}}\\Big)\n",
    "\\end{equation}\n",
    "further adaptations:\n",
    "\\begin{equation*}\n",
    "N_t = N_{min}+e^{r_{max}A_t} - \\text{ln}\\Big(1+\\dfrac{e^{r_{max}A_t}-1}{e^{N_{max}-N_{min}}}\\Big)\n",
    "\\end{equation*}\n",
    "1. assume $r_{max}$ = $r$\n",
    "2. assume $N_{min}$ = $N_0$\n",
    "3. assume $N_{max}$ = $K$"
   ]
  },
  {
   "cell_type": "code",
   "execution_count": 194,
   "metadata": {
    "ExecuteTime": {
     "end_time": "2019-11-18T12:19:29.758164Z",
     "start_time": "2019-11-18T12:19:26.071Z"
    }
   },
   "outputs": [],
   "source": [
    "func_bar<-function(N0=mean(a.0[which(a.0$cluster==1),4]),\n",
    "                   K=mean(a.0[which(a.0$cluster==3),4]),\n",
    "                   r=r.m, t,\n",
    "                   tlag=max(a.0[which(a.0$cluster==1),3])){\n",
    "  ## Baranyi model\n",
    "  h0=1/(exp(tlag*r)-1)\n",
    "  At=t+1/r*log((exp(-r*t)+h0)/(1+h0))\n",
    "  Nt=sqrt(N0+r*At-log(1+(exp(r*At)-1)/exp(K-N0)))*(At*t^(1/111))\n",
    "  return(Nt)}"
   ]
  },
  {
   "cell_type": "markdown",
   "metadata": {},
   "source": [
    "## Buchanan\n",
    "\\begin{equation}\n",
    "t \\leq t_{lag}: N_t = N_{min}\n",
    "\\end{equation}\n",
    "\n",
    "\\begin{equation}\n",
    "t_{lag} \\lt t \\lt t_{max}: N_t = N_{max} + r_{max}\\cdot(t-t_{lag})\n",
    "\\end{equation}\n",
    "\n",
    "\\begin{equation}\n",
    "t \\geq t_{max}: N_t = N_{max}\n",
    "\\end{equation}\n",
    "\n",
    "if \"lag\", \"log\" and \"stationary\" periods = cluster $[cst]$ 1, 2, 3 respectively,  \n",
    "further adaptations:\n",
    "1. equation fusion from three into one\n",
    "2. assume $r_{max}$ = $r$\n",
    "3. assume $N_{min}$ = $N_0$\n",
    "4. assume $N_{max}$ = $K$\n",
    "\n",
    "make only log phase valid for log-phase term:\n",
    "\\begin{equation*}\n",
    "a.010 = ([cst]-1)mod\\;2\n",
    "\\end{equation*}\n",
    "\n",
    "make only stationary phase valid to base number on K:\n",
    "\\begin{equation*}\n",
    "a.001 = \\text{round-up}([cst]mod\\;2.5\\;mod\\;1)\n",
    "\\end{equation*}\n",
    "%% LatTex spacing in Math mode <http://www.emerson.emory.edu/services/latex/latex_119.html>\n",
    "\n",
    "Final conditional equation:\n",
    "\\begin{equation*}\n",
    "N_t = N_{min}+a.001\\times(N_{max}-N_{min})+a.010\\times\\text{exp}(r\\times(t-t_{lag}))\n",
    "\\end{equation*}"
   ]
  },
  {
   "cell_type": "code",
   "execution_count": 195,
   "metadata": {
    "ExecuteTime": {
     "end_time": "2019-11-18T12:19:29.779137Z",
     "start_time": "2019-11-18T12:19:26.091Z"
    }
   },
   "outputs": [],
   "source": [
    "func_buc<-function(N0=mean(a.0[which(a.0$cluster==1),4]),\n",
    "                   K=mean(a.0[which(a.0$cluster==3),4]),\n",
    "                   r=exp(r.m), t,\n",
    "                   tlag=max(a.0[which(a.0$cluster==1),3]),\n",
    "                   cst=as.numeric(a.0$cluster)){\n",
    "  ## Buchanan model / three-phase logistic model\n",
    "  a.010=(cst-1)%%2 ## make only log phase valid in growth rate\n",
    "  a.001=ceiling(cst%%2.5%%1) ## make only final phase valid\n",
    "  Nt=N0+a.001*(K-N0)+a.010*r*(t-tlag)\n",
    "  return(Nt)}"
   ]
  },
  {
   "cell_type": "markdown",
   "metadata": {},
   "source": [
    "## trial plots (associating block floating)"
   ]
  },
  {
   "cell_type": "raw",
   "metadata": {
    "ExecuteTime": {
     "end_time": "2019-11-18T11:05:18.892150Z",
     "start_time": "2019-11-18T11:05:12.846Z"
    }
   },
   "source": [
    "# trial plots (associating block)\n",
    "# for(i in 1:length(a.0[,3])){\n",
    "#   j<-a.0[i,3]\n",
    "#   print(paste(i,j,func_bar(t=j)))};rm(i,j)\n",
    "plot(log(a.0[,4])~a.0[,3], xlab=\"Time (hr)\", ylab=\"log Population Size\")\n",
    "points(log(func_log0(t=a.0[,3]))~a.0[,3], pch=4, col=\"brown\", add=T)\n",
    "points(log(func_gom(t=a.0[,3]))~a.0[,3], pch=4, col=\"pink\", add=T)\n",
    "points(log(func_bar(t=a.0[,3]))~a.0[,3], pch=4, col=\"red\", add=T)\n",
    "points(log(func_buc(t=a.0[,3]))~a.0[,3], pch=4, col=\"green\", add=T)"
   ]
  },
  {
   "cell_type": "raw",
   "metadata": {
    "ExecuteTime": {
     "end_time": "2019-11-18T11:49:46.379301Z",
     "start_time": "2019-11-18T11:49:45.812Z"
    }
   },
   "source": [
    "a.1<-data.frame(a.0,c(rep(\"Verhulst (classical)\",dim(a.0)[1]),rep(\"modified Gompertz\",dim(a.0)[1]),rep(\"Baranyi\",dim(a.0)[1]),rep(\"Buchanan\",dim(a.0)[1])),c(func_log0(t=a.0[,3]),func_gom(t=a.0[,3]),func_bar(t=a.0[,3]),func_buc(t=a.0[,3])))\n",
    "colnames(a.1)=c(colnames(a.0),\"Models\",\"Values\")\n",
    "\n",
    "library(ggplot2)\n",
    "\n",
    "ggplot()+theme_bw()+\n",
    "xlab(\"Time (hr)\")+ylab(\"log Population Size\")+\n",
    "scale_linetype_discrete(name=\"Models\")+\n",
    "geom_point(aes(y=log(a.0[,4]), x=a.0[,3]))+\n",
    "geom_line(aes(y=log(a.1$Values), x=a.1[,3], linetype=a.1$Models))"
   ]
  },
  {
   "cell_type": "markdown",
   "metadata": {},
   "source": [
    "# NLLS - R"
   ]
  },
  {
   "cell_type": "markdown",
   "metadata": {},
   "source": [
    "## library"
   ]
  },
  {
   "cell_type": "code",
   "execution_count": 196,
   "metadata": {
    "ExecuteTime": {
     "end_time": "2019-11-18T12:19:29.798578Z",
     "start_time": "2019-11-18T12:19:26.530Z"
    }
   },
   "outputs": [],
   "source": [
    "library(minpack.lm)"
   ]
  },
  {
   "cell_type": "markdown",
   "metadata": {},
   "source": [
    "## Verhulst / classical logistic"
   ]
  },
  {
   "cell_type": "raw",
   "metadata": {
    "ExecuteTime": {
     "end_time": "2019-11-18T11:40:55.724552Z",
     "start_time": "2019-11-18T11:40:55.698Z"
    }
   },
   "source": [
    "nls_log0<-nlsLM(Popn_Change ~ func_log0(N0, K, r, t=a.0$Time.hr), data = a.0,\n",
    "                start = list(N0=mean(a.0[which(a.0$cluster==1),4]),\n",
    "                             K=mean(a.0[which(a.0$cluster==3),4]),\n",
    "                             r=r.m),\n",
    "                lower = c(min(a.0[which(a.0[,5]==1),4]),\n",
    "                          min(a.0[which(a.0[,5]==3),4]),\n",
    "                          r.m-1),\n",
    "                upper = c(max(a.0[which(a.0[,5]==1),4]),\n",
    "                          max(a.0[which(a.0[,5]==3),4]),\n",
    "                          r.m+1))\n",
    "nls_log0"
   ]
  },
  {
   "cell_type": "raw",
   "metadata": {
    "ExecuteTime": {
     "end_time": "2019-11-18T11:37:17.185506Z",
     "start_time": "2019-11-18T11:37:10.488Z"
    }
   },
   "source": [
    "coef(nls_log0)\n",
    "var_log0<-unname(coef(nls_log0))"
   ]
  },
  {
   "cell_type": "markdown",
   "metadata": {},
   "source": [
    "## modified Gompertz"
   ]
  },
  {
   "cell_type": "raw",
   "metadata": {
    "ExecuteTime": {
     "end_time": "2019-11-18T11:41:25.192069Z",
     "start_time": "2019-11-18T11:41:25.091Z"
    }
   },
   "source": [
    "nls_gom<-nlsLM(Popn_Change ~ func_gom(N0, K, r, t=a.0$Time.hr, ld), data = a.0,\n",
    "               start = list(N0=mean(a.0[which(a.0$cluster==1),4]),\n",
    "                            K=mean(a.0[which(a.0$cluster==3),4]),\n",
    "                            r=r.m,\n",
    "                            ld=r.x),\n",
    "               lower = c(min(a.0[which(a.0[,5]==1),4]),\n",
    "                         min(a.0[which(a.0[,5]==3),4]),\n",
    "                         r.m-1,\n",
    "                         r.x-1),\n",
    "               upper = c(max(a.0[which(a.0[,5]==1),4]),\n",
    "                         max(a.0[which(a.0[,5]==3),4]),\n",
    "                         r.m+1,\n",
    "                         r.x+1))\n",
    "nls_gom"
   ]
  },
  {
   "cell_type": "raw",
   "metadata": {
    "ExecuteTime": {
     "end_time": "2019-11-18T11:37:17.237445Z",
     "start_time": "2019-11-18T11:37:10.504Z"
    }
   },
   "source": [
    "coef(nls_gom)\n",
    "var_gom<-unname(coef(nls_gom))"
   ]
  },
  {
   "cell_type": "markdown",
   "metadata": {},
   "source": [
    "## Baranyi"
   ]
  },
  {
   "cell_type": "raw",
   "metadata": {
    "ExecuteTime": {
     "end_time": "2019-11-18T11:00:33.155093Z",
     "start_time": "2019-11-18T11:00:26.348Z"
    }
   },
   "source": [
    "nls_bar<-nlsLM(Popn_Change ~ func_bar(N0, K, r, t=a.0$Time.hr, tlag), data = a.0,\n",
    "               start = list(N0=as.numeric(a.1[20,2]),\n",
    "                            K=as.numeric(a.1[21,2]),\n",
    "                            r=r.m,\n",
    "                            tlag=max(a.0[which(a.0$cluster==1),3])),\n",
    "               lower = c(min(a.0[which(a.0[,5]==1),4]),\n",
    "                         min(a.0[which(a.0[,5]==3),4]),\n",
    "                         r.m-1,\n",
    "                         max(a.0[which(a.0$cluster==1),3])-mean(a.0[which(a.0$cluster==1),3])),\n",
    "               upper = c(max(a.0[which(a.0[,5]==1),4]),\n",
    "                         max(a.0[which(a.0[,5]==3),4]),\n",
    "                         r.m+1,\n",
    "                         max(a.0[which(a.0$cluster==1),3])+mean(a.0[which(a.0$cluster==1),3])))\n",
    "nls_bar"
   ]
  },
  {
   "cell_type": "markdown",
   "metadata": {},
   "source": [
    "## Buchanan"
   ]
  },
  {
   "cell_type": "raw",
   "metadata": {
    "ExecuteTime": {
     "end_time": "2019-11-18T11:10:03.629908Z",
     "start_time": "2019-11-18T11:10:03.601Z"
    }
   },
   "source": [
    "nls_buc<-nlsLM(Popn_Change ~ func_buc(N0, K, r, t=a.0$Time.hr, tlag, cst), data = a.0,\n",
    "               start = list(N0=as.numeric(a.1[20,2]),\n",
    "                            K=as.numeric(a.1[21,2]),\n",
    "                            r=r.m,\n",
    "                           tlag=max(a.0[which(a.0[,5]==1),3]),\n",
    "                           cst=3),\n",
    "               lower = c(min(a.0[which(a.0[,5]==1),4]),\n",
    "                         min(a.0[which(a.0[,5]==3),4]),\n",
    "                         r.m-1,\n",
    "                        tlag=0,\n",
    "                        cst=3),\n",
    "               upper = c(max(a.0[which(a.0[,5]==1),4]),\n",
    "                         max(a.0[which(a.0[,5]==3),4]),\n",
    "                         r.m+1,\n",
    "                        tlag=max(a.0[which(a.0[,5]==1),3]),\n",
    "                        cst=3))\n",
    "nls_buc"
   ]
  },
  {
   "cell_type": "raw",
   "metadata": {
    "ExecuteTime": {
     "end_time": "2019-11-18T11:05:19.093603Z",
     "start_time": "2019-11-18T11:05:13.047Z"
    }
   },
   "source": [
    "coef(nls_buc)\n",
    "var_buc<-unname(coef(nls_buc))"
   ]
  },
  {
   "cell_type": "markdown",
   "metadata": {},
   "source": [
    "# NLLS - py3"
   ]
  },
  {
   "cell_type": "code",
   "execution_count": null,
   "metadata": {},
   "outputs": [],
   "source": []
  },
  {
   "cell_type": "markdown",
   "metadata": {},
   "source": [
    "# Data plotting - R"
   ]
  },
  {
   "cell_type": "markdown",
   "metadata": {},
   "source": [
    "## library"
   ]
  },
  {
   "cell_type": "raw",
   "metadata": {
    "ExecuteTime": {
     "end_time": "2019-11-18T11:41:37.330185Z",
     "start_time": "2019-11-18T11:41:37.252Z"
    }
   },
   "source": [
    "library(ggplot2)\n",
    "library(reshape2)\n",
    "library(scales) ## rescale ggplot without eliminate bars"
   ]
  },
  {
   "cell_type": "markdown",
   "metadata": {},
   "source": [
    "## colouring"
   ]
  },
  {
   "cell_type": "code",
   "execution_count": 197,
   "metadata": {
    "ExecuteTime": {
     "end_time": "2019-11-18T12:19:29.818737Z",
     "start_time": "2019-11-18T12:19:28.596Z"
    }
   },
   "outputs": [],
   "source": [
    "cbbPalette <- c(\"#000000\", \"#E69F00\", \"#56B4E9\", \"#009E73\", \"#F0E442\", \"#0072B2\", \"#D55E00\", \"#CC79A7\", \"#e79f00\", \"#9ad0f3\", \"#F0E442\", \"#999999\", \"#cccccc\", \"#6633ff\", \"#00FFCC\", \"#0066cc\")"
   ]
  },
  {
   "cell_type": "markdown",
   "metadata": {},
   "source": [
    "## calculation from functions"
   ]
  },
  {
   "cell_type": "raw",
   "metadata": {
    "ExecuteTime": {
     "end_time": "2019-11-18T11:41:40.660127Z",
     "start_time": "2019-11-18T11:41:39.210Z"
    }
   },
   "source": [
    "a.0$log0<-func_log0(t=a.0$Time.hr)\n",
    "a.0$gom<-func_gom(t=a.0$Time.hr)\n",
    "# a.0$bar<-func_bar(t=a.0$Time.hr)\n",
    "a.0$buc<-func_buc(t=a.0$Time.hr)"
   ]
  },
  {
   "cell_type": "markdown",
   "metadata": {},
   "source": [
    "## melting calculation result for ggplot2"
   ]
  },
  {
   "cell_type": "raw",
   "metadata": {
    "ExecuteTime": {
     "end_time": "2019-11-18T11:41:42.346929Z",
     "start_time": "2019-11-18T11:41:40.513Z"
    }
   },
   "source": [
    "a.2<-melt(a.0[,-c(1,2,4,5)],id=\"Time.hr\",variable.name = \"model\",value.name = \"ExpPop\")"
   ]
  },
  {
   "cell_type": "markdown",
   "metadata": {},
   "source": [
    "## ggplot2 plotting"
   ]
  },
  {
   "cell_type": "raw",
   "metadata": {
    "ExecuteTime": {
     "end_time": "2019-11-18T11:41:44.671245Z",
     "start_time": "2019-11-18T11:41:43.520Z"
    }
   },
   "source": [
    "ggp<-ggplot()+theme_bw()+\n",
    "  theme(axis.title = element_text(size = 20),\n",
    "        axis.text = element_text(size = 20),\n",
    "        legend.text = element_text(size = 15))+\n",
    "  geom_point(aes(x=a.0$Time.hr, y=abs(a.0$Popn_Change), colour=as.factor(a.0$cluster)),shape=4)+\n",
    "  geom_line(aes(x=a.2$Time.hr, y=a.2$ExpPop, linetype=a.2$model))+\n",
    "  scale_colour_manual(name=\"Phase cluster\",\n",
    "                      values = cbbPalette[c(4,2,6)],\n",
    "                      labels=c(\"lag\",\"exponential / log\",\"stationary\"))+\n",
    "  scale_linetype_manual(name=\"Models\",\n",
    "                        values = c(1,3,5,6),\n",
    "                        labels=c(\"Verhulst (classical)\",\"modified Gompertz\",\"Buchanan\"))+\n",
    "#                        labels=c(\"Verhulst (classical)\",\"modified Gompertz\",\"Baranyi\",\"Buchanan\"))+\n",
    "  scale_y_continuous(labels = scientific,\n",
    "                     trans = \"log10\",\n",
    "                     limits = c(min(abs(a.0$Popn_Change)-.5),max(abs(a.0$Popn_Change))+.5),\n",
    "                     oob = rescale_none)+ ## <https://stackoverflow.com/questions/10365167/geom-bar-bars-not-displaying-when-specifying-ylim>\n",
    "  xlab(\"Time (hr)\")+ylab(\"log population change\")\n",
    "ggp"
   ]
  },
  {
   "cell_type": "raw",
   "metadata": {
    "ExecuteTime": {
     "end_time": "2019-11-15T19:06:15.607767Z",
     "start_time": "2019-11-15T19:06:02.983Z"
    }
   },
   "source": [
    "pdf(\"../results/Log_data.pdf\", width = 13)\n",
    "ggp\n",
    "dev.off()"
   ]
  }
 ],
 "metadata": {
  "author": "mes",
  "kernelspec": {
   "display_name": "R",
   "language": "R",
   "name": "ir"
  },
  "language_info": {
   "codemirror_mode": "r",
   "file_extension": ".r",
   "mimetype": "text/x-r-source",
   "name": "R",
   "pygments_lexer": "r",
   "version": "3.6.0"
  },
  "latex_envs": {
   "LaTeX_envs_menu_present": true,
   "autoclose": true,
   "autocomplete": true,
   "bibliofile": "biblio.bib",
   "cite_by": "apalike",
   "current_citInitial": 1,
   "eqLabelWithNumbers": true,
   "eqNumInitial": 1,
   "hotkeys": {
    "equation": "Ctrl-E",
    "itemize": "Ctrl-I"
   },
   "labels_anchors": false,
   "latex_user_defs": false,
   "report_style_numbering": true,
   "user_envs_cfg": true
  },
  "varInspector": {
   "cols": {
    "lenName": 16,
    "lenType": 16,
    "lenVar": 40
   },
   "kernels_config": {
    "python": {
     "delete_cmd_postfix": "",
     "delete_cmd_prefix": "del ",
     "library": "var_list.py",
     "varRefreshCmd": "print(var_dic_list())"
    },
    "r": {
     "delete_cmd_postfix": ") ",
     "delete_cmd_prefix": "rm(",
     "library": "var_list.r",
     "varRefreshCmd": "cat(var_dic_list()) "
    }
   },
   "types_to_exclude": [
    "module",
    "function",
    "builtin_function_or_method",
    "instance",
    "_Feature"
   ],
   "window_display": false
  }
 },
 "nbformat": 4,
 "nbformat_minor": 2
}
